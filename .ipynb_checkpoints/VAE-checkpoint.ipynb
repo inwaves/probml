{
 "cells": [
  {
   "cell_type": "markdown",
   "id": "upper-charm",
   "metadata": {},
   "source": [
    "# VAE on MNIST\n",
    "\n",
    "This is for Question (f) of the assignment. I need it to be tidy, so I can experiment with it."
   ]
  },
  {
   "cell_type": "markdown",
   "id": "thick-coach",
   "metadata": {},
   "source": [
    "## Imports"
   ]
  },
  {
   "cell_type": "code",
   "execution_count": 1,
   "id": "frequent-roller",
   "metadata": {},
   "outputs": [
    {
     "data": {
      "image/png": "[encoded data removed]",
      "text/plain": [
       "<Figure size 432x288 with 1 Axes>"
      ]
     },
     "metadata": {
      "needs_background": "light"
     },
     "output_type": "display_data"
    }
   ],
   "source": [
    "import pandas\n",
    "import matplotlib.pyplot as plt\n",
    "import numpy as np\n",
    "import torch.nn as nn\n",
    "import torch.optim as optim\n",
    "import torch\n",
    "import torchvision\n",
    "\n",
    "import random\n",
    "\n",
    "mnist = torchvision.datasets.MNIST(\n",
    "    root = 'pytorch-data/',  # where to put the files\n",
    "    download = True,         # if files aren't here, download them\n",
    "    train = True,            # whether to import the test or the train subset\n",
    "    # PyTorch uses PyTorch tensors internally, not numpy arrays, so convert them.\n",
    "    transform = torchvision.transforms.ToTensor()\n",
    ")\n",
    "\n",
    "# Images can be plotted with matplotlib imshow\n",
    "show = [mnist[i] for i in [59289, 28001, 35508, 43876, 23627, 14028]]\n",
    "show = torch.stack([img for img,lbl in show])\n",
    "x = torchvision.utils.make_grid(show, nrow=6, pad_value=1)\n",
    "plt.imshow(x.numpy().transpose((1,2,0)))\n",
    "plt.axis('off')\n",
    "plt.show()\n",
    "\n",
    "mnist_batched = torch.utils.data.DataLoader(mnist, batch_size=100)"
   ]
  },
  {
   "cell_type": "markdown",
   "id": "sunrise-monday",
   "metadata": {},
   "source": [
    "# Models"
   ]
  },
  {
   "cell_type": "markdown",
   "id": "contemporary-tsunami",
   "metadata": {},
   "source": [
    "## Simple d-dimensional VAE"
   ]
  },
  {
   "cell_type": "code",
   "execution_count": 21,
   "id": "confused-smell",
   "metadata": {
    "jupyter": {
     "source_hidden": true
    }
   },
   "outputs": [],
   "source": [
    "class BernoulliImageGenerator(nn.Module):\n",
    "    def __init__(self, d=4):\n",
    "        super().__init__()\n",
    "        self.d = d\n",
    "        self.f = nn.Sequential(\n",
    "            nn.Linear(d, 128),\n",
    "            nn.LeakyReLU(),\n",
    "            nn.Linear(128, 1728),\n",
    "            nn.LeakyReLU(),\n",
    "            nn.Unflatten(1, (12,12,12)), # -> B×12×12×12\n",
    "            nn.Conv2d(12, 36, 3, 1),     # -> [B×36×10×10]\n",
    "            nn.LeakyReLU(),\n",
    "            nn.Flatten(1),               # -> [B×3600]\n",
    "            nn.Unflatten(1, (4,30,30)),  # -> [B×4×30×30]\n",
    "            nn.Conv2d(4, 4, 3, 1),       # -> [B×4×28×28]\n",
    "            nn.LeakyReLU(),\n",
    "            nn.Conv2d(4, 1, 1, 1),       # -> [B×1×28×28]\n",
    "            nn.Sigmoid()\n",
    "        )\n",
    "\n",
    "    def forward(self, z):\n",
    "        return self.f(z)\n",
    "\n",
    "    def loglik(self, x, z):\n",
    "        xr = self(z)\n",
    "        return (x*torch.log(xr) + (1-x)*torch.log(1-xr)).sum((1,2,3))\n",
    "\n",
    "\n",
    "class GaussianEncoder(nn.Module):\n",
    "    def __init__(self, decoder):\n",
    "        super().__init__()\n",
    "        self.d = decoder.d\n",
    "        self.f = decoder\n",
    "        self.g = nn.Sequential(\n",
    "            nn.Conv2d(1, 32, 3, 1),\n",
    "            nn.LeakyReLU(),\n",
    "            nn.Conv2d(32, 64, 3, 1),\n",
    "            nn.MaxPool2d(2),\n",
    "            nn.Flatten(1),\n",
    "            nn.Linear(9216, 128),\n",
    "            nn.LeakyReLU(),\n",
    "            nn.Linear(128, self.d*2)\n",
    "        )\n",
    "\n",
    "    def forward(self, x):\n",
    "        μτ = self.g(x)\n",
    "        μ,τ = μτ[:,:self.d], μτ[:,self.d:]\n",
    "        return μ, torch.exp(τ/2)\n",
    "\n",
    "    def loglik_lb(self, x):\n",
    "        μ,σ = self(x)\n",
    "        kl = 0.5 * (μ**2 + σ**2 - torch.log(σ**2) - 1).sum(1)\n",
    "        ε = torch.randn_like(σ)\n",
    "        ll = self.f.loglik(x, z=μ+σ*ε)\n",
    "        return ll - kl"
   ]
  },
  {
   "cell_type": "markdown",
   "id": "silent-seventh",
   "metadata": {},
   "source": [
    "### Train me!"
   ]
  },
  {
   "cell_type": "code",
   "execution_count": 22,
   "id": "awful-melissa",
   "metadata": {
    "collapsed": true,
    "jupyter": {
     "outputs_hidden": true,
     "source_hidden": true
    }
   },
   "outputs": [
    {
     "name": "stdout",
     "output_type": "stream",
     "text": [
      "epoch: 1, loglikelihood: -155.5\n",
      "epoch: 2, loglikelihood: -141.5\n",
      "epoch: 3, loglikelihood: -136.6\n",
      "epoch: 4, loglikelihood: -134.3\n",
      "epoch: 5, loglikelihood: -132.3\n",
      "epoch: 6, loglikelihood: -130.9\n",
      "epoch: 7, loglikelihood: -128.5\n",
      "epoch: 8, loglikelihood: -128.2\n",
      "epoch: 9, loglikelihood: -127.0\n",
      "epoch: 10, loglikelihood: -128.0\n",
      "epoch: 11, loglikelihood: -127.4\n",
      "epoch: 12, loglikelihood: -126.1\n",
      "epoch: 13, loglikelihood: -124.9\n",
      "epoch: 14, loglikelihood: -124.9\n",
      "epoch: 15, loglikelihood: -124.1\n",
      "epoch: 16, loglikelihood: -123.2\n",
      "epoch: 17, loglikelihood: -122.6\n",
      "epoch: 18, loglikelihood: -122.4\n"
     ]
    },
    {
     "ename": "KeyboardInterrupt",
     "evalue": "",
     "output_type": "error",
     "traceback": [
      "\u001b[0;31m---------------------------------------------------------------------------\u001b[0m",
      "\u001b[0;31mKeyboardInterrupt\u001b[0m                         Traceback (most recent call last)",
      "\u001b[0;32m<ipython-input-22-3fc48543f704>\u001b[0m in \u001b[0;36m<module>\u001b[0;34m\u001b[0m\n\u001b[1;32m      7\u001b[0m         \u001b[0moptimizer\u001b[0m\u001b[0;34m.\u001b[0m\u001b[0mzero_grad\u001b[0m\u001b[0;34m(\u001b[0m\u001b[0;34m)\u001b[0m\u001b[0;34m\u001b[0m\u001b[0;34m\u001b[0m\u001b[0m\n\u001b[1;32m      8\u001b[0m         \u001b[0mloglik_lb\u001b[0m \u001b[0;34m=\u001b[0m \u001b[0mtorch\u001b[0m\u001b[0;34m.\u001b[0m\u001b[0mmean\u001b[0m\u001b[0;34m(\u001b[0m\u001b[0msimple_vae\u001b[0m\u001b[0;34m.\u001b[0m\u001b[0mloglik_lb\u001b[0m\u001b[0;34m(\u001b[0m\u001b[0mimages\u001b[0m\u001b[0;34m)\u001b[0m\u001b[0;34m)\u001b[0m\u001b[0;34m\u001b[0m\u001b[0;34m\u001b[0m\u001b[0m\n\u001b[0;32m----> 9\u001b[0;31m         \u001b[0;34m(\u001b[0m\u001b[0;34m-\u001b[0m\u001b[0mloglik_lb\u001b[0m\u001b[0;34m)\u001b[0m\u001b[0;34m.\u001b[0m\u001b[0mbackward\u001b[0m\u001b[0;34m(\u001b[0m\u001b[0;34m)\u001b[0m\u001b[0;34m\u001b[0m\u001b[0;34m\u001b[0m\u001b[0m\n\u001b[0m\u001b[1;32m     10\u001b[0m         \u001b[0moptimizer\u001b[0m\u001b[0;34m.\u001b[0m\u001b[0mstep\u001b[0m\u001b[0;34m(\u001b[0m\u001b[0;34m)\u001b[0m\u001b[0;34m\u001b[0m\u001b[0;34m\u001b[0m\u001b[0m\n\u001b[1;32m     11\u001b[0m     \u001b[0mepoch\u001b[0m \u001b[0;34m+=\u001b[0m \u001b[0;36m1\u001b[0m\u001b[0;34m\u001b[0m\u001b[0;34m\u001b[0m\u001b[0m\n",
      "\u001b[0;32m~/anaconda3/envs/my_first_env/lib/python3.8/site-packages/torch/tensor.py\u001b[0m in \u001b[0;36mbackward\u001b[0;34m(self, gradient, retain_graph, create_graph)\u001b[0m\n\u001b[1;32m    219\u001b[0m                 \u001b[0mretain_graph\u001b[0m\u001b[0;34m=\u001b[0m\u001b[0mretain_graph\u001b[0m\u001b[0;34m,\u001b[0m\u001b[0;34m\u001b[0m\u001b[0;34m\u001b[0m\u001b[0m\n\u001b[1;32m    220\u001b[0m                 create_graph=create_graph)\n\u001b[0;32m--> 221\u001b[0;31m         \u001b[0mtorch\u001b[0m\u001b[0;34m.\u001b[0m\u001b[0mautograd\u001b[0m\u001b[0;34m.\u001b[0m\u001b[0mbackward\u001b[0m\u001b[0;34m(\u001b[0m\u001b[0mself\u001b[0m\u001b[0;34m,\u001b[0m \u001b[0mgradient\u001b[0m\u001b[0;34m,\u001b[0m \u001b[0mretain_graph\u001b[0m\u001b[0;34m,\u001b[0m \u001b[0mcreate_graph\u001b[0m\u001b[0;34m)\u001b[0m\u001b[0;34m\u001b[0m\u001b[0;34m\u001b[0m\u001b[0m\n\u001b[0m\u001b[1;32m    222\u001b[0m \u001b[0;34m\u001b[0m\u001b[0m\n\u001b[1;32m    223\u001b[0m     \u001b[0;32mdef\u001b[0m \u001b[0mregister_hook\u001b[0m\u001b[0;34m(\u001b[0m\u001b[0mself\u001b[0m\u001b[0;34m,\u001b[0m \u001b[0mhook\u001b[0m\u001b[0;34m)\u001b[0m\u001b[0;34m:\u001b[0m\u001b[0;34m\u001b[0m\u001b[0;34m\u001b[0m\u001b[0m\n",
      "\u001b[0;32m~/anaconda3/envs/my_first_env/lib/python3.8/site-packages/torch/autograd/__init__.py\u001b[0m in \u001b[0;36mbackward\u001b[0;34m(tensors, grad_tensors, retain_graph, create_graph, grad_variables)\u001b[0m\n\u001b[1;32m    128\u001b[0m         \u001b[0mretain_graph\u001b[0m \u001b[0;34m=\u001b[0m \u001b[0mcreate_graph\u001b[0m\u001b[0;34m\u001b[0m\u001b[0;34m\u001b[0m\u001b[0m\n\u001b[1;32m    129\u001b[0m \u001b[0;34m\u001b[0m\u001b[0m\n\u001b[0;32m--> 130\u001b[0;31m     Variable._execution_engine.run_backward(\n\u001b[0m\u001b[1;32m    131\u001b[0m         \u001b[0mtensors\u001b[0m\u001b[0;34m,\u001b[0m \u001b[0mgrad_tensors_\u001b[0m\u001b[0;34m,\u001b[0m \u001b[0mretain_graph\u001b[0m\u001b[0;34m,\u001b[0m \u001b[0mcreate_graph\u001b[0m\u001b[0;34m,\u001b[0m\u001b[0;34m\u001b[0m\u001b[0;34m\u001b[0m\u001b[0m\n\u001b[1;32m    132\u001b[0m         allow_unreachable=True)  # allow_unreachable flag\n",
      "\u001b[0;31mKeyboardInterrupt\u001b[0m: "
     ]
    }
   ],
   "source": [
    "simple_vae = GaussianEncoder(BernoulliImageGenerator())\n",
    "optimizer = optim.Adam(simple_vae.parameters())\n",
    "epoch = 0\n",
    "\n",
    "while epoch < 50:\n",
    "    for batch_num, (images, labels) in enumerate(mnist_batched):\n",
    "        optimizer.zero_grad()\n",
    "        loglik_lb = torch.mean(simple_vae.loglik_lb(images))\n",
    "        (-loglik_lb).backward()\n",
    "        optimizer.step()\n",
    "    epoch += 1\n",
    "    print(f\"epoch: {epoch}, loglikelihood: {loglik_lb.item():.4}\")\n",
    "    \n",
    "    # Save the trained model, we'll reuse it for the questions.\n",
    "    torch.save(simple_vae.state_dict(), 'simple_vae.pt')"
   ]
  },
  {
   "cell_type": "code",
   "execution_count": null,
   "id": "interior-adapter",
   "metadata": {},
   "outputs": [],
   "source": [
    "# Save the trained model, we'll reuse it for the questions.\n",
    "torch.save(simple_vae.state_dict(), 'simple_vae.pt')"
   ]
  },
  {
   "cell_type": "markdown",
   "id": "italic-vision",
   "metadata": {},
   "source": [
    "## Expanded sampling d-dimensional VAE"
   ]
  },
  {
   "cell_type": "code",
   "execution_count": 4,
   "id": "changed-mystery",
   "metadata": {},
   "outputs": [],
   "source": [
    "class BernoulliImageGeneratorExpandedSampling(nn.Module):\n",
    "    def __init__(self, d=4):\n",
    "        super().__init__()\n",
    "        self.d = d\n",
    "        self.f = nn.Sequential(\n",
    "            nn.Linear(d, 128),\n",
    "            nn.LeakyReLU(),\n",
    "            nn.Linear(128, 1728),\n",
    "            nn.LeakyReLU(),\n",
    "            nn.Unflatten(1, (12,12,12)), # -> B×12×12×12\n",
    "            nn.Conv2d(12, 36, 3, 1),     # -> [B×36×10×10]\n",
    "            nn.LeakyReLU(),\n",
    "            nn.Flatten(1),               # -> [B×3600]\n",
    "            nn.Unflatten(1, (4,30,30)),  # -> [B×4×30×30]\n",
    "            nn.Conv2d(4, 4, 3, 1),       # -> [B×4×28×28]\n",
    "            nn.LeakyReLU(),\n",
    "            nn.Conv2d(4, 1, 1, 1),       # -> [B×1×28×28]\n",
    "            nn.Sigmoid()\n",
    "        )\n",
    "\n",
    "    def forward(self, z):\n",
    "        return self.f(z)\n",
    "\n",
    "    def loglik(self, x, z):\n",
    "      \"\"\" When this is called, the argument z is the value that a random variable Z takes on.\n",
    "          It's a bit confusing, because z is actually a vector of z_i that random variables Z_i take on.\n",
    "          This equates to the likelihood of each x_i under a particular choice of z - one sample. To take\n",
    "          multiple samples, we need to try multiple values of little z, which happens when this is called.\"\"\"\n",
    "      xr = self(z)\n",
    "      return (x*torch.log(xr) + (1-x)*torch.log(1-xr)).sum((1, 2, 3))\n",
    "\n",
    "\n",
    "class GaussianEncoderExpandedSampling(nn.Module):\n",
    "    def __init__(self, decoder):\n",
    "        super().__init__()\n",
    "        self.d = decoder.d\n",
    "        self.f = decoder\n",
    "        self.g = nn.Sequential(\n",
    "            nn.Conv2d(1, 32, 3, 1),\n",
    "            nn.LeakyReLU(),\n",
    "            nn.Conv2d(32, 64, 3, 1),\n",
    "            nn.MaxPool2d(2),\n",
    "            nn.Flatten(1),\n",
    "            nn.Linear(9216, 128),\n",
    "            nn.LeakyReLU(),\n",
    "            nn.Linear(128, self.d*2)\n",
    "        )\n",
    "        self.likelihoods = {}\n",
    "\n",
    "    def forward(self, x):\n",
    "        μτ = self.g(x)\n",
    "        μ,τ = μτ[:,:self.d], μτ[:,self.d:]\n",
    "        return μ, torch.exp(τ/2)\n",
    "\n",
    "    def loglik_lb(self, batch_num, x):\n",
    "        μ,σ = self(x)\n",
    "        kl = 0.5 * (μ**2 + σ**2 - torch.log(σ**2) - 1).sum(1)\n",
    "\n",
    "        # Running the below is equivalent to sampling just once\n",
    "        # a value for Z(phi, x) for each of the data poitns in the\n",
    "        # vector x. If we want multiple samples, we don't need to\n",
    "        # pass through the encoder again - that will be the same,\n",
    "        # given the parameters we have now. But if we sample the\n",
    "        # noise epsilon again, we'll get a different Z(phi, x).\n",
    "        ll = 0\n",
    "        num_samples = 1\n",
    "        for _ in range(num_samples):\n",
    "          ε = torch.randn_like(σ)\n",
    "          ll += self.f.loglik(x, z=μ+σ*ε)\n",
    "        ll /= num_samples\n",
    "\n",
    "        if torch.min(ll) < self.min_likelihood[0]:\n",
    "          self.min_likelihood = torch.min(ll), torch.argmin(ll) + batch_num*100\n",
    "\n",
    "        if torch.max(ll) < self.max_likelihood[0]:\n",
    "          self.max_likelihood = torch.max(ll), torch.argmax(ll) + batch_num*100\n",
    "\n",
    "        # Sum up all likelihoods to find likelihood of dataset.\n",
    "        return ll - kl"
   ]
  },
  {
   "cell_type": "markdown",
   "id": "altered-opening",
   "metadata": {},
   "source": [
    "### Train me!"
   ]
  },
  {
   "cell_type": "code",
   "execution_count": 6,
   "id": "retained-albuquerque",
   "metadata": {
    "collapsed": true,
    "jupyter": {
     "outputs_hidden": true
    }
   },
   "outputs": [
    {
     "name": "stdout",
     "output_type": "stream",
     "text": [
      "epoch: 1, loglikelihood: -154.7\n",
      "epoch: 2, loglikelihood: -142.9\n",
      "epoch: 3, loglikelihood: -136.2\n",
      "epoch: 4, loglikelihood: -131.3\n",
      "epoch: 5, loglikelihood: -128.7\n",
      "epoch: 6, loglikelihood: -127.9\n",
      "epoch: 7, loglikelihood: -126.6\n",
      "epoch: 8, loglikelihood: -125.7\n",
      "epoch: 9, loglikelihood: -123.3\n",
      "epoch: 10, loglikelihood: -123.5\n",
      "epoch: 11, loglikelihood: -122.2\n",
      "epoch: 12, loglikelihood: -122.1\n",
      "epoch: 13, loglikelihood: -121.8\n",
      "epoch: 14, loglikelihood: -121.3\n",
      "epoch: 15, loglikelihood: -120.2\n",
      "epoch: 16, loglikelihood: -119.6\n",
      "epoch: 17, loglikelihood: -119.2\n",
      "epoch: 18, loglikelihood: -118.2\n",
      "epoch: 19, loglikelihood: -118.5\n",
      "epoch: 20, loglikelihood: -118.3\n",
      "epoch: 21, loglikelihood: -117.9\n",
      "epoch: 22, loglikelihood: -117.9\n",
      "epoch: 23, loglikelihood: -118.2\n",
      "epoch: 24, loglikelihood: -117.6\n",
      "epoch: 25, loglikelihood: -118.6\n",
      "epoch: 26, loglikelihood: -118.7\n",
      "epoch: 27, loglikelihood: -117.0\n",
      "epoch: 28, loglikelihood: -117.7\n",
      "epoch: 29, loglikelihood: -118.0\n",
      "epoch: 30, loglikelihood: -116.7\n",
      "epoch: 31, loglikelihood: -117.0\n",
      "epoch: 32, loglikelihood: -116.1\n"
     ]
    },
    {
     "ename": "KeyboardInterrupt",
     "evalue": "",
     "output_type": "error",
     "traceback": [
      "\u001b[0;31m---------------------------------------------------------------------------\u001b[0m",
      "\u001b[0;31mKeyboardInterrupt\u001b[0m                         Traceback (most recent call last)",
      "\u001b[0;32m<ipython-input-6-21614ae43ed9>\u001b[0m in \u001b[0;36m<module>\u001b[0;34m\u001b[0m\n\u001b[1;32m      7\u001b[0m         \u001b[0moptimizer\u001b[0m\u001b[0;34m.\u001b[0m\u001b[0mzero_grad\u001b[0m\u001b[0;34m(\u001b[0m\u001b[0;34m)\u001b[0m\u001b[0;34m\u001b[0m\u001b[0;34m\u001b[0m\u001b[0m\n\u001b[1;32m      8\u001b[0m         \u001b[0mloglik_lb\u001b[0m \u001b[0;34m=\u001b[0m \u001b[0mtorch\u001b[0m\u001b[0;34m.\u001b[0m\u001b[0mmean\u001b[0m\u001b[0;34m(\u001b[0m\u001b[0mexpanded_sampling_vae\u001b[0m\u001b[0;34m.\u001b[0m\u001b[0mloglik_lb\u001b[0m\u001b[0;34m(\u001b[0m\u001b[0mbatch_num\u001b[0m\u001b[0;34m,\u001b[0m \u001b[0mimages\u001b[0m\u001b[0;34m)\u001b[0m\u001b[0;34m)\u001b[0m\u001b[0;34m\u001b[0m\u001b[0;34m\u001b[0m\u001b[0m\n\u001b[0;32m----> 9\u001b[0;31m         \u001b[0;34m(\u001b[0m\u001b[0;34m-\u001b[0m\u001b[0mloglik_lb\u001b[0m\u001b[0;34m)\u001b[0m\u001b[0;34m.\u001b[0m\u001b[0mbackward\u001b[0m\u001b[0;34m(\u001b[0m\u001b[0;34m)\u001b[0m\u001b[0;34m\u001b[0m\u001b[0;34m\u001b[0m\u001b[0m\n\u001b[0m\u001b[1;32m     10\u001b[0m         \u001b[0moptimizer\u001b[0m\u001b[0;34m.\u001b[0m\u001b[0mstep\u001b[0m\u001b[0;34m(\u001b[0m\u001b[0;34m)\u001b[0m\u001b[0;34m\u001b[0m\u001b[0;34m\u001b[0m\u001b[0m\n\u001b[1;32m     11\u001b[0m     \u001b[0mepoch\u001b[0m \u001b[0;34m+=\u001b[0m \u001b[0;36m1\u001b[0m\u001b[0;34m\u001b[0m\u001b[0;34m\u001b[0m\u001b[0m\n",
      "\u001b[0;32m~/anaconda3/envs/my_first_env/lib/python3.8/site-packages/torch/tensor.py\u001b[0m in \u001b[0;36mbackward\u001b[0;34m(self, gradient, retain_graph, create_graph)\u001b[0m\n\u001b[1;32m    219\u001b[0m                 \u001b[0mretain_graph\u001b[0m\u001b[0;34m=\u001b[0m\u001b[0mretain_graph\u001b[0m\u001b[0;34m,\u001b[0m\u001b[0;34m\u001b[0m\u001b[0;34m\u001b[0m\u001b[0m\n\u001b[1;32m    220\u001b[0m                 create_graph=create_graph)\n\u001b[0;32m--> 221\u001b[0;31m         \u001b[0mtorch\u001b[0m\u001b[0;34m.\u001b[0m\u001b[0mautograd\u001b[0m\u001b[0;34m.\u001b[0m\u001b[0mbackward\u001b[0m\u001b[0;34m(\u001b[0m\u001b[0mself\u001b[0m\u001b[0;34m,\u001b[0m \u001b[0mgradient\u001b[0m\u001b[0;34m,\u001b[0m \u001b[0mretain_graph\u001b[0m\u001b[0;34m,\u001b[0m \u001b[0mcreate_graph\u001b[0m\u001b[0;34m)\u001b[0m\u001b[0;34m\u001b[0m\u001b[0;34m\u001b[0m\u001b[0m\n\u001b[0m\u001b[1;32m    222\u001b[0m \u001b[0;34m\u001b[0m\u001b[0m\n\u001b[1;32m    223\u001b[0m     \u001b[0;32mdef\u001b[0m \u001b[0mregister_hook\u001b[0m\u001b[0;34m(\u001b[0m\u001b[0mself\u001b[0m\u001b[0;34m,\u001b[0m \u001b[0mhook\u001b[0m\u001b[0;34m)\u001b[0m\u001b[0;34m:\u001b[0m\u001b[0;34m\u001b[0m\u001b[0;34m\u001b[0m\u001b[0m\n",
      "\u001b[0;32m~/anaconda3/envs/my_first_env/lib/python3.8/site-packages/torch/autograd/__init__.py\u001b[0m in \u001b[0;36mbackward\u001b[0;34m(tensors, grad_tensors, retain_graph, create_graph, grad_variables)\u001b[0m\n\u001b[1;32m    128\u001b[0m         \u001b[0mretain_graph\u001b[0m \u001b[0;34m=\u001b[0m \u001b[0mcreate_graph\u001b[0m\u001b[0;34m\u001b[0m\u001b[0;34m\u001b[0m\u001b[0m\n\u001b[1;32m    129\u001b[0m \u001b[0;34m\u001b[0m\u001b[0m\n\u001b[0;32m--> 130\u001b[0;31m     Variable._execution_engine.run_backward(\n\u001b[0m\u001b[1;32m    131\u001b[0m         \u001b[0mtensors\u001b[0m\u001b[0;34m,\u001b[0m \u001b[0mgrad_tensors_\u001b[0m\u001b[0;34m,\u001b[0m \u001b[0mretain_graph\u001b[0m\u001b[0;34m,\u001b[0m \u001b[0mcreate_graph\u001b[0m\u001b[0;34m,\u001b[0m\u001b[0;34m\u001b[0m\u001b[0;34m\u001b[0m\u001b[0m\n\u001b[1;32m    132\u001b[0m         allow_unreachable=True)  # allow_unreachable flag\n",
      "\u001b[0;31mKeyboardInterrupt\u001b[0m: "
     ]
    }
   ],
   "source": [
    "expanded_sampling_vae = GaussianEncoderExpandedSampling(BernoulliImageGeneratorExpandedSampling())\n",
    "optimizer = optim.Adam(expanded_sampling_vae.parameters())\n",
    "epoch = 0\n",
    "\n",
    "while epoch < 100:\n",
    "    for batch_num, (images, labels) in enumerate(mnist_batched):\n",
    "        optimizer.zero_grad()\n",
    "        loglik_lb = torch.mean(expanded_sampling_vae.loglik_lb(batch_num, images))\n",
    "        (-loglik_lb).backward()\n",
    "        optimizer.step()\n",
    "    epoch += 1\n",
    "    print(f\"epoch: {epoch}, loglikelihood: {loglik_lb.item():.4}\")"
   ]
  },
  {
   "cell_type": "code",
   "execution_count": 7,
   "id": "antique-smell",
   "metadata": {},
   "outputs": [],
   "source": [
    "# Save the trained model, we'll reuse it for the questions.\n",
    "torch.save(expanded_sampling_vae.state_dict(), 'expanded_sampling_vae.pt')"
   ]
  },
  {
   "cell_type": "markdown",
   "id": "collectible-debut",
   "metadata": {},
   "source": [
    "## VAE with image-label pairs as input"
   ]
  },
  {
   "cell_type": "code",
   "execution_count": 24,
   "id": "synthetic-village",
   "metadata": {},
   "outputs": [],
   "source": [
    "def one_hot_encode(y, num_classes):\n",
    "    encoded = torch.zeros(len(y), num_classes)\n",
    "    for i in range(len(y)):\n",
    "        encoded[i, y[i]-1] = 1\n",
    "    return encoded"
   ]
  },
  {
   "cell_type": "code",
   "execution_count": 25,
   "id": "breathing-lobby",
   "metadata": {},
   "outputs": [],
   "source": [
    "class BernoulliImageGeneratorWithStyleCapture(nn.Module):\n",
    "    def __init__(self, d=4):\n",
    "        super().__init__()\n",
    "        self.d = d\n",
    "        self.f = nn.Sequential(\n",
    "            nn.Linear(d + 10, 128),           # TODO: this is where we would have d + num_classes\n",
    "            nn.LeakyReLU(),\n",
    "            nn.Linear(128, 1728),\n",
    "            nn.LeakyReLU(),\n",
    "            nn.Unflatten(1, (12,12,12)), # -> B×12×12×12\n",
    "            nn.Conv2d(12, 36, 3, 1),     # -> [B×36×10×10]\n",
    "            nn.LeakyReLU(),\n",
    "            nn.Flatten(1),               # -> [B×3600]\n",
    "            nn.Unflatten(1, (4,30,30)),  # -> [B×4×30×30]\n",
    "            nn.Conv2d(4, 4, 3, 1),       # -> [B×4×28×28]\n",
    "            nn.LeakyReLU(),\n",
    "            nn.Conv2d(4, 1, 1, 1),       # -> [B×1×28×28]\n",
    "            nn.Sigmoid()\n",
    "        )\n",
    "\n",
    "    def forward(self, z, y):\n",
    "        # Coerce z and y into a shape that we can feed to the network.\n",
    "        # z is 100x4, y is 100x10\n",
    "\n",
    "        z = torch.cat([z, y], dim=1)\n",
    "        \n",
    "        return self.f(z)\n",
    "\n",
    "    def loglik(self, x, z, y):\n",
    "        xr = self(z, y)\n",
    "        return (x*torch.log(xr) + (1-x)*torch.log(1-xr)).sum((1,2,3))\n",
    "\n",
    "\n",
    "class GaussianEncoderWithStyleCapture(nn.Module):\n",
    "    def __init__(self, decoder):\n",
    "        super().__init__()\n",
    "        self.d = decoder.d\n",
    "        self.f = decoder\n",
    "        self.g = nn.Sequential(\n",
    "            nn.Conv2d(2, 32, 3, 1),          # There are now two channels to account for the added label.\n",
    "            nn.LeakyReLU(),\n",
    "            nn.Conv2d(32, 64, 3, 1),\n",
    "            nn.MaxPool2d(2),\n",
    "            nn.Flatten(1),\n",
    "            nn.Linear(9216, 128),\n",
    "            nn.LeakyReLU(),\n",
    "            nn.Linear(128, self.d*2)\n",
    "        )\n",
    "\n",
    "    def forward(self, x, y):\n",
    "        \n",
    "        # TODO: Coerce x and y into a form that we can input into the network.\n",
    "        # Encode y as a 1x28x28, then stack it as an extra channel in the image.\n",
    "        # So updated y is 100x1x28x28.\n",
    "        transform_labels = nn.Linear(10, 784)\n",
    "        \n",
    "        y_transformed = [transform_labels(y_i) for y_i in y]\n",
    "        y_transformed = torch.tensor([y_i.view(1, 28, 28).detach().numpy() for y_i in y_transformed]) # Reshaped to Bx1x28x28. Do I need to unsqueeze here given y is already batched?\n",
    "        \n",
    "        x = torch.cat([x, y_transformed], dim=1)\n",
    "        \n",
    "        mu_tau = self.g(x)\n",
    "        mu, tau = mu_tau[:,:self.d], mu_tau[:,self.d:]\n",
    "        return mu, torch.exp(tau/2)\n",
    "\n",
    "    def loglik_lb(self, x, y):\n",
    "        \"\"\"x is 100x1x28x28. y is 100x10 (one-hot encoded class labels)\"\"\"\n",
    "        \n",
    "        mu, sigma = self(x, y)\n",
    "        \n",
    "        kl = 0.5 * (mu**2 + sigma**2 - torch.log(sigma**2) - 1).sum(1)\n",
    "        \n",
    "        # Sampling from epsilon is equivalent to generating multiple Z~.\n",
    "        epsilon = torch.randn_like(sigma)\n",
    "        z = mu + sigma*epsilon\n",
    "        \n",
    "        ll = self.f.loglik(x, z, y)\n",
    "        return ll - kl"
   ]
  },
  {
   "cell_type": "code",
   "execution_count": 4,
   "id": "norwegian-processing",
   "metadata": {
    "collapsed": true,
    "jupyter": {
     "outputs_hidden": true
    }
   },
   "outputs": [
    {
     "name": "stdout",
     "output_type": "stream",
     "text": [
      "epoch: 1, loglikelihood: -146.1\n",
      "epoch: 2, loglikelihood: -132.3\n",
      "epoch: 3, loglikelihood: -126.5\n",
      "epoch: 4, loglikelihood: -123.3\n",
      "epoch: 5, loglikelihood: -121.6\n",
      "epoch: 6, loglikelihood: -120.9\n",
      "epoch: 7, loglikelihood: -120.9\n",
      "epoch: 8, loglikelihood: -119.2\n",
      "epoch: 9, loglikelihood: -121.6\n",
      "epoch: 10, loglikelihood: -118.3\n",
      "epoch: 11, loglikelihood: -117.6\n",
      "epoch: 12, loglikelihood: -116.5\n",
      "epoch: 13, loglikelihood: -116.1\n",
      "epoch: 14, loglikelihood: -115.6\n",
      "epoch: 15, loglikelihood: -115.0\n",
      "epoch: 16, loglikelihood: -114.7\n",
      "epoch: 17, loglikelihood: -115.2\n",
      "epoch: 18, loglikelihood: -114.6\n",
      "epoch: 19, loglikelihood: -114.5\n",
      "epoch: 20, loglikelihood: -114.0\n",
      "epoch: 21, loglikelihood: -113.9\n",
      "epoch: 22, loglikelihood: -113.6\n",
      "epoch: 23, loglikelihood: -114.3\n",
      "epoch: 24, loglikelihood: -114.2\n",
      "epoch: 25, loglikelihood: -112.8\n",
      "epoch: 26, loglikelihood: -112.9\n",
      "epoch: 27, loglikelihood: -112.6\n",
      "epoch: 28, loglikelihood: -113.2\n",
      "epoch: 29, loglikelihood: -111.7\n",
      "epoch: 30, loglikelihood: -112.7\n"
     ]
    }
   ],
   "source": [
    "autoencoder = GaussianEncoderWithStyleCapture(BernoulliImageGeneratorWithStyleCapture(4))\n",
    "optimizer = optim.Adam(autoencoder.parameters())\n",
    "epoch = 0\n",
    "\n",
    "while epoch < 30:\n",
    "    for batch_num, (images, labels) in enumerate(mnist_batched):\n",
    "        optimizer.zero_grad()\n",
    "        labels = one_hot_encode(labels, 10)\n",
    "        loglik_lb = torch.mean(autoencoder.loglik_lb(images, labels))\n",
    "        (-loglik_lb).backward()\n",
    "        optimizer.step()\n",
    "    epoch += 1\n",
    "    print(f\"epoch: {epoch}, loglikelihood: {loglik_lb.item():.4}\")\n",
    "    \n",
    "    torch.save(autoencoder.state_dict(), 'cvae.pt')"
   ]
  },
  {
   "cell_type": "markdown",
   "id": "manufactured-louisville",
   "metadata": {},
   "source": [
    "# Helper functions"
   ]
  },
  {
   "cell_type": "markdown",
   "id": "champion-community",
   "metadata": {},
   "source": [
    "## Save a model"
   ]
  },
  {
   "cell_type": "code",
   "execution_count": 5,
   "id": "executive-sierra",
   "metadata": {},
   "outputs": [],
   "source": [
    "torch.save(autoencoder.state_dict(), 'cvae.pt')"
   ]
  },
  {
   "cell_type": "markdown",
   "id": "studied-anthony",
   "metadata": {},
   "source": [
    "## Load a saved model"
   ]
  },
  {
   "cell_type": "code",
   "execution_count": 26,
   "id": "broken-insulin",
   "metadata": {},
   "outputs": [
    {
     "data": {
      "text/plain": [
       "<All keys matched successfully>"
      ]
     },
     "execution_count": 26,
     "metadata": {},
     "output_type": "execute_result"
    }
   ],
   "source": [
    "autoencoder = GaussianEncoderWithStyleCapture(BernoulliImageGeneratorWithStyleCapture(4))\n",
    "autoencoder.load_state_dict(torch.load(\"cvae.pt\"))"
   ]
  },
  {
   "cell_type": "markdown",
   "id": "united-journal",
   "metadata": {},
   "source": [
    "## Generate a random sample"
   ]
  },
  {
   "cell_type": "code",
   "execution_count": 38,
   "id": "outer-spare",
   "metadata": {},
   "outputs": [
    {
     "data": {
      "text/plain": [
       "torch.Size([1, 10])"
      ]
     },
     "execution_count": 38,
     "metadata": {},
     "output_type": "execute_result"
    }
   ],
   "source": [
    "y_encoded[0].unsqueeze(-1).T.shape"
   ]
  },
  {
   "cell_type": "code",
   "execution_count": 53,
   "id": "mexican-omaha",
   "metadata": {},
   "outputs": [
    {
     "name": "stdout",
     "output_type": "stream",
     "text": [
      "4\n"
     ]
    },
    {
     "data": {
      "image/png": "[encoded data removed]",
      "text/plain": [
       "<Figure size 720x720 with 16 Axes>"
      ]
     },
     "metadata": {
      "needs_background": "light"
     },
     "output_type": "display_data"
    }
   ],
   "source": [
    "y = [5, 3, 9, 1]\n",
    "y_encoded = one_hot_encode(y, 10)\n",
    "all_images = []\n",
    "\n",
    "for _ in range(4):\n",
    "    z = torch.randn(4).unsqueeze(1).T\n",
    "    all_images.append([autoencoder.f(z, y_i.unsqueeze(1).T).detach().numpy() for y_i in y_encoded])\n",
    "\n",
    "print(len(all_images[0]))\n",
    "fig = plt.figure(figsize=(10, 10))\n",
    "for j in range(len(all_images)):\n",
    "    for i in range(len(all_images[j])):\n",
    "        fig.add_subplot(len(all_images[j]), len(all_images), 4*j+(i+1))\n",
    "        plt.imshow(all_images[j][i][0][0])"
   ]
  },
  {
   "cell_type": "code",
   "execution_count": 19,
   "id": "dutch-worry",
   "metadata": {},
   "outputs": [
    {
     "data": {
      "text/plain": [
       "<matplotlib.image.AxesImage at 0x7fb801b08400>"
      ]
     },
     "execution_count": 19,
     "metadata": {},
     "output_type": "execute_result"
    },
    {
     "data": {
      "image/png": "[encoded data removed]",
      "text/plain": [
       "<Figure size 432x288 with 1 Axes>"
      ]
     },
     "metadata": {
      "needs_background": "light"
     },
     "output_type": "display_data"
    }
   ],
   "source": [
    "y = [2]\n",
    "y_t = one_hot_encode(y, 10)\n",
    "\n",
    "\n",
    "rec_image = autoencoder.f(z, y_t).detach().numpy()\n",
    "\n",
    "plt.imshow(rec_image[0][0])"
   ]
  },
  {
   "cell_type": "code",
   "execution_count": 89,
   "id": "grateful-religion",
   "metadata": {},
   "outputs": [
    {
     "name": "stdout",
     "output_type": "stream",
     "text": [
      "1\n"
     ]
    }
   ],
   "source": [
    "img, lbl = mnist[random.randrange(0, len(mnist))]\n",
    "\n",
    "print(lbl)\n",
    "\n",
    "# Need to reshape to (1, 1, 28, 28) because this VAE works on batches.\n",
    "mu, sigma = autoencoder(img.reshape((1, 1, 28, 28))) \n",
    "z = mu + sigma * torch.randn_like(sigma)\n",
    "\n",
    "gen_img = simple_vae.f(z)"
   ]
  },
  {
   "cell_type": "code",
   "execution_count": 90,
   "id": "delayed-private",
   "metadata": {},
   "outputs": [
    {
     "data": {
      "image/png": "[encoded data removed]",
      "text/plain": [
       "<Figure size 720x720 with 1 Axes>"
      ]
     },
     "metadata": {
      "needs_background": "light"
     },
     "output_type": "display_data"
    },
    {
     "data": {
      "text/plain": [
       "<matplotlib.image.AxesImage at 0x7fc8717fc6a0>"
      ]
     },
     "execution_count": 90,
     "metadata": {},
     "output_type": "execute_result"
    },
    {
     "data": {
      "image/png": "[encoded data removed]",
      "text/plain": [
       "<Figure size 432x288 with 1 Axes>"
      ]
     },
     "metadata": {
      "needs_background": "light"
     },
     "output_type": "display_data"
    }
   ],
   "source": [
    "fig = plt.figure(figsize=(10, 10))\n",
    "plot_images(fig, gen_img)\n",
    "plt.imshow(img[0])"
   ]
  },
  {
   "cell_type": "markdown",
   "id": "smart-submission",
   "metadata": {},
   "source": [
    "## Plot multiple images"
   ]
  },
  {
   "cell_type": "code",
   "execution_count": 40,
   "id": "coastal-major",
   "metadata": {},
   "outputs": [],
   "source": [
    "def plot_images(fig, images):\n",
    "    images = [image.detach().numpy()[0] for image in images]\n",
    "    for i in range(len(images)):\n",
    "        fig.add_subplot(5, 5, i+1)\n",
    "        plt.imshow(images[i])\n",
    "        \n",
    "    plt.axis('off')\n",
    "    plt.show()"
   ]
  },
  {
   "cell_type": "code",
   "execution_count": 6,
   "id": "considered-basis",
   "metadata": {},
   "outputs": [
    {
     "data": {
      "text/plain": [
       "torch.Size([100, 4])"
      ]
     },
     "execution_count": 6,
     "metadata": {},
     "output_type": "execute_result"
    }
   ],
   "source": [
    "z = torch.randn((100, 4))\n",
    "\n",
    "z.shape"
   ]
  },
  {
   "cell_type": "code",
   "execution_count": 32,
   "id": "optimum-mexico",
   "metadata": {},
   "outputs": [],
   "source": [
    "y = torch.floor(torch.rand((100,))*10)\n",
    "y = torch.unsqueeze(y, 1)"
   ]
  }
 ],
 "metadata": {
  "kernelspec": {
   "display_name": "Python 3",
   "language": "python",
   "name": "python3"
  },
  "language_info": {
   "codemirror_mode": {
    "name": "ipython",
    "version": 3
   },
   "file_extension": ".py",
   "mimetype": "text/x-python",
   "name": "python",
   "nbconvert_exporter": "python",
   "pygments_lexer": "ipython3",
   "version": "3.8.5"
  }
 },
 "nbformat": 4,
 "nbformat_minor": 5
}
