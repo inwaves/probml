{
 "cells": [
  {
   "cell_type": "code",
   "execution_count": 2,
   "id": "major-athletics",
   "metadata": {},
   "outputs": [],
   "source": [
    "import pandas\n",
    "import matplotlib.pyplot as plt\n",
    "import numpy as np\n",
    "import torch.nn as nn\n",
    "import torch.optim as optim\n",
    "import torch"
   ]
  },
  {
   "cell_type": "code",
   "execution_count": 3,
   "id": "smoking-gallery",
   "metadata": {},
   "outputs": [
    {
     "data": {
      "text/plain": [
       "<matplotlib.collections.PathCollection at 0x7fa248d3a610>"
      ]
     },
     "execution_count": 3,
     "metadata": {},
     "output_type": "execute_result"
    },
    {
     "data": {
      "image/png": "[encoded data removed]",
      "text/plain": [
       "<Figure size 432x288 with 1 Axes>"
      ]
     },
     "metadata": {
      "needs_background": "light"
     },
     "output_type": "display_data"
    }
   ],
   "source": [
    "url = 'https://www.cl.cam.ac.uk/teaching/2122/DataSci/data/xkcd.csv'\n",
    "xkcd = pandas.read_csv(url)\n",
    "\n",
    "plt.scatter(xkcd.x, xkcd.y)"
   ]
  },
  {
   "cell_type": "code",
   "execution_count": 27,
   "id": "manual-defendant",
   "metadata": {},
   "outputs": [
    {
     "data": {
      "text/plain": [
       "0     0.9293\n",
       "1     1.7356\n",
       "2     1.8546\n",
       "3     2.1073\n",
       "4     2.3637\n",
       "5     2.5417\n",
       "6     2.7176\n",
       "7     2.9618\n",
       "8     3.7442\n",
       "9     3.9209\n",
       "10    4.2629\n",
       "11    4.3290\n",
       "12    4.5732\n",
       "13    4.6230\n",
       "14    5.2355\n",
       "15    5.9960\n",
       "16    6.3058\n",
       "17    6.7838\n",
       "18    7.2509\n",
       "19    7.2583\n",
       "20    7.2865\n",
       "21    7.4109\n",
       "22    7.8511\n",
       "23    8.1576\n",
       "24    8.3872\n",
       "25    8.5173\n",
       "26    8.5555\n",
       "27    8.6645\n",
       "28    8.7260\n",
       "29    8.9059\n",
       "30    9.0856\n",
       "Name: x, dtype: float64"
      ]
     },
     "execution_count": 27,
     "metadata": {},
     "output_type": "execute_result"
    }
   ],
   "source": [
    "xkcd.x"
   ]
  },
  {
   "cell_type": "code",
   "execution_count": 3,
   "id": "prepared-sequence",
   "metadata": {
    "jupyter": {
     "source_hidden": true
    }
   },
   "outputs": [],
   "source": [
    "import signal\n",
    "class Interruptable():\n",
    "    class Breakout(Exception):\n",
    "        pass\n",
    "    def __init__(self):\n",
    "        self.interrupted = False\n",
    "        self.orig_handler = None\n",
    "    def __enter__(self):\n",
    "        self.orig_handler = signal.getsignal(signal.SIGINT)\n",
    "        signal.signal(signal.SIGINT, self.handle)\n",
    "        return self.check\n",
    "    def __exit__(self, exc_type, exc_val, exc_tb):\n",
    "        signal.signal(signal.SIGINT, self.orig_handler)\n",
    "        if exc_type == Interruptable.Breakout:\n",
    "            print(' stopped')\n",
    "            return True\n",
    "        return False\n",
    "    def handle(self, signal, frame):\n",
    "        if self.interrupted:\n",
    "            self.orig_handler(signal, frame)\n",
    "        print('Interrupting ...', end='')\n",
    "        self.interrupted = True\n",
    "    def check(self):\n",
    "        if self.interrupted:\n",
    "            raise Interruptable.Breakout\n",
    "            \n",
    "def enumerate_cycle(g, shuffle=True):\n",
    "    epoch = 0\n",
    "    while True:\n",
    "        if shuffle:\n",
    "            for i,j in enumerate(np.random.permutation(len(g))):\n",
    "                yield (epoch,i), g[j]\n",
    "        else:\n",
    "            for i,x in enumerate(g):\n",
    "                yield (epoch,i), x\n",
    "        epoch = epoch + 1"
   ]
  },
  {
   "cell_type": "markdown",
   "id": "israeli-chosen",
   "metadata": {},
   "source": [
    "# Question (a)"
   ]
  },
  {
   "cell_type": "markdown",
   "id": "opposite-mission",
   "metadata": {},
   "source": [
    "Define model:"
   ]
  },
  {
   "cell_type": "code",
   "execution_count": 4,
   "id": "steady-bridge",
   "metadata": {},
   "outputs": [],
   "source": [
    "class Wiggle(nn.Module):\n",
    "    def __init__(self):\n",
    "        super().__init__()\n",
    "        self.f = nn.Sequential(\n",
    "            nn.Linear(1,4),\n",
    "            nn.LeakyReLU(),\n",
    "            nn.Linear(4,20),\n",
    "            nn.LeakyReLU(),\n",
    "            nn.Linear(20,20),\n",
    "            nn.LeakyReLU(),\n",
    "            nn.Linear(20,1)\n",
    "        )\n",
    "    def forward(self, x):\n",
    "        return self.f(x)\n",
    "    \n",
    "class RWiggle(nn.Module):\n",
    "    \"\"\"Y_i ~ N(f(x_i), sigma2)\"\"\"\n",
    "    def __init__(self):\n",
    "        super().__init__()\n",
    "        self.mu = Wiggle()\n",
    "        self.sigmapre = nn.Parameter(torch.tensor(1.0))\n",
    "    @property\n",
    "    def sigma(self):\n",
    "         return torch.nn.functional.softplus(self.sigmapre)\n",
    "    def forward(self, y, x):\n",
    "        sigma2 = torch.pow(self.sigma, 2)\n",
    "        return - 0.5*torch.log(2*np.pi*sigma2) - torch.pow(y - self.mu(x), 2) / (2*sigma2)"
   ]
  },
  {
   "cell_type": "markdown",
   "id": "endless-pontiac",
   "metadata": {},
   "source": [
    "Train model:"
   ]
  },
  {
   "cell_type": "code",
   "execution_count": 57,
   "id": "subsequent-generic",
   "metadata": {},
   "outputs": [],
   "source": [
    "x = torch.tensor(xkcd.x, dtype=torch.float)[:, None]\n",
    "y = torch.tensor(xkcd.y, dtype=torch.float)[:, None]\n",
    "\n",
    "simple_wiggle = RWiggle()\n",
    "epoch = 0\n",
    "optimizer = optim.Adam(simple_wiggle.parameters())\n",
    "simple_training_loglik = []\n",
    "\n",
    "with Interruptable() as check_interrupted:\n",
    "    while epoch < 50000:\n",
    "        check_interrupted()\n",
    "        optimizer.zero_grad()\n",
    "        loglikelihood = torch.mean(simple_wiggle(y, x))\n",
    "        (-loglikelihood).backward()\n",
    "        optimizer.step()\n",
    "        epoch += 1\n",
    "        if epoch % 100 == 0:\n",
    "            simple_training_loglik.append(loglikelihood.item())\n",
    "#         print(f'epoch=={epoch}, loglik={loglikelihood.item():.4}, sigma={simple_wiggle.sigma.item():.4}')\n",
    "        "
   ]
  },
  {
   "cell_type": "markdown",
   "id": "fatty-lobby",
   "metadata": {},
   "source": [
    "Plot the model:"
   ]
  },
  {
   "cell_type": "code",
   "execution_count": 58,
   "id": "tough-actress",
   "metadata": {},
   "outputs": [
    {
     "data": {
      "text/plain": [
       "<matplotlib.collections.PolyCollection at 0x7fd4508c2f10>"
      ]
     },
     "execution_count": 58,
     "metadata": {},
     "output_type": "execute_result"
    },
    {
     "data": {
      "image/png": "[encoded data removed]",
      "text/plain": [
       "<Figure size 432x288 with 1 Axes>"
      ]
     },
     "metadata": {
      "needs_background": "light"
     },
     "output_type": "display_data"
    }
   ],
   "source": [
    "mu_x = simple_wiggle.mu(x).detach().numpy()\n",
    "sigma = simple_wiggle.sigma.item()\n",
    "\n",
    "plt.plot(xkcd.x, mu_x)\n",
    "plt.fill_between(xkcd.x, (mu_x-1.96*sigma).reshape(31,), (mu_x+1.96*sigma).reshape(31,), alpha=0.2)"
   ]
  },
  {
   "cell_type": "code",
   "execution_count": 59,
   "id": "handmade-narrow",
   "metadata": {},
   "outputs": [],
   "source": [
    "class Wiggle(nn.Module):\n",
    "    def __init__(self):\n",
    "        super().__init__()\n",
    "        self.f = nn.Sequential(\n",
    "            nn.Linear(1,4),\n",
    "            nn.LeakyReLU(),\n",
    "            nn.Linear(4,20),\n",
    "            nn.LeakyReLU(),\n",
    "            nn.Linear(20,20),\n",
    "            nn.LeakyReLU(),\n",
    "            nn.Linear(20,1)\n",
    "        )\n",
    "    def forward(self, x):\n",
    "        return self.f(x)\n",
    "    \n",
    "class HeteroscedasticRWiggle(nn.Module):\n",
    "    \"\"\"Y_i ~ N(f(x_i), f(x_i)^2)\"\"\"\n",
    "    def __init__(self):\n",
    "        super().__init__()\n",
    "        self.mu = Wiggle()\n",
    "        self.sigmapre = Wiggle()\n",
    "    def sigma(self, x):\n",
    "         return torch.nn.functional.softplus(self.sigmapre(x))\n",
    "        \n",
    "    def forward(self, y, x):\n",
    "        sigma2 = torch.pow(self.sigma(x), 2)\n",
    "        return - 0.5*torch.log(2*np.pi*sigma2) - torch.pow(y - self.mu(x), 2) / (2*sigma2)"
   ]
  },
  {
   "cell_type": "code",
   "execution_count": 60,
   "id": "confused-bench",
   "metadata": {},
   "outputs": [],
   "source": [
    "heteroscedastic_wiggle = HeteroscedasticRWiggle()\n",
    "epoch = 0\n",
    "optimizer = optim.Adam(heteroscedastic_wiggle.parameters())\n",
    "heteroscedastic_training_likelihood = []\n",
    "\n",
    "with Interruptable() as check_interrupted:\n",
    "    while epoch < 50000:\n",
    "        check_interrupted()\n",
    "        optimizer.zero_grad()\n",
    "        loglikelihood = torch.mean(heteroscedastic_wiggle(y, x))\n",
    "        (-loglikelihood).backward()\n",
    "        optimizer.step()\n",
    "        epoch += 1\n",
    "        if epoch % 100 == 0:\n",
    "            heteroscedastic_training_likelihood.append(loglikelihood.item())\n",
    "#             print(f'epoch=={epoch}, loglik={loglikelihood.item():.4}')\n",
    "            \n",
    "#             print(f'sigma={heteroscedastic_wiggle.sigma(x)}')"
   ]
  },
  {
   "cell_type": "code",
   "execution_count": 61,
   "id": "outdoor-tutorial",
   "metadata": {},
   "outputs": [
    {
     "data": {
      "text/plain": [
       "<matplotlib.collections.PolyCollection at 0x7fd461eb5c10>"
      ]
     },
     "execution_count": 61,
     "metadata": {},
     "output_type": "execute_result"
    },
    {
     "data": {
      "image/png": "[encoded data removed]",
      "text/plain": [
       "<Figure size 432x288 with 1 Axes>"
      ]
     },
     "metadata": {
      "needs_background": "light"
     },
     "output_type": "display_data"
    }
   ],
   "source": [
    "mu_x = heteroscedastic_wiggle.mu(x).detach().numpy()\n",
    "sigma = heteroscedastic_wiggle.sigma(x).detach().numpy()\n",
    "\n",
    "plt.plot(xkcd.x, mu_x)\n",
    "plt.fill_between(xkcd.x, (mu_x-1.96*sigma).reshape(31,), (mu_x+1.96*sigma).reshape(31,), alpha=0.2)"
   ]
  },
  {
   "cell_type": "markdown",
   "id": "pursuant-dakota",
   "metadata": {},
   "source": [
    "# Question (b)"
   ]
  },
  {
   "cell_type": "markdown",
   "id": "greater-australia",
   "metadata": {},
   "source": [
    "Maximum possible training log likelihood for *each* of these two models?\n",
    "\n",
    "If it's useful, we can calculate the log likelihood for the data under a perfectly overfitted model. To do so we use the empirical distribution, $$q_x =  \\frac{\\text{# of occurrences of x}}{\\text{total number of samples}} $$"
   ]
  },
  {
   "cell_type": "code",
   "execution_count": 23,
   "id": "premium-custody",
   "metadata": {},
   "outputs": [],
   "source": [
    "def q(x):\n",
    "    _, counts = np.unique(x, return_counts=True)\n",
    "    return counts/x.shape[0]"
   ]
  },
  {
   "cell_type": "code",
   "execution_count": 25,
   "id": "covered-group",
   "metadata": {},
   "outputs": [
    {
     "data": {
      "text/plain": [
       "-3.4339872044851463"
      ]
     },
     "execution_count": 25,
     "metadata": {},
     "output_type": "execute_result"
    }
   ],
   "source": [
    "q_res = q(x)\n",
    "\n",
    "np.sum(q_res * np.log(q_res))"
   ]
  },
  {
   "cell_type": "markdown",
   "id": "handed-banana",
   "metadata": {},
   "source": [
    "Plot a graph of the training likelihood as a function of epoch, for both models:"
   ]
  },
  {
   "cell_type": "code",
   "execution_count": 56,
   "id": "hearing-stylus",
   "metadata": {},
   "outputs": [
    {
     "data": {
      "text/plain": [
       "[<matplotlib.lines.Line2D at 0x7fd4708d5310>]"
      ]
     },
     "execution_count": 56,
     "metadata": {},
     "output_type": "execute_result"
    },
    {
     "data": {
      "image/png": "[encoded data removed]",
      "text/plain": [
       "<Figure size 432x288 with 1 Axes>"
      ]
     },
     "metadata": {
      "needs_background": "light"
     },
     "output_type": "display_data"
    }
   ],
   "source": [
    "epochs = np.arange(1, 50100, 100)\n",
    "\n",
    "plt.plot(epochs, heteroscedastic_training_likelihood)\n",
    "plt.plot(epochs, simple_training_loglik)"
   ]
  },
  {
   "cell_type": "markdown",
   "id": "based-modem",
   "metadata": {},
   "source": [
    "**Investigation**\n",
    "The dips occur when the optimisation algorithm tries large values for parameter $\\sigma$. For example, a dip occurs from log likelihood -1.046 to -1.539. The mean of the $\\sigma(x)$ vectors for those likelihoods are 1.1963 and 1.5876 - $\\sigma$ is just larger when the dip occurs.\n",
    "\n",
    "But why? Why does it happen when sigma depends on x, but not before? The mean would be the same."
   ]
  },
  {
   "cell_type": "markdown",
   "id": "purple-thread",
   "metadata": {},
   "source": [
    "# Question (c)"
   ]
  },
  {
   "cell_type": "code",
   "execution_count": 4,
   "id": "upper-mustang",
   "metadata": {},
   "outputs": [
    {
     "data": {
      "image/png": "[encoded data removed]",
      "text/plain": [
       "<Figure size 432x288 with 1 Axes>"
      ]
     },
     "metadata": {
      "needs_background": "light"
     },
     "output_type": "display_data"
    }
   ],
   "source": [
    "import torchvision\n",
    "\n",
    "mnist = torchvision.datasets.MNIST(\n",
    "    root = 'pytorch-data/',  # where to put the files\n",
    "    download = True,         # if files aren't here, download them\n",
    "    train = True,            # whether to import the test or the train subset\n",
    "    # PyTorch uses PyTorch tensors internally, not numpy arrays, so convert them.\n",
    "    transform = torchvision.transforms.ToTensor()\n",
    ")\n",
    "\n",
    "\n",
    "# Images can be plotted with matplotlib imshow\n",
    "import torch\n",
    "import matplotlib.pyplot as plt\n",
    "show = [mnist[i] for i in [59289, 28001, 35508, 43876, 23627, 14028]]\n",
    "show = torch.stack([img for img,lbl in show])\n",
    "x = torchvision.utils.make_grid(show, nrow=6, pad_value=1)\n",
    "plt.imshow(x.numpy().transpose((1,2,0)))\n",
    "plt.axis('off')\n",
    "plt.show()\n",
    "\n",
    "mnist_batched = torch.utils.data.DataLoader(mnist, batch_size=100)"
   ]
  },
  {
   "cell_type": "code",
   "execution_count": 5,
   "id": "instructional-voluntary",
   "metadata": {},
   "outputs": [],
   "source": [
    "class BernoulliImageGenerator(nn.Module):\n",
    "    def __init__(self, d=4):\n",
    "        super().__init__()\n",
    "        self.d = d\n",
    "        self.f = nn.Sequential(\n",
    "            nn.Linear(d, 128),\n",
    "            nn.LeakyReLU(),\n",
    "            nn.Linear(128, 1728),\n",
    "            nn.LeakyReLU(),\n",
    "            nn.Unflatten(1, (12,12,12)), # -> B×12×12×12\n",
    "            nn.Conv2d(12, 36, 3, 1),     # -> [B×36×10×10]\n",
    "            nn.LeakyReLU(),\n",
    "            nn.Flatten(1),               # -> [B×3600]\n",
    "            nn.Unflatten(1, (4,30,30)),  # -> [B×4×30×30]\n",
    "            nn.Conv2d(4, 4, 3, 1),       # -> [B×4×28×28]\n",
    "            nn.LeakyReLU(),\n",
    "            nn.Conv2d(4, 1, 1, 1),       # -> [B×1×28×28]\n",
    "            nn.Sigmoid()\n",
    "        )\n",
    "\n",
    "    def forward(self, z):\n",
    "        return self.f(z)\n",
    "\n",
    "    def loglik(self, x, z):\n",
    "        xr = self(z)\n",
    "        return (x*torch.log(xr) + (1-x)*torch.log(1-xr)).sum((1,2,3))\n",
    "\n",
    "\n",
    "class GaussianEncoder(nn.Module):\n",
    "    def __init__(self, decoder):\n",
    "        super().__init__()\n",
    "        self.d = decoder.d\n",
    "        self.f = decoder\n",
    "        self.g = nn.Sequential(\n",
    "            nn.Conv2d(1, 32, 3, 1),\n",
    "            nn.LeakyReLU(),\n",
    "            nn.Conv2d(32, 64, 3, 1),\n",
    "            nn.MaxPool2d(2),\n",
    "            nn.Flatten(1),\n",
    "            nn.Linear(9216, 128),\n",
    "            nn.LeakyReLU(),\n",
    "            nn.Linear(128, self.d*2)\n",
    "        )\n",
    "\n",
    "    def forward(self, x):\n",
    "        μτ = self.g(x)\n",
    "        μ,τ = μτ[:,:self.d], μτ[:,self.d:]\n",
    "        return μ, torch.exp(τ/2)\n",
    "\n",
    "    def loglik_lb(self, x):\n",
    "        μ,σ = self(x)\n",
    "        kl = 0.5 * (μ**2 + σ**2 - torch.log(σ**2) - 1).sum(1)\n",
    "        ε = torch.randn_like(σ)\n",
    "        ll = self.f.loglik(x, z=μ+σ*ε)\n",
    "        return ll - kl"
   ]
  },
  {
   "cell_type": "code",
   "execution_count": 6,
   "id": "former-disco",
   "metadata": {},
   "outputs": [
    {
     "name": "stdout",
     "output_type": "stream",
     "text": [
      "epoch: 1, loglikelihood: -154.8\n",
      "epoch: 2, loglikelihood: -143.1\n",
      "epoch: 3, loglikelihood: -140.6\n",
      "epoch: 4, loglikelihood: -137.1\n",
      "epoch: 5, loglikelihood: -136.1\n",
      "epoch: 6, loglikelihood: -133.1\n",
      "epoch: 7, loglikelihood: -132.9\n",
      "epoch: 8, loglikelihood: -131.6\n",
      "epoch: 9, loglikelihood: nan\n",
      "epoch: 10, loglikelihood: nan\n"
     ]
    }
   ],
   "source": [
    "autoencoder = GaussianEncoder(BernoulliImageGenerator())\n",
    "optimizer = optim.Adam(autoencoder.parameters())\n",
    "epoch = 0\n",
    "\n",
    "while epoch < 10:\n",
    "    for batch_num, (images, labels) in enumerate(mnist_batched):\n",
    "        optimizer.zero_grad()\n",
    "        loglik_lb = torch.mean(autoencoder.loglik_lb(images))\n",
    "        (-loglik_lb).backward()\n",
    "        optimizer.step()\n",
    "    epoch += 1\n",
    "    print(f\"epoch: {epoch}, loglikelihood: {loglik_lb.item():.4}\")"
   ]
  },
  {
   "cell_type": "code",
   "execution_count": 64,
   "id": "abroad-effectiveness",
   "metadata": {},
   "outputs": [
    {
     "data": {
      "image/png": "[encoded data removed]",
      "text/plain": [
       "<Figure size 432x288 with 1 Axes>"
      ]
     },
     "metadata": {
      "needs_background": "light"
     },
     "output_type": "display_data"
    }
   ],
   "source": [
    "show_res = [mnist[i] for i in [59289, 28001, 35508, 43876]]\n",
    "show_res = torch.stack([img for img,lbl in show_res])\n",
    "x_res = torchvision.utils.make_grid(show_res, nrow=6, pad_value=1)\n",
    "plt.imshow(x_res.numpy().transpose((1,2,0)))\n",
    "plt.axis('off')\n",
    "plt.show()"
   ]
  },
  {
   "cell_type": "markdown",
   "id": "liked-madison",
   "metadata": {},
   "source": [
    "## Images + reconstructions"
   ]
  },
  {
   "cell_type": "code",
   "execution_count": 1,
   "id": "filled-chorus",
   "metadata": {},
   "outputs": [
    {
     "ename": "NameError",
     "evalue": "name 'mnist' is not defined",
     "output_type": "error",
     "traceback": [
      "\u001b[0;31m---------------------------------------------------------------------------\u001b[0m",
      "\u001b[0;31mNameError\u001b[0m                                 Traceback (most recent call last)",
      "\u001b[0;32m<ipython-input-1-b5239ecc0e85>\u001b[0m in \u001b[0;36m<module>\u001b[0;34m\u001b[0m\n\u001b[0;32m----> 1\u001b[0;31m \u001b[0mimage\u001b[0m\u001b[0;34m,\u001b[0m \u001b[0mlabel\u001b[0m \u001b[0;34m=\u001b[0m \u001b[0mmnist\u001b[0m\u001b[0;34m[\u001b[0m\u001b[0;36m35508\u001b[0m\u001b[0;34m]\u001b[0m\u001b[0;34m\u001b[0m\u001b[0;34m\u001b[0m\u001b[0m\n\u001b[0m\u001b[1;32m      2\u001b[0m \u001b[0mimage\u001b[0m \u001b[0;34m=\u001b[0m \u001b[0mimage\u001b[0m\u001b[0;34m.\u001b[0m\u001b[0mreshape\u001b[0m\u001b[0;34m(\u001b[0m\u001b[0;34m(\u001b[0m\u001b[0;36m1\u001b[0m\u001b[0;34m,\u001b[0m \u001b[0;36m1\u001b[0m\u001b[0;34m,\u001b[0m \u001b[0;36m28\u001b[0m\u001b[0;34m,\u001b[0m \u001b[0;36m28\u001b[0m\u001b[0;34m)\u001b[0m\u001b[0;34m)\u001b[0m\u001b[0;34m\u001b[0m\u001b[0;34m\u001b[0m\u001b[0m\n\u001b[1;32m      3\u001b[0m \u001b[0mmu\u001b[0m\u001b[0;34m,\u001b[0m \u001b[0msigma\u001b[0m \u001b[0;34m=\u001b[0m \u001b[0mautoencoder\u001b[0m\u001b[0;34m(\u001b[0m\u001b[0mimage\u001b[0m\u001b[0;34m)\u001b[0m\u001b[0;34m\u001b[0m\u001b[0;34m\u001b[0m\u001b[0m\n\u001b[1;32m      4\u001b[0m \u001b[0mepsilon\u001b[0m \u001b[0;34m=\u001b[0m \u001b[0mtorch\u001b[0m\u001b[0;34m.\u001b[0m\u001b[0mrandn_like\u001b[0m\u001b[0;34m(\u001b[0m\u001b[0msigma\u001b[0m\u001b[0;34m)\u001b[0m\u001b[0;34m\u001b[0m\u001b[0;34m\u001b[0m\u001b[0m\n\u001b[1;32m      5\u001b[0m \u001b[0mz\u001b[0m \u001b[0;34m=\u001b[0m \u001b[0mmu\u001b[0m \u001b[0;34m+\u001b[0m \u001b[0msigma\u001b[0m\u001b[0;34m*\u001b[0m\u001b[0mepsilon\u001b[0m\u001b[0;34m\u001b[0m\u001b[0;34m\u001b[0m\u001b[0m\n",
      "\u001b[0;31mNameError\u001b[0m: name 'mnist' is not defined"
     ]
    }
   ],
   "source": [
    "image, label = mnist[35508]\n",
    "image = image.reshape((1, 1, 28, 28))\n",
    "mu, sigma = autoencoder(image)\n",
    "epsilon = torch.randn_like(sigma)\n",
    "z = mu + sigma*epsilon\n",
    "\n",
    "new_image = autoencoder.f(z)\n",
    "plt.imshow(new_image.detach().numpy()[0].transpose((1, 2, 0)))\n",
    "plt.axis('off')\n",
    "plt.show"
   ]
  },
  {
   "cell_type": "markdown",
   "id": "circular-container",
   "metadata": {},
   "source": [
    "## Varying noise for 35508"
   ]
  },
  {
   "cell_type": "markdown",
   "id": "partial-photographer",
   "metadata": {},
   "source": [
    "## 12 random images"
   ]
  },
  {
   "cell_type": "markdown",
   "id": "bulgarian-angel",
   "metadata": {},
   "source": [
    "## Interpolating two images"
   ]
  },
  {
   "cell_type": "markdown",
   "id": "stainless-staff",
   "metadata": {},
   "source": [
    "# Question (d)"
   ]
  },
  {
   "cell_type": "markdown",
   "id": "working-serbia",
   "metadata": {},
   "source": [
    "1. Modify autoencoder so it uses 100 samples for MCI. \n",
    "    - What is it using now? Importance sampling? Where is the likelihood under the sampling distribution in the VAE?\n",
    "2. Show likely/unlikely images. What makes an image likely?"
   ]
  },
  {
   "cell_type": "markdown",
   "id": "directed-villa",
   "metadata": {},
   "source": [
    "# Question (e)"
   ]
  },
  {
   "cell_type": "markdown",
   "id": "assured-syntax",
   "metadata": {},
   "source": [
    "Train the autoencoder with 20 dimensions:"
   ]
  },
  {
   "cell_type": "code",
   "execution_count": null,
   "id": "burning-supplier",
   "metadata": {},
   "outputs": [],
   "source": [
    "autoencoder = GaussianEncoder(BernoulliImageGenerator(20))\n",
    "optimizer = optim.Adam(autoencoder.parameters())\n",
    "epoch = 0\n",
    "\n",
    "while epoch < 10:\n",
    "    for batch_num, (images, labels) in enumerate(mnist_batched):\n",
    "        optimizer.zero_grad()\n",
    "        loglik_lb = torch.mean(autoencoder.loglik_lb(images))\n",
    "        (-loglik_lb).backward()\n",
    "        optimizer.step()\n",
    "    epoch += 1\n",
    "    print(f\"epoch: {epoch}, loglikelihood: {loglik_lb.item():.4}\")"
   ]
  },
  {
   "cell_type": "markdown",
   "id": "bored-cleaner",
   "metadata": {},
   "source": [
    "Evaluate \"them\" - the dimensions? Explain your grounds for comparison.\n",
    "\n",
    "Focus on evaluation metrics."
   ]
  },
  {
   "cell_type": "markdown",
   "id": "manufactured-northwest",
   "metadata": {},
   "source": [
    "# Question (f)"
   ]
  },
  {
   "cell_type": "markdown",
   "id": "broken-million",
   "metadata": {},
   "source": [
    "1. Train a generative model $X = f(Z, y)$ so that $Z$ captures the style of the digit. \n",
    "2. Show 4 sets of styles with different digits in each style."
   ]
  },
  {
   "cell_type": "code",
   "execution_count": null,
   "id": "prospective-tiger",
   "metadata": {},
   "outputs": [],
   "source": []
  }
 ],
 "metadata": {
  "kernelspec": {
   "display_name": "Python 3",
   "language": "python",
   "name": "python3"
  },
  "language_info": {
   "codemirror_mode": {
    "name": "ipython",
    "version": 3
   },
   "file_extension": ".py",
   "mimetype": "text/x-python",
   "name": "python",
   "nbconvert_exporter": "python",
   "pygments_lexer": "ipython3",
   "version": "3.8.5"
  }
 },
 "nbformat": 4,
 "nbformat_minor": 5
}
