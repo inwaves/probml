{
 "cells": [
  {
   "cell_type": "code",
   "execution_count": 1,
   "id": "arbitrary-appointment",
   "metadata": {},
   "outputs": [],
   "source": [
    "import pandas\n",
    "import matplotlib.pyplot as plt\n",
    "import numpy as np\n",
    "import torch.nn as nn\n",
    "import torch.optim as optim\n",
    "import torch"
   ]
  },
  {
   "cell_type": "code",
   "execution_count": 2,
   "id": "equipped-concert",
   "metadata": {},
   "outputs": [
    {
     "data": {
      "text/plain": [
       "<matplotlib.collections.PathCollection at 0x7fb2b02345b0>"
      ]
     },
     "execution_count": 2,
     "metadata": {},
     "output_type": "execute_result"
    },
    {
     "data": {
      "image/png": "[encoded data removed]",
      "text/plain": [
       "<Figure size 432x288 with 1 Axes>"
      ]
     },
     "metadata": {
      "needs_background": "light"
     },
     "output_type": "display_data"
    }
   ],
   "source": [
    "url = 'https://www.cl.cam.ac.uk/teaching/2122/DataSci/data/xkcd.csv'\n",
    "xkcd = pandas.read_csv(url)\n",
    "\n",
    "plt.scatter(xkcd.x, xkcd.y)"
   ]
  },
  {
   "cell_type": "code",
   "execution_count": 3,
   "id": "indian-compatibility",
   "metadata": {
    "jupyter": {
     "source_hidden": true
    }
   },
   "outputs": [],
   "source": [
    "import signal\n",
    "class Interruptable():\n",
    "    class Breakout(Exception):\n",
    "        pass\n",
    "    def __init__(self):\n",
    "        self.interrupted = False\n",
    "        self.orig_handler = None\n",
    "    def __enter__(self):\n",
    "        self.orig_handler = signal.getsignal(signal.SIGINT)\n",
    "        signal.signal(signal.SIGINT, self.handle)\n",
    "        return self.check\n",
    "    def __exit__(self, exc_type, exc_val, exc_tb):\n",
    "        signal.signal(signal.SIGINT, self.orig_handler)\n",
    "        if exc_type == Interruptable.Breakout:\n",
    "            print(' stopped')\n",
    "            return True\n",
    "        return False\n",
    "    def handle(self, signal, frame):\n",
    "        if self.interrupted:\n",
    "            self.orig_handler(signal, frame)\n",
    "        print('Interrupting ...', end='')\n",
    "        self.interrupted = True\n",
    "    def check(self):\n",
    "        if self.interrupted:\n",
    "            raise Interruptable.Breakout\n",
    "            \n",
    "def enumerate_cycle(g, shuffle=True):\n",
    "    epoch = 0\n",
    "    while True:\n",
    "        if shuffle:\n",
    "            for i,j in enumerate(np.random.permutation(len(g))):\n",
    "                yield (epoch,i), g[j]\n",
    "        else:\n",
    "            for i,x in enumerate(g):\n",
    "                yield (epoch,i), x\n",
    "        epoch = epoch + 1"
   ]
  },
  {
   "cell_type": "markdown",
   "id": "awful-penny",
   "metadata": {},
   "source": [
    "# Question (a)"
   ]
  },
  {
   "cell_type": "markdown",
   "id": "statewide-edwards",
   "metadata": {},
   "source": [
    "Define model:"
   ]
  },
  {
   "cell_type": "code",
   "execution_count": 4,
   "id": "chinese-neutral",
   "metadata": {},
   "outputs": [],
   "source": [
    "class Wiggle(nn.Module):\n",
    "    def __init__(self):\n",
    "        super().__init__()\n",
    "        self.f = nn.Sequential(\n",
    "            nn.Linear(1,4),\n",
    "            nn.LeakyReLU(),\n",
    "            nn.Linear(4,20),\n",
    "            nn.LeakyReLU(),\n",
    "            nn.Linear(20,20),\n",
    "            nn.LeakyReLU(),\n",
    "            nn.Linear(20,1)\n",
    "        )\n",
    "    def forward(self, x):\n",
    "        return self.f(x)\n",
    "    \n",
    "class RWiggle(nn.Module):\n",
    "    \"\"\"Y_i ~ N(f(x_i), sigma2)\"\"\"\n",
    "    def __init__(self):\n",
    "        super().__init__()\n",
    "        self.mu = Wiggle()\n",
    "        self.sigmapre = nn.Parameter(torch.tensor(1.0))\n",
    "    @property\n",
    "    def sigma(self):\n",
    "         return torch.nn.functional.softplus(self.sigmapre)\n",
    "    def forward(self, y, x):\n",
    "        sigma2 = torch.pow(self.sigma, 2)\n",
    "        return - 0.5*torch.log(2*np.pi*sigma2) - torch.pow(y - self.mu(x), 2) / (2*sigma2)"
   ]
  },
  {
   "cell_type": "markdown",
   "id": "younger-acting",
   "metadata": {},
   "source": [
    "Train model:"
   ]
  },
  {
   "cell_type": "code",
   "execution_count": 7,
   "id": "nervous-stability",
   "metadata": {},
   "outputs": [
    {
     "name": "stdout",
     "output_type": "stream",
     "text": [
      "epoch==1000, loglik=-2.011, sigma=1.486\n",
      "epoch==2000, loglik=-1.945, sigma=1.591\n",
      "epoch==3000, loglik=-1.932, sigma=1.646\n",
      "epoch==4000, loglik=-1.918, sigma=1.654\n",
      "epoch==5000, loglik=-1.881, sigma=1.603\n",
      "epoch==6000, loglik=-1.859, sigma=1.557\n",
      "epoch==7000, loglik=-1.842, sigma=1.531\n",
      "epoch==8000, loglik=-1.824, sigma=1.502\n",
      "epoch==9000, loglik=-1.795, sigma=1.458\n",
      "epoch==10000, loglik=-1.756, sigma=1.401\n",
      "epoch==11000, loglik=-1.701, sigma=1.327\n",
      "epoch==12000, loglik=-1.677, sigma=1.296\n",
      "epoch==13000, loglik=-1.665, sigma=1.277\n",
      "epoch==14000, loglik=-1.652, sigma=1.265\n",
      "epoch==15000, loglik=-1.643, sigma=1.25\n",
      "epoch==16000, loglik=-1.637, sigma=1.243\n",
      "epoch==17000, loglik=-1.626, sigma=1.231\n",
      "epoch==18000, loglik=-1.62, sigma=1.223\n",
      "epoch==19000, loglik=-1.617, sigma=1.22\n",
      "epoch==20000, loglik=-1.612, sigma=1.214\n",
      "epoch==21000, loglik=-1.611, sigma=1.211\n",
      "epoch==22000, loglik=-1.61, sigma=1.215\n",
      "epoch==23000, loglik=-1.608, sigma=1.208\n",
      "epoch==24000, loglik=-1.612, sigma=1.21\n",
      "epoch==25000, loglik=-1.611, sigma=1.209\n",
      "epoch==26000, loglik=-1.61, sigma=1.208\n",
      "epoch==27000, loglik=-1.608, sigma=1.208\n",
      "epoch==28000, loglik=-1.605, sigma=1.205\n",
      "epoch==29000, loglik=-1.606, sigma=1.204\n",
      "epoch==30000, loglik=-1.605, sigma=1.205\n",
      "Interrupting ... stopped\n"
     ]
    }
   ],
   "source": [
    "x = torch.tensor(xkcd.x, dtype=torch.float)[:, None]\n",
    "y = torch.tensor(xkcd.y, dtype=torch.float)[:, None]\n",
    "\n",
    "simple_wiggle = RWiggle()\n",
    "epoch = 0\n",
    "optimizer = optim.Adam(simple_wiggle.parameters())\n",
    "simple_training_loglik = []\n",
    "\n",
    "with Interruptable() as check_interrupted:\n",
    "    while True:\n",
    "        check_interrupted()\n",
    "        optimizer.zero_grad()\n",
    "        loglikelihood = torch.mean(simple_wiggle(y, x))\n",
    "        (-loglikelihood).backward()\n",
    "        optimizer.step()\n",
    "        epoch += 1\n",
    "        \n",
    "        if epoch % 1000 == 0:\n",
    "            print(f'epoch=={epoch}, loglik={loglikelihood.item():.4}, sigma={simple_wiggle.sigma.item():.4}')\n",
    "            simple_training_loglik.append(loglikelihood.item())"
   ]
  },
  {
   "cell_type": "markdown",
   "id": "annual-breakdown",
   "metadata": {},
   "source": [
    "Plot the model:"
   ]
  },
  {
   "cell_type": "code",
   "execution_count": 25,
   "id": "rational-giving",
   "metadata": {},
   "outputs": [
    {
     "data": {
      "text/plain": [
       "<matplotlib.collections.PolyCollection at 0x7fb270a44e50>"
      ]
     },
     "execution_count": 25,
     "metadata": {},
     "output_type": "execute_result"
    },
    {
     "data": {
      "image/png": "[encoded data removed]",
      "text/plain": [
       "<Figure size 432x288 with 1 Axes>"
      ]
     },
     "metadata": {
      "needs_background": "light"
     },
     "output_type": "display_data"
    }
   ],
   "source": [
    "simple_mu_x = simple_wiggle.mu(x).detach().numpy()\n",
    "sigma = simple_wiggle.sigma.item()\n",
    "\n",
    "plt.plot(xkcd.x, mu_x)\n",
    "plt.fill_between(xkcd.x, (mu_x-1.96*sigma).reshape(31,), (mu_x+1.96*sigma).reshape(31,), alpha=0.2)"
   ]
  },
  {
   "cell_type": "code",
   "execution_count": 9,
   "id": "informational-problem",
   "metadata": {},
   "outputs": [],
   "source": [
    "class Wiggle(nn.Module):\n",
    "    def __init__(self):\n",
    "        super().__init__()\n",
    "        self.f = nn.Sequential(\n",
    "            nn.Linear(1,4),\n",
    "            nn.LeakyReLU(),\n",
    "            nn.Linear(4,20),\n",
    "            nn.LeakyReLU(),\n",
    "            nn.Linear(20,20),\n",
    "            nn.LeakyReLU(),\n",
    "            nn.Linear(20,1)\n",
    "        )\n",
    "    def forward(self, x):\n",
    "        return self.f(x)\n",
    "    \n",
    "class HeteroscedasticRWiggle(nn.Module):\n",
    "    \"\"\"Y_i ~ N(f(x_i), f(x_i)^2)\"\"\"\n",
    "    def __init__(self):\n",
    "        super().__init__()\n",
    "        self.mu = Wiggle()\n",
    "        self.sigmapre = Wiggle()\n",
    "    def sigma(self, x):\n",
    "         return torch.nn.functional.softplus(self.sigmapre(x))\n",
    "        \n",
    "    def forward(self, y, x):\n",
    "        sigma2 = torch.pow(self.sigma(x), 2)\n",
    "        return - 0.5*torch.log(2*np.pi*sigma2) - torch.pow(y - self.mu(x), 2) / (2*sigma2)"
   ]
  },
  {
   "cell_type": "code",
   "execution_count": 53,
   "id": "polish-detail",
   "metadata": {},
   "outputs": [
    {
     "name": "stdout",
     "output_type": "stream",
     "text": [
      "epoch: 1000, loglik: -2.14\n",
      "epoch: 2000, loglik: -2.111\n",
      "epoch: 3000, loglik: -2.091\n",
      "epoch: 4000, loglik: -2.083\n",
      "epoch: 5000, loglik: -2.073\n",
      "epoch: 6000, loglik: -2.06\n",
      "epoch: 7000, loglik: -2.031\n",
      "epoch: 8000, loglik: -2.008\n",
      "epoch: 9000, loglik: -1.998\n",
      "epoch: 10000, loglik: -1.994\n",
      "epoch: 11000, loglik: -1.991\n",
      "epoch: 12000, loglik: -1.987\n",
      "epoch: 13000, loglik: -1.979\n",
      "epoch: 14000, loglik: -1.964\n",
      "epoch: 15000, loglik: -1.942\n",
      "epoch: 16000, loglik: -1.905\n",
      "epoch: 17000, loglik: -1.862\n",
      "epoch: 18000, loglik: -1.941\n",
      "epoch: 19000, loglik: -1.692\n",
      "epoch: 20000, loglik: -1.705\n",
      "epoch: 21000, loglik: -1.682\n",
      "epoch: 22000, loglik: -1.633\n",
      "epoch: 23000, loglik: -1.623\n",
      "epoch: 24000, loglik: -1.928\n",
      "epoch: 25000, loglik: -1.612\n",
      "epoch: 26000, loglik: -1.608\n",
      "epoch: 27000, loglik: -1.599\n",
      "epoch: 28000, loglik: -1.589\n",
      "epoch: 29000, loglik: -1.602\n",
      "epoch: 30000, loglik: -1.626\n",
      "Interrupting ... stopped\n"
     ]
    }
   ],
   "source": [
    "heteroscedastic_wiggle = HeteroscedasticRWiggle()\n",
    "epoch = 0\n",
    "optimizer = optim.SGD(heteroscedastic_wiggle.parameters(), lr=0.01)\n",
    "heteroscedastic_training_likelihood = []\n",
    "\n",
    "with Interruptable() as check_interrupted:\n",
    "    while True:\n",
    "        check_interrupted()\n",
    "        optimizer.zero_grad()\n",
    "        loglikelihood = torch.mean(heteroscedastic_wiggle(y, x))\n",
    "        (-loglikelihood).backward()\n",
    "        optimizer.step()\n",
    "        epoch += 1\n",
    "        \n",
    "        if epoch % 1000 == 0:\n",
    "            print(f'epoch: {epoch}, loglik: {loglikelihood.item():.4}')\n",
    "            heteroscedastic_training_likelihood.append(loglikelihood.item())"
   ]
  },
  {
   "cell_type": "code",
   "execution_count": 11,
   "id": "partial-bikini",
   "metadata": {},
   "outputs": [
    {
     "data": {
      "text/plain": [
       "<matplotlib.collections.PolyCollection at 0x7fb2a069c700>"
      ]
     },
     "execution_count": 11,
     "metadata": {},
     "output_type": "execute_result"
    },
    {
     "data": {
      "image/png": "[encoded data removed]",
      "text/plain": [
       "<Figure size 432x288 with 1 Axes>"
      ]
     },
     "metadata": {
      "needs_background": "light"
     },
     "output_type": "display_data"
    }
   ],
   "source": [
    "mu_x = heteroscedastic_wiggle.mu(x).detach().numpy()\n",
    "sigma = heteroscedastic_wiggle.sigma(x).detach().numpy()\n",
    "\n",
    "plt.plot(xkcd.x, mu_x)\n",
    "plt.fill_between(xkcd.x, (mu_x-1.96*sigma).reshape(31,), (mu_x+1.96*sigma).reshape(31,), alpha=0.2)"
   ]
  },
  {
   "cell_type": "markdown",
   "id": "productive-catering",
   "metadata": {},
   "source": [
    "# Question (b)"
   ]
  },
  {
   "cell_type": "markdown",
   "id": "packed-headset",
   "metadata": {},
   "source": [
    "Maximum possible training log likelihood for *each* of these two models?\n",
    "\n",
    "If it's useful, we can calculate the log likelihood for the data under a perfectly overfitted model. To do so we use the empirical distribution, $$q_x =  \\frac{\\text{# of occurrences of x}}{\\text{total number of samples}} $$"
   ]
  },
  {
   "cell_type": "code",
   "execution_count": 12,
   "id": "architectural-peoples",
   "metadata": {},
   "outputs": [],
   "source": [
    "def q(x):\n",
    "    _, counts = np.unique(x, return_counts=True)\n",
    "    return counts/x.shape[0]"
   ]
  },
  {
   "cell_type": "markdown",
   "id": "toxic-warrant",
   "metadata": {},
   "source": [
    "The likelihood of the dataset under this perfectly overfitted model is $$Pr(x_1, \\dots, x_n) = \\sum_x q_x log q_x$$"
   ]
  },
  {
   "cell_type": "code",
   "execution_count": 13,
   "id": "flexible-hydrogen",
   "metadata": {},
   "outputs": [
    {
     "data": {
      "text/plain": [
       "-3.4339872044851463"
      ]
     },
     "execution_count": 13,
     "metadata": {},
     "output_type": "execute_result"
    }
   ],
   "source": [
    "q_res = q(x)\n",
    "\n",
    "np.sum(q_res * np.log(q_res))"
   ]
  },
  {
   "cell_type": "markdown",
   "id": "characteristic-spencer",
   "metadata": {},
   "source": [
    "The likelihood of the dataset under the trained homoscedastic model is: $$Pr(x_1, \\dots, x_n) = \\sum_x q_x log p_x$$"
   ]
  },
  {
   "cell_type": "code",
   "execution_count": 24,
   "id": "surface-doctor",
   "metadata": {},
   "outputs": [
    {
     "data": {
      "text/plain": [
       "-109.76918411254883"
      ]
     },
     "execution_count": 24,
     "metadata": {},
     "output_type": "execute_result"
    }
   ],
   "source": [
    "# We normalise mu(x) to be a probability distribution.\n",
    "p_x = mu_x / np.sum(mu_x)\n",
    "\n",
    "np.sum(q_res * np.log(p_x))"
   ]
  },
  {
   "cell_type": "code",
   "execution_count": 26,
   "id": "amended-spell",
   "metadata": {},
   "outputs": [
    {
     "data": {
      "text/plain": [
       "-109.79414987564087"
      ]
     },
     "execution_count": 26,
     "metadata": {},
     "output_type": "execute_result"
    }
   ],
   "source": [
    "# We normalise mu(x) to be a probability distribution.\n",
    "p_x = simple_mu_x / np.sum(simple_mu_x)\n",
    "\n",
    "np.sum(q_res * np.log(p_x))"
   ]
  },
  {
   "cell_type": "markdown",
   "id": "stainless-justice",
   "metadata": {},
   "source": [
    "Plot a graph of the training likelihood as a function of epoch, for both models:"
   ]
  },
  {
   "cell_type": "code",
   "execution_count": 54,
   "id": "coordinate-metropolitan",
   "metadata": {},
   "outputs": [
    {
     "data": {
      "text/plain": [
       "[<matplotlib.lines.Line2D at 0x7fb2609da790>]"
      ]
     },
     "execution_count": 54,
     "metadata": {},
     "output_type": "execute_result"
    },
    {
     "data": {
      "image/png": "[encoded data removed]",
      "text/plain": [
       "<Figure size 432x288 with 1 Axes>"
      ]
     },
     "metadata": {
      "needs_background": "light"
     },
     "output_type": "display_data"
    }
   ],
   "source": [
    "epochs = np.arange(1000, 31000, 1000)\n",
    "\n",
    "plt.plot(epochs, heteroscedastic_training_likelihood)\n",
    "plt.plot(epochs, simple_training_loglik)"
   ]
  },
  {
   "cell_type": "markdown",
   "id": "hungry-painting",
   "metadata": {},
   "source": [
    "Why do those dips occur for the heteroscedastic model?"
   ]
  },
  {
   "cell_type": "markdown",
   "id": "growing-wrist",
   "metadata": {},
   "source": [
    "# Question (c)"
   ]
  },
  {
   "cell_type": "code",
   "execution_count": 28,
   "id": "political-strip",
   "metadata": {},
   "outputs": [
    {
     "data": {
      "image/png": "[encoded data removed]",
      "text/plain": [
       "<Figure size 432x288 with 1 Axes>"
      ]
     },
     "metadata": {
      "needs_background": "light"
     },
     "output_type": "display_data"
    }
   ],
   "source": [
    "import torchvision\n",
    "\n",
    "mnist = torchvision.datasets.MNIST(\n",
    "    root = 'pytorch-data/',  # where to put the files\n",
    "    download = True,         # if files aren't here, download them\n",
    "    train = True,            # whether to import the test or the train subset\n",
    "    # PyTorch uses PyTorch tensors internally, not numpy arrays, so convert them.\n",
    "    transform = torchvision.transforms.ToTensor()\n",
    ")\n",
    "\n",
    "\n",
    "# Images can be plotted with matplotlib imshow\n",
    "import torch\n",
    "import matplotlib.pyplot as plt\n",
    "show = [mnist[i] for i in [59289, 28001, 35508, 43876, 23627, 14028]]\n",
    "show = torch.stack([img for img,lbl in show])\n",
    "x = torchvision.utils.make_grid(show, nrow=6, pad_value=1)\n",
    "plt.imshow(x.numpy().transpose((1,2,0)))\n",
    "plt.axis('off')\n",
    "plt.show()\n",
    "\n",
    "mnist_batched = torch.utils.data.DataLoader(mnist, batch_size=100)"
   ]
  },
  {
   "cell_type": "code",
   "execution_count": 29,
   "id": "ongoing-wheat",
   "metadata": {},
   "outputs": [],
   "source": [
    "class BernoulliImageGenerator(nn.Module):\n",
    "    def __init__(self, d=4):\n",
    "        super().__init__()\n",
    "        self.d = d\n",
    "        self.f = nn.Sequential(\n",
    "            nn.Linear(d, 128),\n",
    "            nn.LeakyReLU(),\n",
    "            nn.Linear(128, 1728),\n",
    "            nn.LeakyReLU(),\n",
    "            nn.Unflatten(1, (12,12,12)), # -> B×12×12×12\n",
    "            nn.Conv2d(12, 36, 3, 1),     # -> [B×36×10×10]\n",
    "            nn.LeakyReLU(),\n",
    "            nn.Flatten(1),               # -> [B×3600]\n",
    "            nn.Unflatten(1, (4,30,30)),  # -> [B×4×30×30]\n",
    "            nn.Conv2d(4, 4, 3, 1),       # -> [B×4×28×28]\n",
    "            nn.LeakyReLU(),\n",
    "            nn.Conv2d(4, 1, 1, 1),       # -> [B×1×28×28]\n",
    "            nn.Sigmoid()\n",
    "        )\n",
    "\n",
    "    def forward(self, z):\n",
    "        return self.f(z)\n",
    "\n",
    "    def loglik(self, x, z):\n",
    "        xr = self(z)\n",
    "        return (x*torch.log(xr) + (1-x)*torch.log(1-xr)).sum((1,2,3))\n",
    "\n",
    "\n",
    "class GaussianEncoder(nn.Module):\n",
    "    def __init__(self, decoder):\n",
    "        super().__init__()\n",
    "        self.d = decoder.d\n",
    "        self.f = decoder\n",
    "        self.g = nn.Sequential(\n",
    "            nn.Conv2d(1, 32, 3, 1),\n",
    "            nn.LeakyReLU(),\n",
    "            nn.Conv2d(32, 64, 3, 1),\n",
    "            nn.MaxPool2d(2),\n",
    "            nn.Flatten(1),\n",
    "            nn.Linear(9216, 128),\n",
    "            nn.LeakyReLU(),\n",
    "            nn.Linear(128, self.d*2)\n",
    "        )\n",
    "\n",
    "    def forward(self, x):\n",
    "        μτ = self.g(x)\n",
    "        μ,τ = μτ[:,:self.d], μτ[:,self.d:]\n",
    "        return μ, torch.exp(τ/2)\n",
    "\n",
    "    def loglik_lb(self, x):\n",
    "        μ,σ = self(x)\n",
    "        kl = 0.5 * (μ**2 + σ**2 - torch.log(σ**2) - 1).sum(1)\n",
    "        ε = torch.randn_like(σ)\n",
    "        ll = self.f.loglik(x, z=μ+σ*ε)\n",
    "        return ll - kl"
   ]
  },
  {
   "cell_type": "code",
   "execution_count": null,
   "id": "charitable-certification",
   "metadata": {},
   "outputs": [
    {
     "name": "stdout",
     "output_type": "stream",
     "text": [
      "epoch: 1, loglikelihood: -158.4\n",
      "epoch: 2, loglikelihood: -144.3\n"
     ]
    }
   ],
   "source": [
    "autoencoder = GaussianEncoder(BernoulliImageGenerator())\n",
    "optimizer = optim.Adam(autoencoder.parameters())\n",
    "epoch = 0\n",
    "\n",
    "while epoch < 10:\n",
    "    for batch_num, (images, labels) in enumerate(mnist_batched):\n",
    "        optimizer.zero_grad()\n",
    "        loglik_lb = torch.mean(autoencoder.loglik_lb(images))\n",
    "        (-loglik_lb).backward()\n",
    "        optimizer.step()\n",
    "    epoch += 1\n",
    "    print(f\"epoch: {epoch}, loglikelihood: {loglik_lb.item():.4}\")"
   ]
  },
  {
   "cell_type": "code",
   "execution_count": 28,
   "id": "attached-finnish",
   "metadata": {},
   "outputs": [],
   "source": [
    "t = torch.tensor([[0.0075],                   \n",
    "        [1.0354],\n",
    "        [1.4496],\n",
    "        [1.7275],\n",
    "        [1.4954],\n",
    "        [1.3395],\n",
    "        [1.2392],\n",
    "        [1.1268],\n",
    "        [0.8068],\n",
    "        [0.7436],\n",
    "        [0.4254],\n",
    "        [0.3574],\n",
    "        [0.1803],\n",
    "        [0.1550],\n",
    "        [0.0109],\n",
    "        [0.0088],\n",
    "        [0.0449],\n",
    "        [0.4580],\n",
    "        [1.7611],\n",
    "        [1.7621],\n",
    "        [1.7658],\n",
    "        [1.7822],\n",
    "        [1.8407],\n",
    "        [1.8818],\n",
    "        [1.9127],\n",
    "        [1.9304],\n",
    "        [1.9356],\n",
    "        [1.9504],\n",
    "        [1.9588],\n",
    "        [1.9833],\n",
    "        [2.0080]])"
   ]
  },
  {
   "cell_type": "code",
   "execution_count": 30,
   "id": "dental-result",
   "metadata": {},
   "outputs": [
    {
     "data": {
      "text/plain": [
       "tensor(37.0849)"
      ]
     },
     "execution_count": 30,
     "metadata": {},
     "output_type": "execute_result"
    }
   ],
   "source": [
    "t.sum()"
   ]
  },
  {
   "cell_type": "code",
   "execution_count": 33,
   "id": "designed-mobility",
   "metadata": {},
   "outputs": [],
   "source": [
    "u = torch.tensor([[0.0040],\n",
    "        [0.8332],\n",
    "        [1.2883],\n",
    "        [1.6831],\n",
    "        [1.4608],\n",
    "        [1.3146],\n",
    "        [1.2638],\n",
    "        [1.2137],\n",
    "        [1.0554],\n",
    "        [1.0186],\n",
    "        [0.6152],\n",
    "        [0.5363],\n",
    "        [0.3106],\n",
    "        [0.2761],\n",
    "        [0.1188],\n",
    "        [2.6515],\n",
    "        [2.6235],\n",
    "        [2.5805],\n",
    "        [2.5386],\n",
    "        [2.5379],\n",
    "        [2.5354],\n",
    "        [2.4903],\n",
    "        [2.3070],\n",
    "        [2.1814],\n",
    "        [2.0886],\n",
    "        [2.0366],\n",
    "        [2.0214],\n",
    "        [1.9782],\n",
    "        [1.9540],\n",
    "        [1.8836],\n",
    "        [1.8142]])"
   ]
  },
  {
   "cell_type": "code",
   "execution_count": 50,
   "id": "mobile-drunk",
   "metadata": {},
   "outputs": [
    {
     "data": {
      "text/plain": [
       "(tensor(1.1963), tensor(1.5876))"
      ]
     },
     "execution_count": 50,
     "metadata": {},
     "output_type": "execute_result"
    }
   ],
   "source": [
    "t.mean(), u.mean()"
   ]
  },
  {
   "cell_type": "code",
   "execution_count": 51,
   "id": "first-plaintiff",
   "metadata": {},
   "outputs": [
    {
     "data": {
      "text/plain": [
       "tensor(-1.0308)"
      ]
     },
     "execution_count": 51,
     "metadata": {},
     "output_type": "execute_result"
    }
   ],
   "source": [
    "(-0.5*torch.log(2*np.pi*(u**2))).mean()"
   ]
  },
  {
   "cell_type": "code",
   "execution_count": 39,
   "id": "owned-chain",
   "metadata": {},
   "outputs": [
    {
     "data": {
      "text/plain": [
       "tensor(1.0308)"
      ]
     },
     "execution_count": 39,
     "metadata": {},
     "output_type": "execute_result"
    }
   ],
   "source": [
    "(0.5*torch.log(2*np.pi* (u**2))).mean()"
   ]
  },
  {
   "cell_type": "code",
   "execution_count": 48,
   "id": "smooth-gasoline",
   "metadata": {},
   "outputs": [],
   "source": [
    "s = torch.tensor(1.0)"
   ]
  },
  {
   "cell_type": "code",
   "execution_count": 49,
   "id": "infinite-eating",
   "metadata": {},
   "outputs": [
    {
     "data": {
      "text/plain": [
       "tensor(1.)"
      ]
     },
     "execution_count": 49,
     "metadata": {},
     "output_type": "execute_result"
    }
   ],
   "source": [
    "torch.pow(s, 2)"
   ]
  },
  {
   "cell_type": "code",
   "execution_count": null,
   "id": "collaborative-tooth",
   "metadata": {},
   "outputs": [],
   "source": []
  }
 ],
 "metadata": {
  "kernelspec": {
   "display_name": "Python 3",
   "language": "python",
   "name": "python3"
  },
  "language_info": {
   "codemirror_mode": {
    "name": "ipython",
    "version": 3
   },
   "file_extension": ".py",
   "mimetype": "text/x-python",
   "name": "python",
   "nbconvert_exporter": "python",
   "pygments_lexer": "ipython3",
   "version": "3.8.5"
  }
 },
 "nbformat": 4,
 "nbformat_minor": 5
}
