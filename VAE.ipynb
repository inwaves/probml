{
 "cells": [
  {
   "cell_type": "markdown",
   "id": "southern-remains",
   "metadata": {},
   "source": [
    "# VAE on MNIST\n",
    "\n",
    "This is for Question (f) of the assignment. I need it to be tidy, so I can experiment with it."
   ]
  },
  {
   "cell_type": "markdown",
   "id": "correct-newcastle",
   "metadata": {},
   "source": [
    "## Imports"
   ]
  },
  {
   "cell_type": "code",
   "execution_count": 1,
   "id": "entertaining-potential",
   "metadata": {},
   "outputs": [
    {
     "data": {
      "image/png": "[encoded data removed]",
      "text/plain": [
       "<Figure size 432x288 with 1 Axes>"
      ]
     },
     "metadata": {
      "needs_background": "light"
     },
     "output_type": "display_data"
    }
   ],
   "source": [
    "import pandas\n",
    "import matplotlib.pyplot as plt\n",
    "import numpy as np\n",
    "import torch.nn as nn\n",
    "import torch.optim as optim\n",
    "import torch\n",
    "import torchvision\n",
    "\n",
    "import random\n",
    "\n",
    "mnist = torchvision.datasets.MNIST(\n",
    "    root = 'pytorch-data/',  # where to put the files\n",
    "    download = True,         # if files aren't here, download them\n",
    "    train = True,            # whether to import the test or the train subset\n",
    "    # PyTorch uses PyTorch tensors internally, not numpy arrays, so convert them.\n",
    "    transform = torchvision.transforms.ToTensor()\n",
    ")\n",
    "\n",
    "# Images can be plotted with matplotlib imshow\n",
    "show = [mnist[i] for i in [59289, 28001, 35508, 43876, 23627, 14028]]\n",
    "show = torch.stack([img for img,lbl in show])\n",
    "x = torchvision.utils.make_grid(show, nrow=6, pad_value=1)\n",
    "plt.imshow(x.numpy().transpose((1,2,0)))\n",
    "plt.axis('off')\n",
    "plt.show()\n",
    "\n",
    "mnist_batched = torch.utils.data.DataLoader(mnist, batch_size=100)"
   ]
  },
  {
   "cell_type": "markdown",
   "id": "smaller-chancellor",
   "metadata": {},
   "source": [
    "# Models"
   ]
  },
  {
   "cell_type": "markdown",
   "id": "human-issue",
   "metadata": {},
   "source": [
    "## Simple d-dimensional VAE"
   ]
  },
  {
   "cell_type": "code",
   "execution_count": 3,
   "id": "peripheral-court",
   "metadata": {
    "jupyter": {
     "source_hidden": true
    }
   },
   "outputs": [],
   "source": [
    "class BernoulliImageGenerator(nn.Module):\n",
    "    def __init__(self, d=4):\n",
    "        super().__init__()\n",
    "        self.d = d\n",
    "        self.f = nn.Sequential(\n",
    "            nn.Linear(d, 128),\n",
    "            nn.LeakyReLU(),\n",
    "            nn.Linear(128, 1728),\n",
    "            nn.LeakyReLU(),\n",
    "            nn.Unflatten(1, (12,12,12)), # -> B×12×12×12\n",
    "            nn.Conv2d(12, 36, 3, 1),     # -> [B×36×10×10]\n",
    "            nn.LeakyReLU(),\n",
    "            nn.Flatten(1),               # -> [B×3600]\n",
    "            nn.Unflatten(1, (4,30,30)),  # -> [B×4×30×30]\n",
    "            nn.Conv2d(4, 4, 3, 1),       # -> [B×4×28×28]\n",
    "            nn.LeakyReLU(),\n",
    "            nn.Conv2d(4, 1, 1, 1),       # -> [B×1×28×28]\n",
    "            nn.Sigmoid()\n",
    "        )\n",
    "\n",
    "    def forward(self, z):\n",
    "        return self.f(z)\n",
    "\n",
    "    def loglik(self, x, z):\n",
    "        xr = self(z)\n",
    "        return (x*torch.log(xr) + (1-x)*torch.log(1-xr)).sum((1,2,3))\n",
    "\n",
    "\n",
    "class GaussianEncoder(nn.Module):\n",
    "    def __init__(self, decoder):\n",
    "        super().__init__()\n",
    "        self.d = decoder.d\n",
    "        self.f = decoder\n",
    "        self.g = nn.Sequential(\n",
    "            nn.Conv2d(1, 32, 3, 1),\n",
    "            nn.LeakyReLU(),\n",
    "            nn.Conv2d(32, 64, 3, 1),\n",
    "            nn.MaxPool2d(2),\n",
    "            nn.Flatten(1),\n",
    "            nn.Linear(9216, 128),\n",
    "            nn.LeakyReLU(),\n",
    "            nn.Linear(128, self.d*2)\n",
    "        )\n",
    "\n",
    "    def forward(self, x):\n",
    "        μτ = self.g(x)\n",
    "        μ,τ = μτ[:,:self.d], μτ[:,self.d:]\n",
    "        return μ, torch.exp(τ/2)\n",
    "\n",
    "    def loglik_lb(self, x):\n",
    "        μ,σ = self(x)\n",
    "        kl = 0.5 * (μ**2 + σ**2 - torch.log(σ**2) - 1).sum(1)\n",
    "        ε = torch.randn_like(σ)\n",
    "        ll = self.f.loglik(x, z=μ+σ*ε)\n",
    "        return ll - kl"
   ]
  },
  {
   "cell_type": "markdown",
   "id": "bronze-basement",
   "metadata": {},
   "source": [
    "## Expanded sampling d-dimensional VAE"
   ]
  },
  {
   "cell_type": "code",
   "execution_count": 4,
   "id": "returning-strength",
   "metadata": {
    "jupyter": {
     "source_hidden": true
    }
   },
   "outputs": [],
   "source": [
    "class BernoulliImageGeneratorExpandedSampling(nn.Module):\n",
    "    def __init__(self, d=4):\n",
    "        super().__init__()\n",
    "        self.d = d\n",
    "        self.f = nn.Sequential(\n",
    "            nn.Linear(d, 128),\n",
    "            nn.LeakyReLU(),\n",
    "            nn.Linear(128, 1728),\n",
    "            nn.LeakyReLU(),\n",
    "            nn.Unflatten(1, (12,12,12)), # -> B×12×12×12\n",
    "            nn.Conv2d(12, 36, 3, 1),     # -> [B×36×10×10]\n",
    "            nn.LeakyReLU(),\n",
    "            nn.Flatten(1),               # -> [B×3600]\n",
    "            nn.Unflatten(1, (4,30,30)),  # -> [B×4×30×30]\n",
    "            nn.Conv2d(4, 4, 3, 1),       # -> [B×4×28×28]\n",
    "            nn.LeakyReLU(),\n",
    "            nn.Conv2d(4, 1, 1, 1),       # -> [B×1×28×28]\n",
    "            nn.Sigmoid()\n",
    "        )\n",
    "\n",
    "    def forward(self, z):\n",
    "        return self.f(z)\n",
    "\n",
    "    def loglik(self, x, z):\n",
    "      \"\"\" When this is called, the argument z is the value that a random variable Z takes on.\n",
    "          It's a bit confusing, because z is actually a vector of z_i that random variables Z_i take on.\n",
    "          This equates to the likelihood of each x_i under a particular choice of z - one sample. To take\n",
    "          multiple samples, we need to try multiple values of little z, which happens when this is called.\"\"\"\n",
    "      xr = self(z)\n",
    "      return (x*torch.log(xr) + (1-x)*torch.log(1-xr)).sum((1, 2, 3))\n",
    "\n",
    "\n",
    "class GaussianEncoderExpandedSampling(nn.Module):\n",
    "    def __init__(self, decoder):\n",
    "        super().__init__()\n",
    "        self.d = decoder.d\n",
    "        self.f = decoder\n",
    "        self.g = nn.Sequential(\n",
    "            nn.Conv2d(1, 32, 3, 1),\n",
    "            nn.LeakyReLU(),\n",
    "            nn.Conv2d(32, 64, 3, 1),\n",
    "            nn.MaxPool2d(2),\n",
    "            nn.Flatten(1),\n",
    "            nn.Linear(9216, 128),\n",
    "            nn.LeakyReLU(),\n",
    "            nn.Linear(128, self.d*2)\n",
    "        )\n",
    "        self.max_likelihood = (0, 0)\n",
    "        self.min_likelihood = (0, 0)\n",
    "\n",
    "    def forward(self, x):\n",
    "        μτ = self.g(x)\n",
    "        μ,τ = μτ[:,:self.d], μτ[:,self.d:]\n",
    "        return μ, torch.exp(τ/2)\n",
    "\n",
    "    def loglik_lb(self, batch_num, x):\n",
    "        μ,σ = self(x)\n",
    "        kl = 0.5 * (μ**2 + σ**2 - torch.log(σ**2) - 1).sum(1)\n",
    "\n",
    "        # Running the below is equivalent to sampling just once\n",
    "        # a value for Z(phi, x) for each of the data poitns in the\n",
    "        # vector x. If we want multiple samples, we don't need to\n",
    "        # pass through the encoder again - that will be the same,\n",
    "        # given the parameters we have now. But if we sample the\n",
    "        # noise epsilon again, we'll get a different Z(phi, x).\n",
    "        ll = 0\n",
    "        num_samples = 1\n",
    "        for _ in range(num_samples):\n",
    "          ε = torch.randn_like(σ)\n",
    "          ll += self.f.loglik(x, z=μ+σ*ε)\n",
    "        ll /= num_samples\n",
    "\n",
    "        if torch.min(ll) < self.min_likelihood[0]:\n",
    "          self.min_likelihood = torch.min(ll), torch.argmin(ll) + batch_num*100\n",
    "\n",
    "        if torch.max(ll) < self.max_likelihood[0]:\n",
    "          self.max_likelihood = torch.max(ll), torch.argmax(ll) + batch_num*100\n",
    "\n",
    "        # Sum up all likelihoods to find likelihood of dataset.\n",
    "        return ll - kl"
   ]
  },
  {
   "cell_type": "markdown",
   "id": "exceptional-elephant",
   "metadata": {},
   "source": [
    "## VAE with image-label pairs as input"
   ]
  },
  {
   "cell_type": "code",
   "execution_count": 3,
   "id": "textile-undergraduate",
   "metadata": {},
   "outputs": [],
   "source": [
    "def one_hot_encode(y, num_classes):\n",
    "    encoded = torch.zeros(len(y), num_classes)\n",
    "    for i in range(len(y)):\n",
    "        encoded[i, y[i]-1] = 1\n",
    "    return encoded"
   ]
  },
  {
   "cell_type": "code",
   "execution_count": 10,
   "id": "contemporary-character",
   "metadata": {},
   "outputs": [],
   "source": [
    "class BernoulliImageGeneratorWithStyleCapture(nn.Module):\n",
    "    def __init__(self, d=4):\n",
    "        super().__init__()\n",
    "        self.d = d\n",
    "        self.f = nn.Sequential(\n",
    "            nn.Linear(d + 10, 128),           # TODO: this is where we would have d + num_classes\n",
    "            nn.LeakyReLU(),\n",
    "            nn.Linear(128, 1728),\n",
    "            nn.LeakyReLU(),\n",
    "            nn.Unflatten(1, (12,12,12)), # -> B×12×12×12\n",
    "            nn.Conv2d(12, 36, 3, 1),     # -> [B×36×10×10]\n",
    "            nn.LeakyReLU(),\n",
    "            nn.Flatten(1),               # -> [B×3600]\n",
    "            nn.Unflatten(1, (4,30,30)),  # -> [B×4×30×30]\n",
    "            nn.Conv2d(4, 4, 3, 1),       # -> [B×4×28×28]\n",
    "            nn.LeakyReLU(),\n",
    "            nn.Conv2d(4, 1, 1, 1),       # -> [B×1×28×28]\n",
    "            nn.Sigmoid()\n",
    "        )\n",
    "\n",
    "    def forward(self, z, y):\n",
    "        # Coerce z and y into a shape that we can feed to the network.\n",
    "        # z is 100x4, y is 100x10\n",
    "\n",
    "        z = torch.cat([z, y], dim=1)\n",
    "        \n",
    "        return self.f(z)\n",
    "\n",
    "    def loglik(self, x, z, y):\n",
    "        xr = self(z, y)\n",
    "        return (x*torch.log(xr) + (1-x)*torch.log(1-xr)).sum((1,2,3))\n",
    "\n",
    "\n",
    "class GaussianEncoderWithStyleCapture(nn.Module):\n",
    "    def __init__(self, decoder):\n",
    "        super().__init__()\n",
    "        self.d = decoder.d\n",
    "        self.f = decoder\n",
    "        self.g = nn.Sequential(\n",
    "            nn.Conv2d(2, 32, 3, 1),          # There are now two channels to account for the added label.\n",
    "            nn.LeakyReLU(),\n",
    "            nn.Conv2d(32, 64, 3, 1),\n",
    "            nn.MaxPool2d(2),\n",
    "            nn.Flatten(1),\n",
    "            nn.Linear(9216, 128),\n",
    "            nn.LeakyReLU(),\n",
    "            nn.Linear(128, self.d*2)\n",
    "        )\n",
    "\n",
    "    def forward(self, x, y):\n",
    "        \n",
    "        # TODO: Coerce x and y into a form that we can input into the network.\n",
    "        # Encode y as a 1x28x28, then stack it as an extra channel in the image.\n",
    "        # So updated y is 100x1x28x28.\n",
    "        transform_labels = nn.Linear(10, 784)\n",
    "        \n",
    "        y_transformed = [transform_labels(y_i) for y_i in y]\n",
    "        y_transformed = torch.tensor([y_i.view(1, 28, 28).detach().numpy() for y_i in y_transformed]) # Reshaped to Bx1x28x28. Do I need to unsqueeze here given y is already batched?\n",
    "        \n",
    "        x = torch.cat([x, y_transformed], dim=1)\n",
    "        \n",
    "        mu_tau = self.g(x)\n",
    "        mu, tau = mu_tau[:,:self.d], mu_tau[:,self.d:]\n",
    "        return mu, torch.exp(tau/2)\n",
    "\n",
    "    def loglik_lb(self, x, y):\n",
    "        \"\"\"x is 100x1x28x28. y is 100x10 (one-hot encoded class labels)\"\"\"\n",
    "        \n",
    "        mu, sigma = self(x, y)\n",
    "        \n",
    "        kl = 0.5 * (mu**2 + sigma**2 - torch.log(sigma**2) - 1).sum(1)\n",
    "        \n",
    "        # Sampling from epsilon is equivalent to generating multiple Z~.\n",
    "        epsilon = torch.randn_like(sigma)\n",
    "        z = mu + sigma*epsilon\n",
    "        \n",
    "        ll = self.f.loglik(x, z, y)\n",
    "        return ll - kl"
   ]
  },
  {
   "cell_type": "code",
   "execution_count": 4,
   "id": "adolescent-incidence",
   "metadata": {
    "collapsed": true,
    "jupyter": {
     "outputs_hidden": true
    }
   },
   "outputs": [
    {
     "name": "stdout",
     "output_type": "stream",
     "text": [
      "epoch: 1, loglikelihood: -145.5\n",
      "epoch: 2, loglikelihood: -135.0\n",
      "epoch: 3, loglikelihood: -127.8\n",
      "epoch: 4, loglikelihood: -124.5\n",
      "epoch: 5, loglikelihood: -121.4\n"
     ]
    },
    {
     "ename": "KeyboardInterrupt",
     "evalue": "",
     "output_type": "error",
     "traceback": [
      "\u001b[0;31m---------------------------------------------------------------------------\u001b[0m",
      "\u001b[0;31mKeyboardInterrupt\u001b[0m                         Traceback (most recent call last)",
      "\u001b[0;32m<ipython-input-4-686440f10610>\u001b[0m in \u001b[0;36m<module>\u001b[0;34m\u001b[0m\n\u001b[1;32m      4\u001b[0m \u001b[0;34m\u001b[0m\u001b[0m\n\u001b[1;32m      5\u001b[0m \u001b[0;32mwhile\u001b[0m \u001b[0mepoch\u001b[0m \u001b[0;34m<\u001b[0m \u001b[0;36m10\u001b[0m\u001b[0;34m:\u001b[0m\u001b[0;34m\u001b[0m\u001b[0;34m\u001b[0m\u001b[0m\n\u001b[0;32m----> 6\u001b[0;31m     \u001b[0;32mfor\u001b[0m \u001b[0mbatch_num\u001b[0m\u001b[0;34m,\u001b[0m \u001b[0;34m(\u001b[0m\u001b[0mimages\u001b[0m\u001b[0;34m,\u001b[0m \u001b[0mlabels\u001b[0m\u001b[0;34m)\u001b[0m \u001b[0;32min\u001b[0m \u001b[0menumerate\u001b[0m\u001b[0;34m(\u001b[0m\u001b[0mmnist_batched\u001b[0m\u001b[0;34m)\u001b[0m\u001b[0;34m:\u001b[0m\u001b[0;34m\u001b[0m\u001b[0;34m\u001b[0m\u001b[0m\n\u001b[0m\u001b[1;32m      7\u001b[0m         \u001b[0moptimizer\u001b[0m\u001b[0;34m.\u001b[0m\u001b[0mzero_grad\u001b[0m\u001b[0;34m(\u001b[0m\u001b[0;34m)\u001b[0m\u001b[0;34m\u001b[0m\u001b[0;34m\u001b[0m\u001b[0m\n\u001b[1;32m      8\u001b[0m         \u001b[0mlabels\u001b[0m \u001b[0;34m=\u001b[0m \u001b[0mone_hot_encode\u001b[0m\u001b[0;34m(\u001b[0m\u001b[0mlabels\u001b[0m\u001b[0;34m,\u001b[0m \u001b[0;36m10\u001b[0m\u001b[0;34m)\u001b[0m\u001b[0;34m\u001b[0m\u001b[0;34m\u001b[0m\u001b[0m\n",
      "\u001b[0;32m~/anaconda3/envs/my_first_env/lib/python3.8/site-packages/torch/utils/data/dataloader.py\u001b[0m in \u001b[0;36m__next__\u001b[0;34m(self)\u001b[0m\n\u001b[1;32m    433\u001b[0m         \u001b[0;32mif\u001b[0m \u001b[0mself\u001b[0m\u001b[0;34m.\u001b[0m\u001b[0m_sampler_iter\u001b[0m \u001b[0;32mis\u001b[0m \u001b[0;32mNone\u001b[0m\u001b[0;34m:\u001b[0m\u001b[0;34m\u001b[0m\u001b[0;34m\u001b[0m\u001b[0m\n\u001b[1;32m    434\u001b[0m             \u001b[0mself\u001b[0m\u001b[0;34m.\u001b[0m\u001b[0m_reset\u001b[0m\u001b[0;34m(\u001b[0m\u001b[0;34m)\u001b[0m\u001b[0;34m\u001b[0m\u001b[0;34m\u001b[0m\u001b[0m\n\u001b[0;32m--> 435\u001b[0;31m         \u001b[0mdata\u001b[0m \u001b[0;34m=\u001b[0m \u001b[0mself\u001b[0m\u001b[0;34m.\u001b[0m\u001b[0m_next_data\u001b[0m\u001b[0;34m(\u001b[0m\u001b[0;34m)\u001b[0m\u001b[0;34m\u001b[0m\u001b[0;34m\u001b[0m\u001b[0m\n\u001b[0m\u001b[1;32m    436\u001b[0m         \u001b[0mself\u001b[0m\u001b[0;34m.\u001b[0m\u001b[0m_num_yielded\u001b[0m \u001b[0;34m+=\u001b[0m \u001b[0;36m1\u001b[0m\u001b[0;34m\u001b[0m\u001b[0;34m\u001b[0m\u001b[0m\n\u001b[1;32m    437\u001b[0m         \u001b[0;32mif\u001b[0m \u001b[0mself\u001b[0m\u001b[0;34m.\u001b[0m\u001b[0m_dataset_kind\u001b[0m \u001b[0;34m==\u001b[0m \u001b[0m_DatasetKind\u001b[0m\u001b[0;34m.\u001b[0m\u001b[0mIterable\u001b[0m \u001b[0;32mand\u001b[0m\u001b[0;31m \u001b[0m\u001b[0;31m\\\u001b[0m\u001b[0;34m\u001b[0m\u001b[0;34m\u001b[0m\u001b[0m\n",
      "\u001b[0;32m~/anaconda3/envs/my_first_env/lib/python3.8/site-packages/torch/utils/data/dataloader.py\u001b[0m in \u001b[0;36m_next_data\u001b[0;34m(self)\u001b[0m\n\u001b[1;32m    473\u001b[0m     \u001b[0;32mdef\u001b[0m \u001b[0m_next_data\u001b[0m\u001b[0;34m(\u001b[0m\u001b[0mself\u001b[0m\u001b[0;34m)\u001b[0m\u001b[0;34m:\u001b[0m\u001b[0;34m\u001b[0m\u001b[0;34m\u001b[0m\u001b[0m\n\u001b[1;32m    474\u001b[0m         \u001b[0mindex\u001b[0m \u001b[0;34m=\u001b[0m \u001b[0mself\u001b[0m\u001b[0;34m.\u001b[0m\u001b[0m_next_index\u001b[0m\u001b[0;34m(\u001b[0m\u001b[0;34m)\u001b[0m  \u001b[0;31m# may raise StopIteration\u001b[0m\u001b[0;34m\u001b[0m\u001b[0;34m\u001b[0m\u001b[0m\n\u001b[0;32m--> 475\u001b[0;31m         \u001b[0mdata\u001b[0m \u001b[0;34m=\u001b[0m \u001b[0mself\u001b[0m\u001b[0;34m.\u001b[0m\u001b[0m_dataset_fetcher\u001b[0m\u001b[0;34m.\u001b[0m\u001b[0mfetch\u001b[0m\u001b[0;34m(\u001b[0m\u001b[0mindex\u001b[0m\u001b[0;34m)\u001b[0m  \u001b[0;31m# may raise StopIteration\u001b[0m\u001b[0;34m\u001b[0m\u001b[0;34m\u001b[0m\u001b[0m\n\u001b[0m\u001b[1;32m    476\u001b[0m         \u001b[0;32mif\u001b[0m \u001b[0mself\u001b[0m\u001b[0;34m.\u001b[0m\u001b[0m_pin_memory\u001b[0m\u001b[0;34m:\u001b[0m\u001b[0;34m\u001b[0m\u001b[0;34m\u001b[0m\u001b[0m\n\u001b[1;32m    477\u001b[0m             \u001b[0mdata\u001b[0m \u001b[0;34m=\u001b[0m \u001b[0m_utils\u001b[0m\u001b[0;34m.\u001b[0m\u001b[0mpin_memory\u001b[0m\u001b[0;34m.\u001b[0m\u001b[0mpin_memory\u001b[0m\u001b[0;34m(\u001b[0m\u001b[0mdata\u001b[0m\u001b[0;34m)\u001b[0m\u001b[0;34m\u001b[0m\u001b[0;34m\u001b[0m\u001b[0m\n",
      "\u001b[0;32m~/anaconda3/envs/my_first_env/lib/python3.8/site-packages/torch/utils/data/_utils/fetch.py\u001b[0m in \u001b[0;36mfetch\u001b[0;34m(self, possibly_batched_index)\u001b[0m\n\u001b[1;32m     42\u001b[0m     \u001b[0;32mdef\u001b[0m \u001b[0mfetch\u001b[0m\u001b[0;34m(\u001b[0m\u001b[0mself\u001b[0m\u001b[0;34m,\u001b[0m \u001b[0mpossibly_batched_index\u001b[0m\u001b[0;34m)\u001b[0m\u001b[0;34m:\u001b[0m\u001b[0;34m\u001b[0m\u001b[0;34m\u001b[0m\u001b[0m\n\u001b[1;32m     43\u001b[0m         \u001b[0;32mif\u001b[0m \u001b[0mself\u001b[0m\u001b[0;34m.\u001b[0m\u001b[0mauto_collation\u001b[0m\u001b[0;34m:\u001b[0m\u001b[0;34m\u001b[0m\u001b[0;34m\u001b[0m\u001b[0m\n\u001b[0;32m---> 44\u001b[0;31m             \u001b[0mdata\u001b[0m \u001b[0;34m=\u001b[0m \u001b[0;34m[\u001b[0m\u001b[0mself\u001b[0m\u001b[0;34m.\u001b[0m\u001b[0mdataset\u001b[0m\u001b[0;34m[\u001b[0m\u001b[0midx\u001b[0m\u001b[0;34m]\u001b[0m \u001b[0;32mfor\u001b[0m \u001b[0midx\u001b[0m \u001b[0;32min\u001b[0m \u001b[0mpossibly_batched_index\u001b[0m\u001b[0;34m]\u001b[0m\u001b[0;34m\u001b[0m\u001b[0;34m\u001b[0m\u001b[0m\n\u001b[0m\u001b[1;32m     45\u001b[0m         \u001b[0;32melse\u001b[0m\u001b[0;34m:\u001b[0m\u001b[0;34m\u001b[0m\u001b[0;34m\u001b[0m\u001b[0m\n\u001b[1;32m     46\u001b[0m             \u001b[0mdata\u001b[0m \u001b[0;34m=\u001b[0m \u001b[0mself\u001b[0m\u001b[0;34m.\u001b[0m\u001b[0mdataset\u001b[0m\u001b[0;34m[\u001b[0m\u001b[0mpossibly_batched_index\u001b[0m\u001b[0;34m]\u001b[0m\u001b[0;34m\u001b[0m\u001b[0;34m\u001b[0m\u001b[0m\n",
      "\u001b[0;32m~/anaconda3/envs/my_first_env/lib/python3.8/site-packages/torch/utils/data/_utils/fetch.py\u001b[0m in \u001b[0;36m<listcomp>\u001b[0;34m(.0)\u001b[0m\n\u001b[1;32m     42\u001b[0m     \u001b[0;32mdef\u001b[0m \u001b[0mfetch\u001b[0m\u001b[0;34m(\u001b[0m\u001b[0mself\u001b[0m\u001b[0;34m,\u001b[0m \u001b[0mpossibly_batched_index\u001b[0m\u001b[0;34m)\u001b[0m\u001b[0;34m:\u001b[0m\u001b[0;34m\u001b[0m\u001b[0;34m\u001b[0m\u001b[0m\n\u001b[1;32m     43\u001b[0m         \u001b[0;32mif\u001b[0m \u001b[0mself\u001b[0m\u001b[0;34m.\u001b[0m\u001b[0mauto_collation\u001b[0m\u001b[0;34m:\u001b[0m\u001b[0;34m\u001b[0m\u001b[0;34m\u001b[0m\u001b[0m\n\u001b[0;32m---> 44\u001b[0;31m             \u001b[0mdata\u001b[0m \u001b[0;34m=\u001b[0m \u001b[0;34m[\u001b[0m\u001b[0mself\u001b[0m\u001b[0;34m.\u001b[0m\u001b[0mdataset\u001b[0m\u001b[0;34m[\u001b[0m\u001b[0midx\u001b[0m\u001b[0;34m]\u001b[0m \u001b[0;32mfor\u001b[0m \u001b[0midx\u001b[0m \u001b[0;32min\u001b[0m \u001b[0mpossibly_batched_index\u001b[0m\u001b[0;34m]\u001b[0m\u001b[0;34m\u001b[0m\u001b[0;34m\u001b[0m\u001b[0m\n\u001b[0m\u001b[1;32m     45\u001b[0m         \u001b[0;32melse\u001b[0m\u001b[0;34m:\u001b[0m\u001b[0;34m\u001b[0m\u001b[0;34m\u001b[0m\u001b[0m\n\u001b[1;32m     46\u001b[0m             \u001b[0mdata\u001b[0m \u001b[0;34m=\u001b[0m \u001b[0mself\u001b[0m\u001b[0;34m.\u001b[0m\u001b[0mdataset\u001b[0m\u001b[0;34m[\u001b[0m\u001b[0mpossibly_batched_index\u001b[0m\u001b[0;34m]\u001b[0m\u001b[0;34m\u001b[0m\u001b[0;34m\u001b[0m\u001b[0m\n",
      "\u001b[0;32m~/anaconda3/envs/my_first_env/lib/python3.8/site-packages/torchvision/datasets/mnist.py\u001b[0m in \u001b[0;36m__getitem__\u001b[0;34m(self, index)\u001b[0m\n\u001b[1;32m     93\u001b[0m \u001b[0;34m\u001b[0m\u001b[0m\n\u001b[1;32m     94\u001b[0m         \u001b[0;32mif\u001b[0m \u001b[0mself\u001b[0m\u001b[0;34m.\u001b[0m\u001b[0mtransform\u001b[0m \u001b[0;32mis\u001b[0m \u001b[0;32mnot\u001b[0m \u001b[0;32mNone\u001b[0m\u001b[0;34m:\u001b[0m\u001b[0;34m\u001b[0m\u001b[0;34m\u001b[0m\u001b[0m\n\u001b[0;32m---> 95\u001b[0;31m             \u001b[0mimg\u001b[0m \u001b[0;34m=\u001b[0m \u001b[0mself\u001b[0m\u001b[0;34m.\u001b[0m\u001b[0mtransform\u001b[0m\u001b[0;34m(\u001b[0m\u001b[0mimg\u001b[0m\u001b[0;34m)\u001b[0m\u001b[0;34m\u001b[0m\u001b[0;34m\u001b[0m\u001b[0m\n\u001b[0m\u001b[1;32m     96\u001b[0m \u001b[0;34m\u001b[0m\u001b[0m\n\u001b[1;32m     97\u001b[0m         \u001b[0;32mif\u001b[0m \u001b[0mself\u001b[0m\u001b[0;34m.\u001b[0m\u001b[0mtarget_transform\u001b[0m \u001b[0;32mis\u001b[0m \u001b[0;32mnot\u001b[0m \u001b[0;32mNone\u001b[0m\u001b[0;34m:\u001b[0m\u001b[0;34m\u001b[0m\u001b[0;34m\u001b[0m\u001b[0m\n",
      "\u001b[0;32m~/anaconda3/envs/my_first_env/lib/python3.8/site-packages/torchvision/transforms/transforms.py\u001b[0m in \u001b[0;36m__call__\u001b[0;34m(self, pic)\u001b[0m\n\u001b[1;32m     89\u001b[0m             \u001b[0mTensor\u001b[0m\u001b[0;34m:\u001b[0m \u001b[0mConverted\u001b[0m \u001b[0mimage\u001b[0m\u001b[0;34m.\u001b[0m\u001b[0;34m\u001b[0m\u001b[0;34m\u001b[0m\u001b[0m\n\u001b[1;32m     90\u001b[0m         \"\"\"\n\u001b[0;32m---> 91\u001b[0;31m         \u001b[0;32mreturn\u001b[0m \u001b[0mF\u001b[0m\u001b[0;34m.\u001b[0m\u001b[0mto_tensor\u001b[0m\u001b[0;34m(\u001b[0m\u001b[0mpic\u001b[0m\u001b[0;34m)\u001b[0m\u001b[0;34m\u001b[0m\u001b[0;34m\u001b[0m\u001b[0m\n\u001b[0m\u001b[1;32m     92\u001b[0m \u001b[0;34m\u001b[0m\u001b[0m\n\u001b[1;32m     93\u001b[0m     \u001b[0;32mdef\u001b[0m \u001b[0m__repr__\u001b[0m\u001b[0;34m(\u001b[0m\u001b[0mself\u001b[0m\u001b[0;34m)\u001b[0m\u001b[0;34m:\u001b[0m\u001b[0;34m\u001b[0m\u001b[0;34m\u001b[0m\u001b[0m\n",
      "\u001b[0;32m~/anaconda3/envs/my_first_env/lib/python3.8/site-packages/torchvision/transforms/functional.py\u001b[0m in \u001b[0;36mto_tensor\u001b[0;34m(pic)\u001b[0m\n\u001b[1;32m     47\u001b[0m         \u001b[0mTensor\u001b[0m\u001b[0;34m:\u001b[0m \u001b[0mConverted\u001b[0m \u001b[0mimage\u001b[0m\u001b[0;34m.\u001b[0m\u001b[0;34m\u001b[0m\u001b[0;34m\u001b[0m\u001b[0m\n\u001b[1;32m     48\u001b[0m     \"\"\"\n\u001b[0;32m---> 49\u001b[0;31m     \u001b[0;32mif\u001b[0m \u001b[0;32mnot\u001b[0m\u001b[0;34m(\u001b[0m\u001b[0m_is_pil_image\u001b[0m\u001b[0;34m(\u001b[0m\u001b[0mpic\u001b[0m\u001b[0;34m)\u001b[0m \u001b[0;32mor\u001b[0m \u001b[0m_is_numpy_image\u001b[0m\u001b[0;34m(\u001b[0m\u001b[0mpic\u001b[0m\u001b[0;34m)\u001b[0m\u001b[0;34m)\u001b[0m\u001b[0;34m:\u001b[0m\u001b[0;34m\u001b[0m\u001b[0;34m\u001b[0m\u001b[0m\n\u001b[0m\u001b[1;32m     50\u001b[0m         \u001b[0;32mraise\u001b[0m \u001b[0mTypeError\u001b[0m\u001b[0;34m(\u001b[0m\u001b[0;34m'pic should be PIL Image or ndarray. Got {}'\u001b[0m\u001b[0;34m.\u001b[0m\u001b[0mformat\u001b[0m\u001b[0;34m(\u001b[0m\u001b[0mtype\u001b[0m\u001b[0;34m(\u001b[0m\u001b[0mpic\u001b[0m\u001b[0;34m)\u001b[0m\u001b[0;34m)\u001b[0m\u001b[0;34m)\u001b[0m\u001b[0;34m\u001b[0m\u001b[0;34m\u001b[0m\u001b[0m\n\u001b[1;32m     51\u001b[0m \u001b[0;34m\u001b[0m\u001b[0m\n",
      "\u001b[0;32m~/anaconda3/envs/my_first_env/lib/python3.8/site-packages/torchvision/transforms/functional.py\u001b[0m in \u001b[0;36m_is_pil_image\u001b[0;34m(img)\u001b[0m\n\u001b[1;32m     25\u001b[0m         \u001b[0;32mreturn\u001b[0m \u001b[0misinstance\u001b[0m\u001b[0;34m(\u001b[0m\u001b[0mimg\u001b[0m\u001b[0;34m,\u001b[0m \u001b[0;34m(\u001b[0m\u001b[0mImage\u001b[0m\u001b[0;34m.\u001b[0m\u001b[0mImage\u001b[0m\u001b[0;34m,\u001b[0m \u001b[0maccimage\u001b[0m\u001b[0;34m.\u001b[0m\u001b[0mImage\u001b[0m\u001b[0;34m)\u001b[0m\u001b[0;34m)\u001b[0m\u001b[0;34m\u001b[0m\u001b[0;34m\u001b[0m\u001b[0m\n\u001b[1;32m     26\u001b[0m     \u001b[0;32melse\u001b[0m\u001b[0;34m:\u001b[0m\u001b[0;34m\u001b[0m\u001b[0;34m\u001b[0m\u001b[0m\n\u001b[0;32m---> 27\u001b[0;31m         \u001b[0;32mreturn\u001b[0m \u001b[0misinstance\u001b[0m\u001b[0;34m(\u001b[0m\u001b[0mimg\u001b[0m\u001b[0;34m,\u001b[0m \u001b[0mImage\u001b[0m\u001b[0;34m.\u001b[0m\u001b[0mImage\u001b[0m\u001b[0;34m)\u001b[0m\u001b[0;34m\u001b[0m\u001b[0;34m\u001b[0m\u001b[0m\n\u001b[0m\u001b[1;32m     28\u001b[0m \u001b[0;34m\u001b[0m\u001b[0m\n\u001b[1;32m     29\u001b[0m \u001b[0;34m\u001b[0m\u001b[0m\n",
      "\u001b[0;31mKeyboardInterrupt\u001b[0m: "
     ]
    }
   ],
   "source": [
    "autoencoder = GaussianEncoderWithStyleCapture(BernoulliImageGeneratorWithStyleCapture(4))\n",
    "optimizer = optim.Adam(autoencoder.parameters())\n",
    "epoch = 0\n",
    "\n",
    "while epoch < 10:\n",
    "    for batch_num, (images, labels) in enumerate(mnist_batched):\n",
    "        optimizer.zero_grad()\n",
    "        labels = one_hot_encode(labels, 10)\n",
    "        loglik_lb = torch.mean(autoencoder.loglik_lb(images, labels))\n",
    "        (-loglik_lb).backward()\n",
    "        optimizer.step()\n",
    "    epoch += 1\n",
    "    print(f\"epoch: {epoch}, loglikelihood: {loglik_lb.item():.4}\")"
   ]
  },
  {
   "cell_type": "markdown",
   "id": "strange-affiliate",
   "metadata": {},
   "source": [
    "# Helper functions"
   ]
  },
  {
   "cell_type": "markdown",
   "id": "greater-vietnam",
   "metadata": {},
   "source": [
    "## Save a model"
   ]
  },
  {
   "cell_type": "code",
   "execution_count": 5,
   "id": "happy-buying",
   "metadata": {},
   "outputs": [],
   "source": [
    "torch.save(autoencoder.state_dict(), 'cvae.pt')"
   ]
  },
  {
   "cell_type": "markdown",
   "id": "considered-multiple",
   "metadata": {},
   "source": [
    "## Load a saved model"
   ]
  },
  {
   "cell_type": "code",
   "execution_count": 27,
   "id": "hydraulic-nerve",
   "metadata": {},
   "outputs": [
    {
     "data": {
      "text/plain": [
       "<All keys matched successfully>"
      ]
     },
     "execution_count": 27,
     "metadata": {},
     "output_type": "execute_result"
    }
   ],
   "source": [
    "simple_vae = GaussianEncoder(BernoulliImageGenerator())\n",
    "simple_vae.load_state_dict(torch.load(\"4-dim-100-epoch.pt\"))"
   ]
  },
  {
   "cell_type": "markdown",
   "id": "critical-floating",
   "metadata": {},
   "source": [
    "## Generate a random sample"
   ]
  },
  {
   "cell_type": "code",
   "execution_count": 55,
   "id": "organic-daisy",
   "metadata": {},
   "outputs": [],
   "source": [
    "z = torch.randn(4).unsqueeze(1).T\n",
    "y = [8]\n",
    "y_t = one_hot_encode(y, 10)\n",
    "\n",
    "rec_image = autoencoder.f(z, y_t).detach().numpy()"
   ]
  },
  {
   "cell_type": "code",
   "execution_count": 56,
   "id": "active-trout",
   "metadata": {},
   "outputs": [
    {
     "data": {
      "text/plain": [
       "<matplotlib.image.AxesImage at 0x7f932091f1f0>"
      ]
     },
     "execution_count": 56,
     "metadata": {},
     "output_type": "execute_result"
    },
    {
     "data": {
      "image/png": "[encoded data removed]",
      "text/plain": [
       "<Figure size 432x288 with 1 Axes>"
      ]
     },
     "metadata": {
      "needs_background": "light"
     },
     "output_type": "display_data"
    }
   ],
   "source": [
    "plt.imshow(rec_image[0][0])"
   ]
  },
  {
   "cell_type": "code",
   "execution_count": 89,
   "id": "ecological-witness",
   "metadata": {},
   "outputs": [
    {
     "name": "stdout",
     "output_type": "stream",
     "text": [
      "1\n"
     ]
    }
   ],
   "source": [
    "img, lbl = mnist[random.randrange(0, len(mnist))]\n",
    "\n",
    "print(lbl)\n",
    "\n",
    "# Need to reshape to (1, 1, 28, 28) because this VAE works on batches.\n",
    "mu, sigma = autoencoder(img.reshape((1, 1, 28, 28))) \n",
    "z = mu + sigma * torch.randn_like(sigma)\n",
    "\n",
    "gen_img = simple_vae.f(z)"
   ]
  },
  {
   "cell_type": "code",
   "execution_count": 90,
   "id": "middle-manor",
   "metadata": {},
   "outputs": [
    {
     "data": {
      "image/png": "[encoded data removed]",
      "text/plain": [
       "<Figure size 720x720 with 1 Axes>"
      ]
     },
     "metadata": {
      "needs_background": "light"
     },
     "output_type": "display_data"
    },
    {
     "data": {
      "text/plain": [
       "<matplotlib.image.AxesImage at 0x7fc8717fc6a0>"
      ]
     },
     "execution_count": 90,
     "metadata": {},
     "output_type": "execute_result"
    },
    {
     "data": {
      "image/png": "[encoded data removed]",
      "text/plain": [
       "<Figure size 432x288 with 1 Axes>"
      ]
     },
     "metadata": {
      "needs_background": "light"
     },
     "output_type": "display_data"
    }
   ],
   "source": [
    "fig = plt.figure(figsize=(10, 10))\n",
    "plot_images(fig, gen_img)\n",
    "plt.imshow(img[0])"
   ]
  },
  {
   "cell_type": "markdown",
   "id": "fitted-sweet",
   "metadata": {},
   "source": [
    "## Plot multiple images"
   ]
  },
  {
   "cell_type": "code",
   "execution_count": 40,
   "id": "fifth-recording",
   "metadata": {},
   "outputs": [],
   "source": [
    "def plot_images(fig, images):\n",
    "    images = [image.detach().numpy()[0] for image in images]\n",
    "    for i in range(len(images)):\n",
    "        fig.add_subplot(5, 5, i+1)\n",
    "        plt.imshow(images[i])\n",
    "        \n",
    "    plt.axis('off')\n",
    "    plt.show()"
   ]
  },
  {
   "cell_type": "code",
   "execution_count": 6,
   "id": "proud-porcelain",
   "metadata": {},
   "outputs": [
    {
     "data": {
      "text/plain": [
       "torch.Size([100, 4])"
      ]
     },
     "execution_count": 6,
     "metadata": {},
     "output_type": "execute_result"
    }
   ],
   "source": [
    "z = torch.randn((100, 4))\n",
    "\n",
    "z.shape"
   ]
  },
  {
   "cell_type": "code",
   "execution_count": 32,
   "id": "rational-azerbaijan",
   "metadata": {},
   "outputs": [],
   "source": [
    "y = torch.floor(torch.rand((100,))*10)\n",
    "y = torch.unsqueeze(y, 1)"
   ]
  },
  {
   "cell_type": "code",
   "execution_count": 11,
   "id": "breeding-sacrifice",
   "metadata": {},
   "outputs": [
    {
     "ename": "RuntimeError",
     "evalue": "Tensors must have same number of dimensions: got 2 and 1",
     "output_type": "error",
     "traceback": [
      "\u001b[0;31m---------------------------------------------------------------------------\u001b[0m",
      "\u001b[0;31mRuntimeError\u001b[0m                              Traceback (most recent call last)",
      "\u001b[0;32m<ipython-input-11-8f0431eff591>\u001b[0m in \u001b[0;36m<module>\u001b[0;34m\u001b[0m\n\u001b[0;32m----> 1\u001b[0;31m \u001b[0mtorch\u001b[0m\u001b[0;34m.\u001b[0m\u001b[0mcat\u001b[0m\u001b[0;34m(\u001b[0m\u001b[0;34m[\u001b[0m\u001b[0mz\u001b[0m\u001b[0;34m,\u001b[0m \u001b[0my\u001b[0m\u001b[0;34m]\u001b[0m\u001b[0;34m,\u001b[0m \u001b[0mdim\u001b[0m\u001b[0;34m=\u001b[0m\u001b[0;36m1\u001b[0m\u001b[0;34m)\u001b[0m\u001b[0;34m\u001b[0m\u001b[0;34m\u001b[0m\u001b[0m\n\u001b[0m",
      "\u001b[0;31mRuntimeError\u001b[0m: Tensors must have same number of dimensions: got 2 and 1"
     ]
    }
   ],
   "source": [
    "torch.cat([z, y], dim=1)"
   ]
  },
  {
   "cell_type": "code",
   "execution_count": 14,
   "id": "moderate-style",
   "metadata": {},
   "outputs": [
    {
     "data": {
      "text/plain": [
       "tensor([5., 0., 5., 5., 5., 7., 5., 9., 5., 0., 7., 9., 9., 3., 0., 1., 6., 2.,\n",
       "        0., 8., 9., 0., 6., 8., 8., 3., 7., 1., 6., 9., 5., 6., 2., 8., 9., 4.,\n",
       "        2., 2., 9., 9., 0., 3., 2., 7., 0., 9., 3., 8., 8., 9., 1., 1., 0., 9.,\n",
       "        6., 0., 6., 3., 5., 9., 5., 2., 8., 2., 1., 8., 6., 9., 3., 6., 7., 3.,\n",
       "        8., 3., 1., 1., 5., 8., 3., 4., 1., 3., 9., 5., 1., 3., 7., 8., 9., 8.,\n",
       "        7., 5., 2., 6., 9., 1., 8., 0., 0., 2.])"
      ]
     },
     "execution_count": 14,
     "metadata": {},
     "output_type": "execute_result"
    }
   ],
   "source": [
    "y"
   ]
  },
  {
   "cell_type": "code",
   "execution_count": 33,
   "id": "thick-carbon",
   "metadata": {},
   "outputs": [],
   "source": [
    "lin = nn.Linear(1, 4)"
   ]
  },
  {
   "cell_type": "code",
   "execution_count": 38,
   "id": "bacterial-female",
   "metadata": {},
   "outputs": [
    {
     "data": {
      "text/plain": [
       "tensor([[ 0.5049,  1.7098,  1.8893, -1.0040],\n",
       "        [ 0.5049,  1.7098,  1.8893, -1.0040],\n",
       "        [ 2.4840,  5.4759,  6.3077, -4.3866],\n",
       "        [ 1.6924,  3.9695,  4.5404, -3.0336],\n",
       "        [ 2.4840,  5.4759,  6.3077, -4.3866],\n",
       "        [ 0.1090,  0.9566,  1.0057, -0.3274],\n",
       "        [ 3.2757,  6.9823,  8.0751, -5.7397],\n",
       "        [ 1.6924,  3.9695,  4.5404, -3.0336],\n",
       "        [ 2.0882,  4.7227,  5.4240, -3.7101],\n",
       "        [ 2.8799,  6.2291,  7.1914, -5.0632],\n",
       "        [ 0.9007,  2.4630,  2.7730, -1.6805],\n",
       "        [ 3.2757,  6.9823,  8.0751, -5.7397],\n",
       "        [ 2.4840,  5.4759,  6.3077, -4.3866],\n",
       "        [ 3.2757,  6.9823,  8.0751, -5.7397],\n",
       "        [ 2.8799,  6.2291,  7.1914, -5.0632],\n",
       "        [ 2.8799,  6.2291,  7.1914, -5.0632],\n",
       "        [ 0.9007,  2.4630,  2.7730, -1.6805],\n",
       "        [ 2.8799,  6.2291,  7.1914, -5.0632],\n",
       "        [ 1.6924,  3.9695,  4.5404, -3.0336],\n",
       "        [ 3.2757,  6.9823,  8.0751, -5.7397],\n",
       "        [ 2.8799,  6.2291,  7.1914, -5.0632],\n",
       "        [ 0.5049,  1.7098,  1.8893, -1.0040],\n",
       "        [ 1.6924,  3.9695,  4.5404, -3.0336],\n",
       "        [ 0.1090,  0.9566,  1.0057, -0.3274],\n",
       "        [ 3.2757,  6.9823,  8.0751, -5.7397],\n",
       "        [ 0.5049,  1.7098,  1.8893, -1.0040],\n",
       "        [ 2.8799,  6.2291,  7.1914, -5.0632],\n",
       "        [ 3.2757,  6.9823,  8.0751, -5.7397],\n",
       "        [ 0.9007,  2.4630,  2.7730, -1.6805],\n",
       "        [ 2.8799,  6.2291,  7.1914, -5.0632],\n",
       "        [ 2.0882,  4.7227,  5.4240, -3.7101],\n",
       "        [ 2.4840,  5.4759,  6.3077, -4.3866],\n",
       "        [ 0.1090,  0.9566,  1.0057, -0.3274],\n",
       "        [ 1.6924,  3.9695,  4.5404, -3.0336],\n",
       "        [ 1.6924,  3.9695,  4.5404, -3.0336],\n",
       "        [ 0.9007,  2.4630,  2.7730, -1.6805],\n",
       "        [ 2.4840,  5.4759,  6.3077, -4.3866],\n",
       "        [-0.2868,  0.2034,  0.1220,  0.3491],\n",
       "        [ 2.0882,  4.7227,  5.4240, -3.7101],\n",
       "        [ 2.0882,  4.7227,  5.4240, -3.7101],\n",
       "        [ 1.2965,  3.2162,  3.6567, -2.3570],\n",
       "        [ 1.6924,  3.9695,  4.5404, -3.0336],\n",
       "        [ 1.2965,  3.2162,  3.6567, -2.3570],\n",
       "        [ 1.2965,  3.2162,  3.6567, -2.3570],\n",
       "        [-0.2868,  0.2034,  0.1220,  0.3491],\n",
       "        [ 0.1090,  0.9566,  1.0057, -0.3274],\n",
       "        [ 1.2965,  3.2162,  3.6567, -2.3570],\n",
       "        [ 0.5049,  1.7098,  1.8893, -1.0040],\n",
       "        [ 2.8799,  6.2291,  7.1914, -5.0632],\n",
       "        [ 1.2965,  3.2162,  3.6567, -2.3570],\n",
       "        [ 1.6924,  3.9695,  4.5404, -3.0336],\n",
       "        [ 3.2757,  6.9823,  8.0751, -5.7397],\n",
       "        [ 2.4840,  5.4759,  6.3077, -4.3866],\n",
       "        [ 0.5049,  1.7098,  1.8893, -1.0040],\n",
       "        [ 2.8799,  6.2291,  7.1914, -5.0632],\n",
       "        [ 1.2965,  3.2162,  3.6567, -2.3570],\n",
       "        [ 2.4840,  5.4759,  6.3077, -4.3866],\n",
       "        [ 1.6924,  3.9695,  4.5404, -3.0336],\n",
       "        [ 0.5049,  1.7098,  1.8893, -1.0040],\n",
       "        [ 2.8799,  6.2291,  7.1914, -5.0632],\n",
       "        [-0.2868,  0.2034,  0.1220,  0.3491],\n",
       "        [ 0.5049,  1.7098,  1.8893, -1.0040],\n",
       "        [ 0.1090,  0.9566,  1.0057, -0.3274],\n",
       "        [ 0.1090,  0.9566,  1.0057, -0.3274],\n",
       "        [ 2.0882,  4.7227,  5.4240, -3.7101],\n",
       "        [ 0.5049,  1.7098,  1.8893, -1.0040],\n",
       "        [ 1.6924,  3.9695,  4.5404, -3.0336],\n",
       "        [ 0.9007,  2.4630,  2.7730, -1.6805],\n",
       "        [ 0.1090,  0.9566,  1.0057, -0.3274],\n",
       "        [ 3.2757,  6.9823,  8.0751, -5.7397],\n",
       "        [ 2.8799,  6.2291,  7.1914, -5.0632],\n",
       "        [ 0.9007,  2.4630,  2.7730, -1.6805],\n",
       "        [ 1.2965,  3.2162,  3.6567, -2.3570],\n",
       "        [ 1.6924,  3.9695,  4.5404, -3.0336],\n",
       "        [ 0.1090,  0.9566,  1.0057, -0.3274],\n",
       "        [ 1.2965,  3.2162,  3.6567, -2.3570],\n",
       "        [ 2.8799,  6.2291,  7.1914, -5.0632],\n",
       "        [ 2.4840,  5.4759,  6.3077, -4.3866],\n",
       "        [ 2.4840,  5.4759,  6.3077, -4.3866],\n",
       "        [ 1.6924,  3.9695,  4.5404, -3.0336],\n",
       "        [ 2.0882,  4.7227,  5.4240, -3.7101],\n",
       "        [ 2.0882,  4.7227,  5.4240, -3.7101],\n",
       "        [ 1.2965,  3.2162,  3.6567, -2.3570],\n",
       "        [ 2.8799,  6.2291,  7.1914, -5.0632],\n",
       "        [ 0.5049,  1.7098,  1.8893, -1.0040],\n",
       "        [-0.2868,  0.2034,  0.1220,  0.3491],\n",
       "        [ 2.8799,  6.2291,  7.1914, -5.0632],\n",
       "        [-0.2868,  0.2034,  0.1220,  0.3491],\n",
       "        [ 0.1090,  0.9566,  1.0057, -0.3274],\n",
       "        [-0.2868,  0.2034,  0.1220,  0.3491],\n",
       "        [ 2.4840,  5.4759,  6.3077, -4.3866],\n",
       "        [-0.2868,  0.2034,  0.1220,  0.3491],\n",
       "        [ 0.1090,  0.9566,  1.0057, -0.3274],\n",
       "        [ 0.9007,  2.4630,  2.7730, -1.6805],\n",
       "        [ 2.0882,  4.7227,  5.4240, -3.7101],\n",
       "        [ 0.1090,  0.9566,  1.0057, -0.3274],\n",
       "        [-0.2868,  0.2034,  0.1220,  0.3491],\n",
       "        [ 3.2757,  6.9823,  8.0751, -5.7397],\n",
       "        [ 1.6924,  3.9695,  4.5404, -3.0336],\n",
       "        [ 0.1090,  0.9566,  1.0057, -0.3274]])"
      ]
     },
     "execution_count": 38,
     "metadata": {},
     "output_type": "execute_result"
    }
   ],
   "source": [
    "res = torch.tensor([lin(y_i).detach().numpy() for y_i in y])\n",
    "\n",
    "res"
   ]
  }
 ],
 "metadata": {
  "kernelspec": {
   "display_name": "Python 3",
   "language": "python",
   "name": "python3"
  },
  "language_info": {
   "codemirror_mode": {
    "name": "ipython",
    "version": 3
   },
   "file_extension": ".py",
   "mimetype": "text/x-python",
   "name": "python",
   "nbconvert_exporter": "python",
   "pygments_lexer": "ipython3",
   "version": "3.8.5"
  }
 },
 "nbformat": 4,
 "nbformat_minor": 5
}
