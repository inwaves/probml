{
  "nbformat": 4,
  "nbformat_minor": 5,
  "metadata": {
    "kernelspec": {
      "display_name": "Python 3",
      "language": "python",
      "name": "python3"
    },
    "language_info": {
      "codemirror_mode": {
        "name": "ipython",
        "version": 3
      },
      "file_extension": ".py",
      "mimetype": "text/x-python",
      "name": "python",
      "nbconvert_exporter": "python",
      "pygments_lexer": "ipython3",
      "version": "3.8.5"
    },
    "colab": {
      "name": "assignment1.ipynb",
      "provenance": [],
      "collapsed_sections": []
    },
    "widgets": {
      "application/vnd.jupyter.widget-state+json": {
        "6e2713cf002f42f9a7d9b6873d53789a": {
          "model_module": "@jupyter-widgets/controls",
          "model_name": "HBoxModel",
          "model_module_version": "1.5.0",
          "state": {
            "_view_name": "HBoxView",
            "_dom_classes": [],
            "_model_name": "HBoxModel",
            "_view_module": "@jupyter-widgets/controls",
            "_model_module_version": "1.5.0",
            "_view_count": null,
            "_view_module_version": "1.5.0",
            "box_style": "",
            "layout": "IPY_MODEL_6dbf6e98804845e48ce646d6625d1a61",
            "_model_module": "@jupyter-widgets/controls",
            "children": [
              "IPY_MODEL_c035e8bd0a5f4848b02de3133c6cdb42",
              "IPY_MODEL_769b4fc5ff42438eb6068c10c7a9ca0e",
              "IPY_MODEL_06c95546449d4292a16874aa8784347f"
            ]
          }
        },
        "6dbf6e98804845e48ce646d6625d1a61": {
          "model_module": "@jupyter-widgets/base",
          "model_name": "LayoutModel",
          "model_module_version": "1.2.0",
          "state": {
            "_view_name": "LayoutView",
            "grid_template_rows": null,
            "right": null,
            "justify_content": null,
            "_view_module": "@jupyter-widgets/base",
            "overflow": null,
            "_model_module_version": "1.2.0",
            "_view_count": null,
            "flex_flow": null,
            "width": null,
            "min_width": null,
            "border": null,
            "align_items": null,
            "bottom": null,
            "_model_module": "@jupyter-widgets/base",
            "top": null,
            "grid_column": null,
            "overflow_y": null,
            "overflow_x": null,
            "grid_auto_flow": null,
            "grid_area": null,
            "grid_template_columns": null,
            "flex": null,
            "_model_name": "LayoutModel",
            "justify_items": null,
            "grid_row": null,
            "max_height": null,
            "align_content": null,
            "visibility": null,
            "align_self": null,
            "height": null,
            "min_height": null,
            "padding": null,
            "grid_auto_rows": null,
            "grid_gap": null,
            "max_width": null,
            "order": null,
            "_view_module_version": "1.2.0",
            "grid_template_areas": null,
            "object_position": null,
            "object_fit": null,
            "grid_auto_columns": null,
            "margin": null,
            "display": null,
            "left": null
          }
        },
        "c035e8bd0a5f4848b02de3133c6cdb42": {
          "model_module": "@jupyter-widgets/controls",
          "model_name": "HTMLModel",
          "model_module_version": "1.5.0",
          "state": {
            "_view_name": "HTMLView",
            "style": "IPY_MODEL_34f859e9826244de8c437f330e7bda90",
            "_dom_classes": [],
            "description": "",
            "_model_name": "HTMLModel",
            "placeholder": "​",
            "_view_module": "@jupyter-widgets/controls",
            "_model_module_version": "1.5.0",
            "value": "",
            "_view_count": null,
            "_view_module_version": "1.5.0",
            "description_tooltip": null,
            "_model_module": "@jupyter-widgets/controls",
            "layout": "IPY_MODEL_7793afb40bcd4a7c83c5ee0090452ae8"
          }
        },
        "769b4fc5ff42438eb6068c10c7a9ca0e": {
          "model_module": "@jupyter-widgets/controls",
          "model_name": "FloatProgressModel",
          "model_module_version": "1.5.0",
          "state": {
            "_view_name": "ProgressView",
            "style": "IPY_MODEL_97576f741cfc461ab6dd46711c5b31ea",
            "_dom_classes": [],
            "description": "",
            "_model_name": "FloatProgressModel",
            "bar_style": "success",
            "max": 9912422,
            "_view_module": "@jupyter-widgets/controls",
            "_model_module_version": "1.5.0",
            "value": 9912422,
            "_view_count": null,
            "_view_module_version": "1.5.0",
            "orientation": "horizontal",
            "min": 0,
            "description_tooltip": null,
            "_model_module": "@jupyter-widgets/controls",
            "layout": "IPY_MODEL_c41f9caac6474a3191f14ba5f80cee77"
          }
        },
        "06c95546449d4292a16874aa8784347f": {
          "model_module": "@jupyter-widgets/controls",
          "model_name": "HTMLModel",
          "model_module_version": "1.5.0",
          "state": {
            "_view_name": "HTMLView",
            "style": "IPY_MODEL_bde70e84f8724e129fcad4b12d7d7e05",
            "_dom_classes": [],
            "description": "",
            "_model_name": "HTMLModel",
            "placeholder": "​",
            "_view_module": "@jupyter-widgets/controls",
            "_model_module_version": "1.5.0",
            "value": " 9913344/? [00:00&lt;00:00, 36905595.50it/s]",
            "_view_count": null,
            "_view_module_version": "1.5.0",
            "description_tooltip": null,
            "_model_module": "@jupyter-widgets/controls",
            "layout": "IPY_MODEL_8f7b40f937fb4bc5b09d3ee1dbd11778"
          }
        },
        "34f859e9826244de8c437f330e7bda90": {
          "model_module": "@jupyter-widgets/controls",
          "model_name": "DescriptionStyleModel",
          "model_module_version": "1.5.0",
          "state": {
            "_view_name": "StyleView",
            "_model_name": "DescriptionStyleModel",
            "description_width": "",
            "_view_module": "@jupyter-widgets/base",
            "_model_module_version": "1.5.0",
            "_view_count": null,
            "_view_module_version": "1.2.0",
            "_model_module": "@jupyter-widgets/controls"
          }
        },
        "7793afb40bcd4a7c83c5ee0090452ae8": {
          "model_module": "@jupyter-widgets/base",
          "model_name": "LayoutModel",
          "model_module_version": "1.2.0",
          "state": {
            "_view_name": "LayoutView",
            "grid_template_rows": null,
            "right": null,
            "justify_content": null,
            "_view_module": "@jupyter-widgets/base",
            "overflow": null,
            "_model_module_version": "1.2.0",
            "_view_count": null,
            "flex_flow": null,
            "width": null,
            "min_width": null,
            "border": null,
            "align_items": null,
            "bottom": null,
            "_model_module": "@jupyter-widgets/base",
            "top": null,
            "grid_column": null,
            "overflow_y": null,
            "overflow_x": null,
            "grid_auto_flow": null,
            "grid_area": null,
            "grid_template_columns": null,
            "flex": null,
            "_model_name": "LayoutModel",
            "justify_items": null,
            "grid_row": null,
            "max_height": null,
            "align_content": null,
            "visibility": null,
            "align_self": null,
            "height": null,
            "min_height": null,
            "padding": null,
            "grid_auto_rows": null,
            "grid_gap": null,
            "max_width": null,
            "order": null,
            "_view_module_version": "1.2.0",
            "grid_template_areas": null,
            "object_position": null,
            "object_fit": null,
            "grid_auto_columns": null,
            "margin": null,
            "display": null,
            "left": null
          }
        },
        "97576f741cfc461ab6dd46711c5b31ea": {
          "model_module": "@jupyter-widgets/controls",
          "model_name": "ProgressStyleModel",
          "model_module_version": "1.5.0",
          "state": {
            "_view_name": "StyleView",
            "_model_name": "ProgressStyleModel",
            "description_width": "",
            "_view_module": "@jupyter-widgets/base",
            "_model_module_version": "1.5.0",
            "_view_count": null,
            "_view_module_version": "1.2.0",
            "bar_color": null,
            "_model_module": "@jupyter-widgets/controls"
          }
        },
        "c41f9caac6474a3191f14ba5f80cee77": {
          "model_module": "@jupyter-widgets/base",
          "model_name": "LayoutModel",
          "model_module_version": "1.2.0",
          "state": {
            "_view_name": "LayoutView",
            "grid_template_rows": null,
            "right": null,
            "justify_content": null,
            "_view_module": "@jupyter-widgets/base",
            "overflow": null,
            "_model_module_version": "1.2.0",
            "_view_count": null,
            "flex_flow": null,
            "width": null,
            "min_width": null,
            "border": null,
            "align_items": null,
            "bottom": null,
            "_model_module": "@jupyter-widgets/base",
            "top": null,
            "grid_column": null,
            "overflow_y": null,
            "overflow_x": null,
            "grid_auto_flow": null,
            "grid_area": null,
            "grid_template_columns": null,
            "flex": null,
            "_model_name": "LayoutModel",
            "justify_items": null,
            "grid_row": null,
            "max_height": null,
            "align_content": null,
            "visibility": null,
            "align_self": null,
            "height": null,
            "min_height": null,
            "padding": null,
            "grid_auto_rows": null,
            "grid_gap": null,
            "max_width": null,
            "order": null,
            "_view_module_version": "1.2.0",
            "grid_template_areas": null,
            "object_position": null,
            "object_fit": null,
            "grid_auto_columns": null,
            "margin": null,
            "display": null,
            "left": null
          }
        },
        "bde70e84f8724e129fcad4b12d7d7e05": {
          "model_module": "@jupyter-widgets/controls",
          "model_name": "DescriptionStyleModel",
          "model_module_version": "1.5.0",
          "state": {
            "_view_name": "StyleView",
            "_model_name": "DescriptionStyleModel",
            "description_width": "",
            "_view_module": "@jupyter-widgets/base",
            "_model_module_version": "1.5.0",
            "_view_count": null,
            "_view_module_version": "1.2.0",
            "_model_module": "@jupyter-widgets/controls"
          }
        },
        "8f7b40f937fb4bc5b09d3ee1dbd11778": {
          "model_module": "@jupyter-widgets/base",
          "model_name": "LayoutModel",
          "model_module_version": "1.2.0",
          "state": {
            "_view_name": "LayoutView",
            "grid_template_rows": null,
            "right": null,
            "justify_content": null,
            "_view_module": "@jupyter-widgets/base",
            "overflow": null,
            "_model_module_version": "1.2.0",
            "_view_count": null,
            "flex_flow": null,
            "width": null,
            "min_width": null,
            "border": null,
            "align_items": null,
            "bottom": null,
            "_model_module": "@jupyter-widgets/base",
            "top": null,
            "grid_column": null,
            "overflow_y": null,
            "overflow_x": null,
            "grid_auto_flow": null,
            "grid_area": null,
            "grid_template_columns": null,
            "flex": null,
            "_model_name": "LayoutModel",
            "justify_items": null,
            "grid_row": null,
            "max_height": null,
            "align_content": null,
            "visibility": null,
            "align_self": null,
            "height": null,
            "min_height": null,
            "padding": null,
            "grid_auto_rows": null,
            "grid_gap": null,
            "max_width": null,
            "order": null,
            "_view_module_version": "1.2.0",
            "grid_template_areas": null,
            "object_position": null,
            "object_fit": null,
            "grid_auto_columns": null,
            "margin": null,
            "display": null,
            "left": null
          }
        },
        "d8ecce7888f54ec1a641099479dc8701": {
          "model_module": "@jupyter-widgets/controls",
          "model_name": "HBoxModel",
          "model_module_version": "1.5.0",
          "state": {
            "_view_name": "HBoxView",
            "_dom_classes": [],
            "_model_name": "HBoxModel",
            "_view_module": "@jupyter-widgets/controls",
            "_model_module_version": "1.5.0",
            "_view_count": null,
            "_view_module_version": "1.5.0",
            "box_style": "",
            "layout": "IPY_MODEL_ba892dde16eb41049403d4843a212a80",
            "_model_module": "@jupyter-widgets/controls",
            "children": [
              "IPY_MODEL_6d685a615f2944219aeed909cf481311",
              "IPY_MODEL_cb9b14ca0f4c4174a8f26d9583439e12",
              "IPY_MODEL_b48ca80673e2438ea809f45e070cba91"
            ]
          }
        },
        "ba892dde16eb41049403d4843a212a80": {
          "model_module": "@jupyter-widgets/base",
          "model_name": "LayoutModel",
          "model_module_version": "1.2.0",
          "state": {
            "_view_name": "LayoutView",
            "grid_template_rows": null,
            "right": null,
            "justify_content": null,
            "_view_module": "@jupyter-widgets/base",
            "overflow": null,
            "_model_module_version": "1.2.0",
            "_view_count": null,
            "flex_flow": null,
            "width": null,
            "min_width": null,
            "border": null,
            "align_items": null,
            "bottom": null,
            "_model_module": "@jupyter-widgets/base",
            "top": null,
            "grid_column": null,
            "overflow_y": null,
            "overflow_x": null,
            "grid_auto_flow": null,
            "grid_area": null,
            "grid_template_columns": null,
            "flex": null,
            "_model_name": "LayoutModel",
            "justify_items": null,
            "grid_row": null,
            "max_height": null,
            "align_content": null,
            "visibility": null,
            "align_self": null,
            "height": null,
            "min_height": null,
            "padding": null,
            "grid_auto_rows": null,
            "grid_gap": null,
            "max_width": null,
            "order": null,
            "_view_module_version": "1.2.0",
            "grid_template_areas": null,
            "object_position": null,
            "object_fit": null,
            "grid_auto_columns": null,
            "margin": null,
            "display": null,
            "left": null
          }
        },
        "6d685a615f2944219aeed909cf481311": {
          "model_module": "@jupyter-widgets/controls",
          "model_name": "HTMLModel",
          "model_module_version": "1.5.0",
          "state": {
            "_view_name": "HTMLView",
            "style": "IPY_MODEL_674a2efb5a1240209283e500bada9658",
            "_dom_classes": [],
            "description": "",
            "_model_name": "HTMLModel",
            "placeholder": "​",
            "_view_module": "@jupyter-widgets/controls",
            "_model_module_version": "1.5.0",
            "value": "",
            "_view_count": null,
            "_view_module_version": "1.5.0",
            "description_tooltip": null,
            "_model_module": "@jupyter-widgets/controls",
            "layout": "IPY_MODEL_cee944e17a054500b3676c78a76ca978"
          }
        },
        "cb9b14ca0f4c4174a8f26d9583439e12": {
          "model_module": "@jupyter-widgets/controls",
          "model_name": "FloatProgressModel",
          "model_module_version": "1.5.0",
          "state": {
            "_view_name": "ProgressView",
            "style": "IPY_MODEL_8db38bacdd534e0ca8f3f666ab2ec4b8",
            "_dom_classes": [],
            "description": "",
            "_model_name": "FloatProgressModel",
            "bar_style": "success",
            "max": 28881,
            "_view_module": "@jupyter-widgets/controls",
            "_model_module_version": "1.5.0",
            "value": 28881,
            "_view_count": null,
            "_view_module_version": "1.5.0",
            "orientation": "horizontal",
            "min": 0,
            "description_tooltip": null,
            "_model_module": "@jupyter-widgets/controls",
            "layout": "IPY_MODEL_4ce8a86bd5fc4fba96f233ac2463f74d"
          }
        },
        "b48ca80673e2438ea809f45e070cba91": {
          "model_module": "@jupyter-widgets/controls",
          "model_name": "HTMLModel",
          "model_module_version": "1.5.0",
          "state": {
            "_view_name": "HTMLView",
            "style": "IPY_MODEL_75656e8f53a346b29ea10f1a5a608bdc",
            "_dom_classes": [],
            "description": "",
            "_model_name": "HTMLModel",
            "placeholder": "​",
            "_view_module": "@jupyter-widgets/controls",
            "_model_module_version": "1.5.0",
            "value": " 29696/? [00:00&lt;00:00, 859633.74it/s]",
            "_view_count": null,
            "_view_module_version": "1.5.0",
            "description_tooltip": null,
            "_model_module": "@jupyter-widgets/controls",
            "layout": "IPY_MODEL_1c146e5aa40244b19d9038114c151db0"
          }
        },
        "674a2efb5a1240209283e500bada9658": {
          "model_module": "@jupyter-widgets/controls",
          "model_name": "DescriptionStyleModel",
          "model_module_version": "1.5.0",
          "state": {
            "_view_name": "StyleView",
            "_model_name": "DescriptionStyleModel",
            "description_width": "",
            "_view_module": "@jupyter-widgets/base",
            "_model_module_version": "1.5.0",
            "_view_count": null,
            "_view_module_version": "1.2.0",
            "_model_module": "@jupyter-widgets/controls"
          }
        },
        "cee944e17a054500b3676c78a76ca978": {
          "model_module": "@jupyter-widgets/base",
          "model_name": "LayoutModel",
          "model_module_version": "1.2.0",
          "state": {
            "_view_name": "LayoutView",
            "grid_template_rows": null,
            "right": null,
            "justify_content": null,
            "_view_module": "@jupyter-widgets/base",
            "overflow": null,
            "_model_module_version": "1.2.0",
            "_view_count": null,
            "flex_flow": null,
            "width": null,
            "min_width": null,
            "border": null,
            "align_items": null,
            "bottom": null,
            "_model_module": "@jupyter-widgets/base",
            "top": null,
            "grid_column": null,
            "overflow_y": null,
            "overflow_x": null,
            "grid_auto_flow": null,
            "grid_area": null,
            "grid_template_columns": null,
            "flex": null,
            "_model_name": "LayoutModel",
            "justify_items": null,
            "grid_row": null,
            "max_height": null,
            "align_content": null,
            "visibility": null,
            "align_self": null,
            "height": null,
            "min_height": null,
            "padding": null,
            "grid_auto_rows": null,
            "grid_gap": null,
            "max_width": null,
            "order": null,
            "_view_module_version": "1.2.0",
            "grid_template_areas": null,
            "object_position": null,
            "object_fit": null,
            "grid_auto_columns": null,
            "margin": null,
            "display": null,
            "left": null
          }
        },
        "8db38bacdd534e0ca8f3f666ab2ec4b8": {
          "model_module": "@jupyter-widgets/controls",
          "model_name": "ProgressStyleModel",
          "model_module_version": "1.5.0",
          "state": {
            "_view_name": "StyleView",
            "_model_name": "ProgressStyleModel",
            "description_width": "",
            "_view_module": "@jupyter-widgets/base",
            "_model_module_version": "1.5.0",
            "_view_count": null,
            "_view_module_version": "1.2.0",
            "bar_color": null,
            "_model_module": "@jupyter-widgets/controls"
          }
        },
        "4ce8a86bd5fc4fba96f233ac2463f74d": {
          "model_module": "@jupyter-widgets/base",
          "model_name": "LayoutModel",
          "model_module_version": "1.2.0",
          "state": {
            "_view_name": "LayoutView",
            "grid_template_rows": null,
            "right": null,
            "justify_content": null,
            "_view_module": "@jupyter-widgets/base",
            "overflow": null,
            "_model_module_version": "1.2.0",
            "_view_count": null,
            "flex_flow": null,
            "width": null,
            "min_width": null,
            "border": null,
            "align_items": null,
            "bottom": null,
            "_model_module": "@jupyter-widgets/base",
            "top": null,
            "grid_column": null,
            "overflow_y": null,
            "overflow_x": null,
            "grid_auto_flow": null,
            "grid_area": null,
            "grid_template_columns": null,
            "flex": null,
            "_model_name": "LayoutModel",
            "justify_items": null,
            "grid_row": null,
            "max_height": null,
            "align_content": null,
            "visibility": null,
            "align_self": null,
            "height": null,
            "min_height": null,
            "padding": null,
            "grid_auto_rows": null,
            "grid_gap": null,
            "max_width": null,
            "order": null,
            "_view_module_version": "1.2.0",
            "grid_template_areas": null,
            "object_position": null,
            "object_fit": null,
            "grid_auto_columns": null,
            "margin": null,
            "display": null,
            "left": null
          }
        },
        "75656e8f53a346b29ea10f1a5a608bdc": {
          "model_module": "@jupyter-widgets/controls",
          "model_name": "DescriptionStyleModel",
          "model_module_version": "1.5.0",
          "state": {
            "_view_name": "StyleView",
            "_model_name": "DescriptionStyleModel",
            "description_width": "",
            "_view_module": "@jupyter-widgets/base",
            "_model_module_version": "1.5.0",
            "_view_count": null,
            "_view_module_version": "1.2.0",
            "_model_module": "@jupyter-widgets/controls"
          }
        },
        "1c146e5aa40244b19d9038114c151db0": {
          "model_module": "@jupyter-widgets/base",
          "model_name": "LayoutModel",
          "model_module_version": "1.2.0",
          "state": {
            "_view_name": "LayoutView",
            "grid_template_rows": null,
            "right": null,
            "justify_content": null,
            "_view_module": "@jupyter-widgets/base",
            "overflow": null,
            "_model_module_version": "1.2.0",
            "_view_count": null,
            "flex_flow": null,
            "width": null,
            "min_width": null,
            "border": null,
            "align_items": null,
            "bottom": null,
            "_model_module": "@jupyter-widgets/base",
            "top": null,
            "grid_column": null,
            "overflow_y": null,
            "overflow_x": null,
            "grid_auto_flow": null,
            "grid_area": null,
            "grid_template_columns": null,
            "flex": null,
            "_model_name": "LayoutModel",
            "justify_items": null,
            "grid_row": null,
            "max_height": null,
            "align_content": null,
            "visibility": null,
            "align_self": null,
            "height": null,
            "min_height": null,
            "padding": null,
            "grid_auto_rows": null,
            "grid_gap": null,
            "max_width": null,
            "order": null,
            "_view_module_version": "1.2.0",
            "grid_template_areas": null,
            "object_position": null,
            "object_fit": null,
            "grid_auto_columns": null,
            "margin": null,
            "display": null,
            "left": null
          }
        },
        "3ff2ad971df04e37bfa36238c6aafaac": {
          "model_module": "@jupyter-widgets/controls",
          "model_name": "HBoxModel",
          "model_module_version": "1.5.0",
          "state": {
            "_view_name": "HBoxView",
            "_dom_classes": [],
            "_model_name": "HBoxModel",
            "_view_module": "@jupyter-widgets/controls",
            "_model_module_version": "1.5.0",
            "_view_count": null,
            "_view_module_version": "1.5.0",
            "box_style": "",
            "layout": "IPY_MODEL_9d39aec820334822bc555220f9ba2184",
            "_model_module": "@jupyter-widgets/controls",
            "children": [
              "IPY_MODEL_a30cf3bd35c54dc2abc80ffebf384b38",
              "IPY_MODEL_2b36064b5d7f4bb98f227dbc04000077",
              "IPY_MODEL_961196b26248467a94527b197ca771a5"
            ]
          }
        },
        "9d39aec820334822bc555220f9ba2184": {
          "model_module": "@jupyter-widgets/base",
          "model_name": "LayoutModel",
          "model_module_version": "1.2.0",
          "state": {
            "_view_name": "LayoutView",
            "grid_template_rows": null,
            "right": null,
            "justify_content": null,
            "_view_module": "@jupyter-widgets/base",
            "overflow": null,
            "_model_module_version": "1.2.0",
            "_view_count": null,
            "flex_flow": null,
            "width": null,
            "min_width": null,
            "border": null,
            "align_items": null,
            "bottom": null,
            "_model_module": "@jupyter-widgets/base",
            "top": null,
            "grid_column": null,
            "overflow_y": null,
            "overflow_x": null,
            "grid_auto_flow": null,
            "grid_area": null,
            "grid_template_columns": null,
            "flex": null,
            "_model_name": "LayoutModel",
            "justify_items": null,
            "grid_row": null,
            "max_height": null,
            "align_content": null,
            "visibility": null,
            "align_self": null,
            "height": null,
            "min_height": null,
            "padding": null,
            "grid_auto_rows": null,
            "grid_gap": null,
            "max_width": null,
            "order": null,
            "_view_module_version": "1.2.0",
            "grid_template_areas": null,
            "object_position": null,
            "object_fit": null,
            "grid_auto_columns": null,
            "margin": null,
            "display": null,
            "left": null
          }
        },
        "a30cf3bd35c54dc2abc80ffebf384b38": {
          "model_module": "@jupyter-widgets/controls",
          "model_name": "HTMLModel",
          "model_module_version": "1.5.0",
          "state": {
            "_view_name": "HTMLView",
            "style": "IPY_MODEL_5f7d15f4ae1b45a582f6107d3f0b1c68",
            "_dom_classes": [],
            "description": "",
            "_model_name": "HTMLModel",
            "placeholder": "​",
            "_view_module": "@jupyter-widgets/controls",
            "_model_module_version": "1.5.0",
            "value": "",
            "_view_count": null,
            "_view_module_version": "1.5.0",
            "description_tooltip": null,
            "_model_module": "@jupyter-widgets/controls",
            "layout": "IPY_MODEL_28cf626637ab4d848ee817d32173de55"
          }
        },
        "2b36064b5d7f4bb98f227dbc04000077": {
          "model_module": "@jupyter-widgets/controls",
          "model_name": "FloatProgressModel",
          "model_module_version": "1.5.0",
          "state": {
            "_view_name": "ProgressView",
            "style": "IPY_MODEL_c44b03917531467c8dd11892e4a8cf0b",
            "_dom_classes": [],
            "description": "",
            "_model_name": "FloatProgressModel",
            "bar_style": "success",
            "max": 1648877,
            "_view_module": "@jupyter-widgets/controls",
            "_model_module_version": "1.5.0",
            "value": 1648877,
            "_view_count": null,
            "_view_module_version": "1.5.0",
            "orientation": "horizontal",
            "min": 0,
            "description_tooltip": null,
            "_model_module": "@jupyter-widgets/controls",
            "layout": "IPY_MODEL_dd649d2c29ab4cd6bed27b7b408ef3aa"
          }
        },
        "961196b26248467a94527b197ca771a5": {
          "model_module": "@jupyter-widgets/controls",
          "model_name": "HTMLModel",
          "model_module_version": "1.5.0",
          "state": {
            "_view_name": "HTMLView",
            "style": "IPY_MODEL_2a48d5fb19194c288440b2ac04c2b243",
            "_dom_classes": [],
            "description": "",
            "_model_name": "HTMLModel",
            "placeholder": "​",
            "_view_module": "@jupyter-widgets/controls",
            "_model_module_version": "1.5.0",
            "value": " 1649664/? [00:00&lt;00:00, 20849984.07it/s]",
            "_view_count": null,
            "_view_module_version": "1.5.0",
            "description_tooltip": null,
            "_model_module": "@jupyter-widgets/controls",
            "layout": "IPY_MODEL_b45044bed8ac4cc290e8b0a35125d063"
          }
        },
        "5f7d15f4ae1b45a582f6107d3f0b1c68": {
          "model_module": "@jupyter-widgets/controls",
          "model_name": "DescriptionStyleModel",
          "model_module_version": "1.5.0",
          "state": {
            "_view_name": "StyleView",
            "_model_name": "DescriptionStyleModel",
            "description_width": "",
            "_view_module": "@jupyter-widgets/base",
            "_model_module_version": "1.5.0",
            "_view_count": null,
            "_view_module_version": "1.2.0",
            "_model_module": "@jupyter-widgets/controls"
          }
        },
        "28cf626637ab4d848ee817d32173de55": {
          "model_module": "@jupyter-widgets/base",
          "model_name": "LayoutModel",
          "model_module_version": "1.2.0",
          "state": {
            "_view_name": "LayoutView",
            "grid_template_rows": null,
            "right": null,
            "justify_content": null,
            "_view_module": "@jupyter-widgets/base",
            "overflow": null,
            "_model_module_version": "1.2.0",
            "_view_count": null,
            "flex_flow": null,
            "width": null,
            "min_width": null,
            "border": null,
            "align_items": null,
            "bottom": null,
            "_model_module": "@jupyter-widgets/base",
            "top": null,
            "grid_column": null,
            "overflow_y": null,
            "overflow_x": null,
            "grid_auto_flow": null,
            "grid_area": null,
            "grid_template_columns": null,
            "flex": null,
            "_model_name": "LayoutModel",
            "justify_items": null,
            "grid_row": null,
            "max_height": null,
            "align_content": null,
            "visibility": null,
            "align_self": null,
            "height": null,
            "min_height": null,
            "padding": null,
            "grid_auto_rows": null,
            "grid_gap": null,
            "max_width": null,
            "order": null,
            "_view_module_version": "1.2.0",
            "grid_template_areas": null,
            "object_position": null,
            "object_fit": null,
            "grid_auto_columns": null,
            "margin": null,
            "display": null,
            "left": null
          }
        },
        "c44b03917531467c8dd11892e4a8cf0b": {
          "model_module": "@jupyter-widgets/controls",
          "model_name": "ProgressStyleModel",
          "model_module_version": "1.5.0",
          "state": {
            "_view_name": "StyleView",
            "_model_name": "ProgressStyleModel",
            "description_width": "",
            "_view_module": "@jupyter-widgets/base",
            "_model_module_version": "1.5.0",
            "_view_count": null,
            "_view_module_version": "1.2.0",
            "bar_color": null,
            "_model_module": "@jupyter-widgets/controls"
          }
        },
        "dd649d2c29ab4cd6bed27b7b408ef3aa": {
          "model_module": "@jupyter-widgets/base",
          "model_name": "LayoutModel",
          "model_module_version": "1.2.0",
          "state": {
            "_view_name": "LayoutView",
            "grid_template_rows": null,
            "right": null,
            "justify_content": null,
            "_view_module": "@jupyter-widgets/base",
            "overflow": null,
            "_model_module_version": "1.2.0",
            "_view_count": null,
            "flex_flow": null,
            "width": null,
            "min_width": null,
            "border": null,
            "align_items": null,
            "bottom": null,
            "_model_module": "@jupyter-widgets/base",
            "top": null,
            "grid_column": null,
            "overflow_y": null,
            "overflow_x": null,
            "grid_auto_flow": null,
            "grid_area": null,
            "grid_template_columns": null,
            "flex": null,
            "_model_name": "LayoutModel",
            "justify_items": null,
            "grid_row": null,
            "max_height": null,
            "align_content": null,
            "visibility": null,
            "align_self": null,
            "height": null,
            "min_height": null,
            "padding": null,
            "grid_auto_rows": null,
            "grid_gap": null,
            "max_width": null,
            "order": null,
            "_view_module_version": "1.2.0",
            "grid_template_areas": null,
            "object_position": null,
            "object_fit": null,
            "grid_auto_columns": null,
            "margin": null,
            "display": null,
            "left": null
          }
        },
        "2a48d5fb19194c288440b2ac04c2b243": {
          "model_module": "@jupyter-widgets/controls",
          "model_name": "DescriptionStyleModel",
          "model_module_version": "1.5.0",
          "state": {
            "_view_name": "StyleView",
            "_model_name": "DescriptionStyleModel",
            "description_width": "",
            "_view_module": "@jupyter-widgets/base",
            "_model_module_version": "1.5.0",
            "_view_count": null,
            "_view_module_version": "1.2.0",
            "_model_module": "@jupyter-widgets/controls"
          }
        },
        "b45044bed8ac4cc290e8b0a35125d063": {
          "model_module": "@jupyter-widgets/base",
          "model_name": "LayoutModel",
          "model_module_version": "1.2.0",
          "state": {
            "_view_name": "LayoutView",
            "grid_template_rows": null,
            "right": null,
            "justify_content": null,
            "_view_module": "@jupyter-widgets/base",
            "overflow": null,
            "_model_module_version": "1.2.0",
            "_view_count": null,
            "flex_flow": null,
            "width": null,
            "min_width": null,
            "border": null,
            "align_items": null,
            "bottom": null,
            "_model_module": "@jupyter-widgets/base",
            "top": null,
            "grid_column": null,
            "overflow_y": null,
            "overflow_x": null,
            "grid_auto_flow": null,
            "grid_area": null,
            "grid_template_columns": null,
            "flex": null,
            "_model_name": "LayoutModel",
            "justify_items": null,
            "grid_row": null,
            "max_height": null,
            "align_content": null,
            "visibility": null,
            "align_self": null,
            "height": null,
            "min_height": null,
            "padding": null,
            "grid_auto_rows": null,
            "grid_gap": null,
            "max_width": null,
            "order": null,
            "_view_module_version": "1.2.0",
            "grid_template_areas": null,
            "object_position": null,
            "object_fit": null,
            "grid_auto_columns": null,
            "margin": null,
            "display": null,
            "left": null
          }
        },
        "25133729f47d4f2a877b25249a3b454c": {
          "model_module": "@jupyter-widgets/controls",
          "model_name": "HBoxModel",
          "model_module_version": "1.5.0",
          "state": {
            "_view_name": "HBoxView",
            "_dom_classes": [],
            "_model_name": "HBoxModel",
            "_view_module": "@jupyter-widgets/controls",
            "_model_module_version": "1.5.0",
            "_view_count": null,
            "_view_module_version": "1.5.0",
            "box_style": "",
            "layout": "IPY_MODEL_6c2e431348944757958b5c659169b56b",
            "_model_module": "@jupyter-widgets/controls",
            "children": [
              "IPY_MODEL_d9fce4bc5fdf428d9159c471c54a5216",
              "IPY_MODEL_2fef04a45f05469b8abc75f1abc129d0",
              "IPY_MODEL_cfa3c962687347c6b3746ab9c5682fd4"
            ]
          }
        },
        "6c2e431348944757958b5c659169b56b": {
          "model_module": "@jupyter-widgets/base",
          "model_name": "LayoutModel",
          "model_module_version": "1.2.0",
          "state": {
            "_view_name": "LayoutView",
            "grid_template_rows": null,
            "right": null,
            "justify_content": null,
            "_view_module": "@jupyter-widgets/base",
            "overflow": null,
            "_model_module_version": "1.2.0",
            "_view_count": null,
            "flex_flow": null,
            "width": null,
            "min_width": null,
            "border": null,
            "align_items": null,
            "bottom": null,
            "_model_module": "@jupyter-widgets/base",
            "top": null,
            "grid_column": null,
            "overflow_y": null,
            "overflow_x": null,
            "grid_auto_flow": null,
            "grid_area": null,
            "grid_template_columns": null,
            "flex": null,
            "_model_name": "LayoutModel",
            "justify_items": null,
            "grid_row": null,
            "max_height": null,
            "align_content": null,
            "visibility": null,
            "align_self": null,
            "height": null,
            "min_height": null,
            "padding": null,
            "grid_auto_rows": null,
            "grid_gap": null,
            "max_width": null,
            "order": null,
            "_view_module_version": "1.2.0",
            "grid_template_areas": null,
            "object_position": null,
            "object_fit": null,
            "grid_auto_columns": null,
            "margin": null,
            "display": null,
            "left": null
          }
        },
        "d9fce4bc5fdf428d9159c471c54a5216": {
          "model_module": "@jupyter-widgets/controls",
          "model_name": "HTMLModel",
          "model_module_version": "1.5.0",
          "state": {
            "_view_name": "HTMLView",
            "style": "IPY_MODEL_b47e688f19844846ac7462d79a8478ba",
            "_dom_classes": [],
            "description": "",
            "_model_name": "HTMLModel",
            "placeholder": "​",
            "_view_module": "@jupyter-widgets/controls",
            "_model_module_version": "1.5.0",
            "value": "",
            "_view_count": null,
            "_view_module_version": "1.5.0",
            "description_tooltip": null,
            "_model_module": "@jupyter-widgets/controls",
            "layout": "IPY_MODEL_a333db5dccae4e5c8b09df30d345f87d"
          }
        },
        "2fef04a45f05469b8abc75f1abc129d0": {
          "model_module": "@jupyter-widgets/controls",
          "model_name": "FloatProgressModel",
          "model_module_version": "1.5.0",
          "state": {
            "_view_name": "ProgressView",
            "style": "IPY_MODEL_686799bb03914c01a27724155bcf1f20",
            "_dom_classes": [],
            "description": "",
            "_model_name": "FloatProgressModel",
            "bar_style": "success",
            "max": 4542,
            "_view_module": "@jupyter-widgets/controls",
            "_model_module_version": "1.5.0",
            "value": 4542,
            "_view_count": null,
            "_view_module_version": "1.5.0",
            "orientation": "horizontal",
            "min": 0,
            "description_tooltip": null,
            "_model_module": "@jupyter-widgets/controls",
            "layout": "IPY_MODEL_e7bea306c0b543f18b1056fde81c5d8b"
          }
        },
        "cfa3c962687347c6b3746ab9c5682fd4": {
          "model_module": "@jupyter-widgets/controls",
          "model_name": "HTMLModel",
          "model_module_version": "1.5.0",
          "state": {
            "_view_name": "HTMLView",
            "style": "IPY_MODEL_fd199a542ef54c418df80a2d43c60e81",
            "_dom_classes": [],
            "description": "",
            "_model_name": "HTMLModel",
            "placeholder": "​",
            "_view_module": "@jupyter-widgets/controls",
            "_model_module_version": "1.5.0",
            "value": " 5120/? [00:00&lt;00:00, 146782.29it/s]",
            "_view_count": null,
            "_view_module_version": "1.5.0",
            "description_tooltip": null,
            "_model_module": "@jupyter-widgets/controls",
            "layout": "IPY_MODEL_ac8dcf15f841415fbca5e9a01f53725f"
          }
        },
        "b47e688f19844846ac7462d79a8478ba": {
          "model_module": "@jupyter-widgets/controls",
          "model_name": "DescriptionStyleModel",
          "model_module_version": "1.5.0",
          "state": {
            "_view_name": "StyleView",
            "_model_name": "DescriptionStyleModel",
            "description_width": "",
            "_view_module": "@jupyter-widgets/base",
            "_model_module_version": "1.5.0",
            "_view_count": null,
            "_view_module_version": "1.2.0",
            "_model_module": "@jupyter-widgets/controls"
          }
        },
        "a333db5dccae4e5c8b09df30d345f87d": {
          "model_module": "@jupyter-widgets/base",
          "model_name": "LayoutModel",
          "model_module_version": "1.2.0",
          "state": {
            "_view_name": "LayoutView",
            "grid_template_rows": null,
            "right": null,
            "justify_content": null,
            "_view_module": "@jupyter-widgets/base",
            "overflow": null,
            "_model_module_version": "1.2.0",
            "_view_count": null,
            "flex_flow": null,
            "width": null,
            "min_width": null,
            "border": null,
            "align_items": null,
            "bottom": null,
            "_model_module": "@jupyter-widgets/base",
            "top": null,
            "grid_column": null,
            "overflow_y": null,
            "overflow_x": null,
            "grid_auto_flow": null,
            "grid_area": null,
            "grid_template_columns": null,
            "flex": null,
            "_model_name": "LayoutModel",
            "justify_items": null,
            "grid_row": null,
            "max_height": null,
            "align_content": null,
            "visibility": null,
            "align_self": null,
            "height": null,
            "min_height": null,
            "padding": null,
            "grid_auto_rows": null,
            "grid_gap": null,
            "max_width": null,
            "order": null,
            "_view_module_version": "1.2.0",
            "grid_template_areas": null,
            "object_position": null,
            "object_fit": null,
            "grid_auto_columns": null,
            "margin": null,
            "display": null,
            "left": null
          }
        },
        "686799bb03914c01a27724155bcf1f20": {
          "model_module": "@jupyter-widgets/controls",
          "model_name": "ProgressStyleModel",
          "model_module_version": "1.5.0",
          "state": {
            "_view_name": "StyleView",
            "_model_name": "ProgressStyleModel",
            "description_width": "",
            "_view_module": "@jupyter-widgets/base",
            "_model_module_version": "1.5.0",
            "_view_count": null,
            "_view_module_version": "1.2.0",
            "bar_color": null,
            "_model_module": "@jupyter-widgets/controls"
          }
        },
        "e7bea306c0b543f18b1056fde81c5d8b": {
          "model_module": "@jupyter-widgets/base",
          "model_name": "LayoutModel",
          "model_module_version": "1.2.0",
          "state": {
            "_view_name": "LayoutView",
            "grid_template_rows": null,
            "right": null,
            "justify_content": null,
            "_view_module": "@jupyter-widgets/base",
            "overflow": null,
            "_model_module_version": "1.2.0",
            "_view_count": null,
            "flex_flow": null,
            "width": null,
            "min_width": null,
            "border": null,
            "align_items": null,
            "bottom": null,
            "_model_module": "@jupyter-widgets/base",
            "top": null,
            "grid_column": null,
            "overflow_y": null,
            "overflow_x": null,
            "grid_auto_flow": null,
            "grid_area": null,
            "grid_template_columns": null,
            "flex": null,
            "_model_name": "LayoutModel",
            "justify_items": null,
            "grid_row": null,
            "max_height": null,
            "align_content": null,
            "visibility": null,
            "align_self": null,
            "height": null,
            "min_height": null,
            "padding": null,
            "grid_auto_rows": null,
            "grid_gap": null,
            "max_width": null,
            "order": null,
            "_view_module_version": "1.2.0",
            "grid_template_areas": null,
            "object_position": null,
            "object_fit": null,
            "grid_auto_columns": null,
            "margin": null,
            "display": null,
            "left": null
          }
        },
        "fd199a542ef54c418df80a2d43c60e81": {
          "model_module": "@jupyter-widgets/controls",
          "model_name": "DescriptionStyleModel",
          "model_module_version": "1.5.0",
          "state": {
            "_view_name": "StyleView",
            "_model_name": "DescriptionStyleModel",
            "description_width": "",
            "_view_module": "@jupyter-widgets/base",
            "_model_module_version": "1.5.0",
            "_view_count": null,
            "_view_module_version": "1.2.0",
            "_model_module": "@jupyter-widgets/controls"
          }
        },
        "ac8dcf15f841415fbca5e9a01f53725f": {
          "model_module": "@jupyter-widgets/base",
          "model_name": "LayoutModel",
          "model_module_version": "1.2.0",
          "state": {
            "_view_name": "LayoutView",
            "grid_template_rows": null,
            "right": null,
            "justify_content": null,
            "_view_module": "@jupyter-widgets/base",
            "overflow": null,
            "_model_module_version": "1.2.0",
            "_view_count": null,
            "flex_flow": null,
            "width": null,
            "min_width": null,
            "border": null,
            "align_items": null,
            "bottom": null,
            "_model_module": "@jupyter-widgets/base",
            "top": null,
            "grid_column": null,
            "overflow_y": null,
            "overflow_x": null,
            "grid_auto_flow": null,
            "grid_area": null,
            "grid_template_columns": null,
            "flex": null,
            "_model_name": "LayoutModel",
            "justify_items": null,
            "grid_row": null,
            "max_height": null,
            "align_content": null,
            "visibility": null,
            "align_self": null,
            "height": null,
            "min_height": null,
            "padding": null,
            "grid_auto_rows": null,
            "grid_gap": null,
            "max_width": null,
            "order": null,
            "_view_module_version": "1.2.0",
            "grid_template_areas": null,
            "object_position": null,
            "object_fit": null,
            "grid_auto_columns": null,
            "margin": null,
            "display": null,
            "left": null
          }
        }
      }
    }
  },
  "cells": [
    {
      "cell_type": "code",
      "metadata": {
        "id": "sixth-comparative"
      },
      "source": [
        "import pandas\n",
        "import matplotlib.pyplot as plt\n",
        "import numpy as np\n",
        "import torch.nn as nn\n",
        "import torch.optim as optim\n",
        "import torch\n",
        "\n",
        "import random"
      ],
      "id": "sixth-comparative",
      "execution_count": 2,
      "outputs": []
    },
    {
      "cell_type": "code",
      "metadata": {
        "colab": {
          "base_uri": "https://localhost:8080/",
          "height": 283
        },
        "id": "continent-aviation",
        "outputId": "11283cc6-f2d8-4677-d15b-61545df64664"
      },
      "source": [
        "url = 'https://www.cl.cam.ac.uk/teaching/2122/DataSci/data/xkcd.csv'\n",
        "xkcd = pandas.read_csv(url)\n",
        "\n",
        "plt.scatter(xkcd.x, xkcd.y)"
      ],
      "id": "continent-aviation",
      "execution_count": 3,
      "outputs": [
        {
          "output_type": "execute_result",
          "data": {
            "text/plain": [
              "<matplotlib.collections.PathCollection at 0x7f24ec114410>"
            ]
          },
          "metadata": {},
          "execution_count": 3
        },
        {
          "output_type": "display_data",
          "data": {
            "image/png": "[encoded data removed]",
            "text/plain": [
              "<Figure size 432x288 with 1 Axes>"
            ]
          },
          "metadata": {
            "needs_background": "light"
          }
        }
      ]
    },
    {
      "cell_type": "code",
      "metadata": {
        "colab": {
          "base_uri": "https://localhost:8080/"
        },
        "id": "blocked-entity",
        "outputId": "1568d928-be0c-4246-8485-2420df8ce955"
      },
      "source": [
        "xkcd.x"
      ],
      "id": "blocked-entity",
      "execution_count": 4,
      "outputs": [
        {
          "output_type": "execute_result",
          "data": {
            "text/plain": [
              "0     0.9293\n",
              "1     1.7356\n",
              "2     1.8546\n",
              "3     2.1073\n",
              "4     2.3637\n",
              "5     2.5417\n",
              "6     2.7176\n",
              "7     2.9618\n",
              "8     3.7442\n",
              "9     3.9209\n",
              "10    4.2629\n",
              "11    4.3290\n",
              "12    4.5732\n",
              "13    4.6230\n",
              "14    5.2355\n",
              "15    5.9960\n",
              "16    6.3058\n",
              "17    6.7838\n",
              "18    7.2509\n",
              "19    7.2583\n",
              "20    7.2865\n",
              "21    7.4109\n",
              "22    7.8511\n",
              "23    8.1576\n",
              "24    8.3872\n",
              "25    8.5173\n",
              "26    8.5555\n",
              "27    8.6645\n",
              "28    8.7260\n",
              "29    8.9059\n",
              "30    9.0856\n",
              "Name: x, dtype: float64"
            ]
          },
          "metadata": {},
          "execution_count": 4
        }
      ]
    },
    {
      "cell_type": "code",
      "metadata": {
        "jupyter": {
          "source_hidden": true
        },
        "id": "mobile-triumph"
      },
      "source": [
        "import signal\n",
        "class Interruptable():\n",
        "    class Breakout(Exception):\n",
        "        pass\n",
        "    def __init__(self):\n",
        "        self.interrupted = False\n",
        "        self.orig_handler = None\n",
        "    def __enter__(self):\n",
        "        self.orig_handler = signal.getsignal(signal.SIGINT)\n",
        "        signal.signal(signal.SIGINT, self.handle)\n",
        "        return self.check\n",
        "    def __exit__(self, exc_type, exc_val, exc_tb):\n",
        "        signal.signal(signal.SIGINT, self.orig_handler)\n",
        "        if exc_type == Interruptable.Breakout:\n",
        "            print(' stopped')\n",
        "            return True\n",
        "        return False\n",
        "    def handle(self, signal, frame):\n",
        "        if self.interrupted:\n",
        "            self.orig_handler(signal, frame)\n",
        "        print('Interrupting ...', end='')\n",
        "        self.interrupted = True\n",
        "    def check(self):\n",
        "        if self.interrupted:\n",
        "            raise Interruptable.Breakout\n",
        "            \n",
        "def enumerate_cycle(g, shuffle=True):\n",
        "    epoch = 0\n",
        "    while True:\n",
        "        if shuffle:\n",
        "            for i,j in enumerate(np.random.permutation(len(g))):\n",
        "                yield (epoch,i), g[j]\n",
        "        else:\n",
        "            for i,x in enumerate(g):\n",
        "                yield (epoch,i), x\n",
        "        epoch = epoch + 1"
      ],
      "id": "mobile-triumph",
      "execution_count": 5,
      "outputs": []
    },
    {
      "cell_type": "markdown",
      "metadata": {
        "id": "headed-cholesterol"
      },
      "source": [
        "# Question (a)"
      ],
      "id": "headed-cholesterol"
    },
    {
      "cell_type": "markdown",
      "metadata": {
        "id": "closing-million"
      },
      "source": [
        "Define model:"
      ],
      "id": "closing-million"
    },
    {
      "cell_type": "code",
      "metadata": {
        "id": "approved-prime"
      },
      "source": [
        "class Wiggle(nn.Module):\n",
        "    def __init__(self):\n",
        "        super().__init__()\n",
        "        self.f = nn.Sequential(\n",
        "            nn.Linear(1,4),\n",
        "            nn.LeakyReLU(),\n",
        "            nn.Linear(4,20),\n",
        "            nn.LeakyReLU(),\n",
        "            nn.Linear(20,20),\n",
        "            nn.LeakyReLU(),\n",
        "            nn.Linear(20,1)\n",
        "        )\n",
        "    def forward(self, x):\n",
        "        return self.f(x)\n",
        "    \n",
        "class RWiggle(nn.Module):\n",
        "    \"\"\"Y_i ~ N(f(x_i), sigma2)\"\"\"\n",
        "    def __init__(self):\n",
        "        super().__init__()\n",
        "        self.mu = Wiggle()\n",
        "        self.sigmapre = nn.Parameter(torch.tensor(1.0))\n",
        "    @property\n",
        "    def sigma(self):\n",
        "         return torch.nn.functional.softplus(self.sigmapre)\n",
        "    def forward(self, y, x):\n",
        "        sigma2 = torch.pow(self.sigma, 2)\n",
        "        return - 0.5*torch.log(2*np.pi*sigma2) - torch.pow(y - self.mu(x), 2) / (2*sigma2)"
      ],
      "id": "approved-prime",
      "execution_count": 5,
      "outputs": []
    },
    {
      "cell_type": "markdown",
      "metadata": {
        "id": "competent-angel"
      },
      "source": [
        "Train model:"
      ],
      "id": "competent-angel"
    },
    {
      "cell_type": "code",
      "metadata": {
        "id": "accompanied-architect"
      },
      "source": [
        "x = torch.tensor(xkcd.x, dtype=torch.float)[:, None]\n",
        "y = torch.tensor(xkcd.y, dtype=torch.float)[:, None]\n",
        "\n",
        "simple_wiggle = RWiggle()\n",
        "epoch = 0\n",
        "optimizer = optim.Adam(simple_wiggle.parameters())\n",
        "simple_training_loglik = []\n",
        "\n",
        "with Interruptable() as check_interrupted:\n",
        "    while epoch < 50000:\n",
        "        check_interrupted()\n",
        "        optimizer.zero_grad()\n",
        "        loglikelihood = torch.mean(simple_wiggle(y, x))\n",
        "        (-loglikelihood).backward()\n",
        "        optimizer.step()\n",
        "        epoch += 1\n",
        "        if epoch % 100 == 0:\n",
        "            simple_training_loglik.append(loglikelihood.item())\n",
        "#         print(f'epoch=={epoch}, loglik={loglikelihood.item():.4}, sigma={simple_wiggle.sigma.item():.4}')\n",
        "        "
      ],
      "id": "accompanied-architect",
      "execution_count": 6,
      "outputs": []
    },
    {
      "cell_type": "markdown",
      "metadata": {
        "id": "manual-entrance"
      },
      "source": [
        "Plot the model:"
      ],
      "id": "manual-entrance"
    },
    {
      "cell_type": "code",
      "metadata": {
        "colab": {
          "base_uri": "https://localhost:8080/",
          "height": 283
        },
        "id": "protective-tribe",
        "outputId": "8018ce72-6fe1-405f-c6dc-f482701617e1"
      },
      "source": [
        "mu_x = simple_wiggle.mu(x).detach().numpy()\n",
        "sigma = simple_wiggle.sigma.item()\n",
        "\n",
        "plt.plot(xkcd.x, mu_x)\n",
        "plt.fill_between(xkcd.x, (mu_x-1.96*sigma).reshape(31,), (mu_x+1.96*sigma).reshape(31,), alpha=0.2)"
      ],
      "id": "protective-tribe",
      "execution_count": 7,
      "outputs": [
        {
          "output_type": "execute_result",
          "data": {
            "text/plain": [
              "<matplotlib.collections.PolyCollection at 0x7f5507217710>"
            ]
          },
          "metadata": {},
          "execution_count": 7
        },
        {
          "output_type": "display_data",
          "data": {
            "image/png": "[encoded data removed]",
            "text/plain": [
              "<Figure size 432x288 with 1 Axes>"
            ]
          },
          "metadata": {
            "needs_background": "light"
          }
        }
      ]
    },
    {
      "cell_type": "code",
      "metadata": {
        "id": "homeless-hampshire"
      },
      "source": [
        "class Wiggle(nn.Module):\n",
        "    def __init__(self):\n",
        "        super().__init__()\n",
        "        self.f = nn.Sequential(\n",
        "            nn.Linear(1,4),\n",
        "            nn.LeakyReLU(),\n",
        "            nn.Linear(4,20),\n",
        "            nn.LeakyReLU(),\n",
        "            nn.Linear(20,20),\n",
        "            nn.LeakyReLU(),\n",
        "            nn.Linear(20,1)\n",
        "        )\n",
        "    def forward(self, x):\n",
        "        return self.f(x)\n",
        "    \n",
        "class HeteroscedasticRWiggle(nn.Module):\n",
        "    \"\"\"Y_i ~ N(f(x_i), f(x_i)^2)\"\"\"\n",
        "    def __init__(self):\n",
        "        super().__init__()\n",
        "        self.mu = Wiggle()\n",
        "        self.sigmapre = Wiggle()\n",
        "    def sigma(self, x):\n",
        "         return torch.nn.functional.softplus(self.sigmapre(x))\n",
        "        \n",
        "    def forward(self, y, x):\n",
        "        sigma2 = torch.pow(self.sigma(x), 2)\n",
        "        return - 0.5*torch.log(2*np.pi*sigma2) - torch.pow(y - self.mu(x), 2) / (2*sigma2)"
      ],
      "id": "homeless-hampshire",
      "execution_count": 8,
      "outputs": []
    },
    {
      "cell_type": "code",
      "metadata": {
        "id": "widespread-departure"
      },
      "source": [
        "heteroscedastic_wiggle = HeteroscedasticRWiggle()\n",
        "epoch = 0\n",
        "optimizer = optim.Adam(heteroscedastic_wiggle.parameters())\n",
        "heteroscedastic_training_likelihood = []\n",
        "\n",
        "with Interruptable() as check_interrupted:\n",
        "    while epoch < 50000:\n",
        "        check_interrupted()\n",
        "        optimizer.zero_grad()\n",
        "        loglikelihood = torch.mean(heteroscedastic_wiggle(y, x))\n",
        "        (-loglikelihood).backward()\n",
        "        optimizer.step()\n",
        "        epoch += 1\n",
        "        if epoch % 100 == 0:\n",
        "            heteroscedastic_training_likelihood.append(loglikelihood.item())\n",
        "#             print(f'epoch=={epoch}, loglik={loglikelihood.item():.4}')\n",
        "            \n",
        "#             print(f'sigma={heteroscedastic_wiggle.sigma(x)}')"
      ],
      "id": "widespread-departure",
      "execution_count": 9,
      "outputs": []
    },
    {
      "cell_type": "code",
      "metadata": {
        "colab": {
          "base_uri": "https://localhost:8080/",
          "height": 283
        },
        "id": "trained-providence",
        "outputId": "f40d4f9d-9e14-45f6-84e9-186c2903ac94"
      },
      "source": [
        "mu_x = heteroscedastic_wiggle.mu(x).detach().numpy()\n",
        "sigma = heteroscedastic_wiggle.sigma(x).detach().numpy()\n",
        "\n",
        "plt.plot(xkcd.x, mu_x)\n",
        "plt.fill_between(xkcd.x, (mu_x-1.96*sigma).reshape(31,), (mu_x+1.96*sigma).reshape(31,), alpha=0.2)"
      ],
      "id": "trained-providence",
      "execution_count": 10,
      "outputs": [
        {
          "output_type": "execute_result",
          "data": {
            "text/plain": [
              "<matplotlib.collections.PolyCollection at 0x7f55071b1bd0>"
            ]
          },
          "metadata": {},
          "execution_count": 10
        },
        {
          "output_type": "display_data",
          "data": {
            "image/png": "[encoded data removed]",
            "text/plain": [
              "<Figure size 432x288 with 1 Axes>"
            ]
          },
          "metadata": {
            "needs_background": "light"
          }
        }
      ]
    },
    {
      "cell_type": "markdown",
      "metadata": {
        "id": "going-fiber"
      },
      "source": [
        "# Question (b)"
      ],
      "id": "going-fiber"
    },
    {
      "cell_type": "markdown",
      "metadata": {
        "id": "center-venice"
      },
      "source": [
        "Maximum possible training log likelihood for *each* of these two models?\n",
        "- Is this related to the perfect sampling distribution under importance sampling?\n",
        "\n",
        "If it's useful, we can calculate the log likelihood for the data under a perfectly overfitted model. To do so we use the empirical distribution, $$q_x =  \\frac{\\text{# of occurrences of x}}{\\text{total number of samples}} $$"
      ],
      "id": "center-venice"
    },
    {
      "cell_type": "code",
      "metadata": {
        "id": "female-union"
      },
      "source": [
        "def q(x):\n",
        "    _, counts = np.unique(x, return_counts=True)\n",
        "    return counts/x.shape[0]"
      ],
      "id": "female-union",
      "execution_count": null,
      "outputs": []
    },
    {
      "cell_type": "code",
      "metadata": {
        "id": "placed-sherman",
        "outputId": "c6e77d1b-fc78-4956-eb62-fd652f0365db"
      },
      "source": [
        "q_res = q(x)\n",
        "\n",
        "np.sum(q_res * np.log(q_res))"
      ],
      "id": "placed-sherman",
      "execution_count": null,
      "outputs": [
        {
          "data": {
            "text/plain": [
              "-3.4339872044851463"
            ]
          },
          "execution_count": 25,
          "metadata": {},
          "output_type": "execute_result"
        }
      ]
    },
    {
      "cell_type": "markdown",
      "metadata": {
        "id": "humanitarian-bundle"
      },
      "source": [
        "Plot a graph of the training likelihood as a function of epoch, for both models:"
      ],
      "id": "humanitarian-bundle"
    },
    {
      "cell_type": "code",
      "metadata": {
        "colab": {
          "base_uri": "https://localhost:8080/",
          "height": 283
        },
        "id": "bizarre-norway",
        "outputId": "2465d526-a6a8-41b2-ca3c-3893e1329d5d"
      },
      "source": [
        "epochs = np.arange(1, 50000, 100)\n",
        "\n",
        "plt.plot(epochs, heteroscedastic_training_likelihood)\n",
        "plt.plot(epochs, simple_training_loglik)"
      ],
      "id": "bizarre-norway",
      "execution_count": 12,
      "outputs": [
        {
          "output_type": "execute_result",
          "data": {
            "text/plain": [
              "[<matplotlib.lines.Line2D at 0x7f5507742950>]"
            ]
          },
          "metadata": {},
          "execution_count": 12
        },
        {
          "output_type": "display_data",
          "data": {
            "image/png": "[encoded data removed]",
            "text/plain": [
              "<Figure size 432x288 with 1 Axes>"
            ]
          },
          "metadata": {
            "needs_background": "light"
          }
        }
      ]
    },
    {
      "cell_type": "markdown",
      "metadata": {
        "id": "virtual-universe"
      },
      "source": [
        "**Investigation**\n",
        "The dips occur when the optimisation algorithm tries large values for parameter $\\sigma$. For example, a dip occurs from log likelihood -1.046 to -1.539. The mean of the $\\sigma(x)$ vectors for those likelihoods are 1.1963 and 1.5876 - $\\sigma$ is just larger when the dip occurs.\n",
        "\n",
        "But why? Why does it happen when sigma depends on x, but not before? The mean would be the same."
      ],
      "id": "virtual-universe"
    },
    {
      "cell_type": "markdown",
      "metadata": {
        "id": "unsigned-publication"
      },
      "source": [
        "# Question (c)"
      ],
      "id": "unsigned-publication"
    },
    {
      "cell_type": "code",
      "metadata": {
        "colab": {
          "base_uri": "https://localhost:8080/",
          "height": 569,
          "referenced_widgets": [
            "6e2713cf002f42f9a7d9b6873d53789a",
            "6dbf6e98804845e48ce646d6625d1a61",
            "c035e8bd0a5f4848b02de3133c6cdb42",
            "769b4fc5ff42438eb6068c10c7a9ca0e",
            "06c95546449d4292a16874aa8784347f",
            "34f859e9826244de8c437f330e7bda90",
            "7793afb40bcd4a7c83c5ee0090452ae8",
            "97576f741cfc461ab6dd46711c5b31ea",
            "c41f9caac6474a3191f14ba5f80cee77",
            "bde70e84f8724e129fcad4b12d7d7e05",
            "8f7b40f937fb4bc5b09d3ee1dbd11778",
            "d8ecce7888f54ec1a641099479dc8701",
            "ba892dde16eb41049403d4843a212a80",
            "6d685a615f2944219aeed909cf481311",
            "cb9b14ca0f4c4174a8f26d9583439e12",
            "b48ca80673e2438ea809f45e070cba91",
            "674a2efb5a1240209283e500bada9658",
            "cee944e17a054500b3676c78a76ca978",
            "8db38bacdd534e0ca8f3f666ab2ec4b8",
            "4ce8a86bd5fc4fba96f233ac2463f74d",
            "75656e8f53a346b29ea10f1a5a608bdc",
            "1c146e5aa40244b19d9038114c151db0",
            "3ff2ad971df04e37bfa36238c6aafaac",
            "9d39aec820334822bc555220f9ba2184",
            "a30cf3bd35c54dc2abc80ffebf384b38",
            "2b36064b5d7f4bb98f227dbc04000077",
            "961196b26248467a94527b197ca771a5",
            "5f7d15f4ae1b45a582f6107d3f0b1c68",
            "28cf626637ab4d848ee817d32173de55",
            "c44b03917531467c8dd11892e4a8cf0b",
            "dd649d2c29ab4cd6bed27b7b408ef3aa",
            "2a48d5fb19194c288440b2ac04c2b243",
            "b45044bed8ac4cc290e8b0a35125d063",
            "25133729f47d4f2a877b25249a3b454c",
            "6c2e431348944757958b5c659169b56b",
            "d9fce4bc5fdf428d9159c471c54a5216",
            "2fef04a45f05469b8abc75f1abc129d0",
            "cfa3c962687347c6b3746ab9c5682fd4",
            "b47e688f19844846ac7462d79a8478ba",
            "a333db5dccae4e5c8b09df30d345f87d",
            "686799bb03914c01a27724155bcf1f20",
            "e7bea306c0b543f18b1056fde81c5d8b",
            "fd199a542ef54c418df80a2d43c60e81",
            "ac8dcf15f841415fbca5e9a01f53725f"
          ]
        },
        "id": "geological-hampshire",
        "outputId": "8639c83d-b414-47b2-ed47-f248a288b0ed"
      },
      "source": [
        "import torchvision\n",
        "\n",
        "mnist = torchvision.datasets.MNIST(\n",
        "    root = 'pytorch-data/',  # where to put the files\n",
        "    download = True,         # if files aren't here, download them\n",
        "    train = True,            # whether to import the test or the train subset\n",
        "    # PyTorch uses PyTorch tensors internally, not numpy arrays, so convert them.\n",
        "    transform = torchvision.transforms.ToTensor()\n",
        ")\n",
        "\n",
        "\n",
        "# Images can be plotted with matplotlib imshow\n",
        "import torch\n",
        "import matplotlib.pyplot as plt\n",
        "show = [mnist[i] for i in [59289, 28001, 35508, 43876, 23627, 14028]]\n",
        "show = torch.stack([img for img,lbl in show])\n",
        "x = torchvision.utils.make_grid(show, nrow=6, pad_value=1)\n",
        "plt.imshow(x.numpy().transpose((1,2,0)))\n",
        "plt.axis('off')\n",
        "plt.show()\n",
        "\n",
        "mnist_batched = torch.utils.data.DataLoader(mnist, batch_size=100)"
      ],
      "id": "geological-hampshire",
      "execution_count": 3,
      "outputs": [
        {
          "output_type": "stream",
          "name": "stdout",
          "text": [
            "Downloading http://yann.lecun.com/exdb/mnist/train-images-idx3-ubyte.gz\n",
            "Downloading http://yann.lecun.com/exdb/mnist/train-images-idx3-ubyte.gz to pytorch-data/MNIST/raw/train-images-idx3-ubyte.gz\n"
          ]
        },
        {
          "output_type": "display_data",
          "data": {
            "application/vnd.jupyter.widget-view+json": {
              "model_id": "6e2713cf002f42f9a7d9b6873d53789a",
              "version_minor": 0,
              "version_major": 2
            },
            "text/plain": [
              "  0%|          | 0/9912422 [00:00<?, ?it/s]"
            ]
          },
          "metadata": {}
        },
        {
          "output_type": "stream",
          "name": "stdout",
          "text": [
            "Extracting pytorch-data/MNIST/raw/train-images-idx3-ubyte.gz to pytorch-data/MNIST/raw\n",
            "\n",
            "Downloading http://yann.lecun.com/exdb/mnist/train-labels-idx1-ubyte.gz\n",
            "Downloading http://yann.lecun.com/exdb/mnist/train-labels-idx1-ubyte.gz to pytorch-data/MNIST/raw/train-labels-idx1-ubyte.gz\n"
          ]
        },
        {
          "output_type": "display_data",
          "data": {
            "application/vnd.jupyter.widget-view+json": {
              "model_id": "d8ecce7888f54ec1a641099479dc8701",
              "version_minor": 0,
              "version_major": 2
            },
            "text/plain": [
              "  0%|          | 0/28881 [00:00<?, ?it/s]"
            ]
          },
          "metadata": {}
        },
        {
          "output_type": "stream",
          "name": "stdout",
          "text": [
            "Extracting pytorch-data/MNIST/raw/train-labels-idx1-ubyte.gz to pytorch-data/MNIST/raw\n",
            "\n",
            "Downloading http://yann.lecun.com/exdb/mnist/t10k-images-idx3-ubyte.gz\n",
            "Downloading http://yann.lecun.com/exdb/mnist/t10k-images-idx3-ubyte.gz to pytorch-data/MNIST/raw/t10k-images-idx3-ubyte.gz\n"
          ]
        },
        {
          "output_type": "display_data",
          "data": {
            "application/vnd.jupyter.widget-view+json": {
              "model_id": "3ff2ad971df04e37bfa36238c6aafaac",
              "version_minor": 0,
              "version_major": 2
            },
            "text/plain": [
              "  0%|          | 0/1648877 [00:00<?, ?it/s]"
            ]
          },
          "metadata": {}
        },
        {
          "output_type": "stream",
          "name": "stdout",
          "text": [
            "Extracting pytorch-data/MNIST/raw/t10k-images-idx3-ubyte.gz to pytorch-data/MNIST/raw\n",
            "\n",
            "Downloading http://yann.lecun.com/exdb/mnist/t10k-labels-idx1-ubyte.gz\n",
            "Downloading http://yann.lecun.com/exdb/mnist/t10k-labels-idx1-ubyte.gz to pytorch-data/MNIST/raw/t10k-labels-idx1-ubyte.gz\n"
          ]
        },
        {
          "output_type": "display_data",
          "data": {
            "application/vnd.jupyter.widget-view+json": {
              "model_id": "25133729f47d4f2a877b25249a3b454c",
              "version_minor": 0,
              "version_major": 2
            },
            "text/plain": [
              "  0%|          | 0/4542 [00:00<?, ?it/s]"
            ]
          },
          "metadata": {}
        },
        {
          "output_type": "stream",
          "name": "stdout",
          "text": [
            "Extracting pytorch-data/MNIST/raw/t10k-labels-idx1-ubyte.gz to pytorch-data/MNIST/raw\n",
            "\n"
          ]
        },
        {
          "output_type": "stream",
          "name": "stderr",
          "text": [
            "/usr/local/lib/python3.7/dist-packages/torchvision/datasets/mnist.py:498: UserWarning: The given NumPy array is not writeable, and PyTorch does not support non-writeable tensors. This means you can write to the underlying (supposedly non-writeable) NumPy array using the tensor. You may want to copy the array to protect its data or make it writeable before converting it to a tensor. This type of warning will be suppressed for the rest of this program. (Triggered internally at  /pytorch/torch/csrc/utils/tensor_numpy.cpp:180.)\n",
            "  return torch.from_numpy(parsed.astype(m[2], copy=False)).view(*s)\n"
          ]
        },
        {
          "output_type": "display_data",
          "data": {
            "image/png": "[encoded data removed]",
            "text/plain": [
              "<Figure size 432x288 with 1 Axes>"
            ]
          },
          "metadata": {
            "needs_background": "light"
          }
        }
      ]
    },
    {
      "cell_type": "code",
      "metadata": {
        "id": "related-armenia"
      },
      "source": [
        "class BernoulliImageGenerator(nn.Module):\n",
        "    def __init__(self, d=4):\n",
        "        super().__init__()\n",
        "        self.d = d\n",
        "        self.f = nn.Sequential(\n",
        "            nn.Linear(d, 128),\n",
        "            nn.LeakyReLU(),\n",
        "            nn.Linear(128, 1728),\n",
        "            nn.LeakyReLU(),\n",
        "            nn.Unflatten(1, (12,12,12)), # -> B×12×12×12\n",
        "            nn.Conv2d(12, 36, 3, 1),     # -> [B×36×10×10]\n",
        "            nn.LeakyReLU(),\n",
        "            nn.Flatten(1),               # -> [B×3600]\n",
        "            nn.Unflatten(1, (4,30,30)),  # -> [B×4×30×30]\n",
        "            nn.Conv2d(4, 4, 3, 1),       # -> [B×4×28×28]\n",
        "            nn.LeakyReLU(),\n",
        "            nn.Conv2d(4, 1, 1, 1),       # -> [B×1×28×28]\n",
        "            nn.Sigmoid()\n",
        "        )\n",
        "\n",
        "    def forward(self, z):\n",
        "        return self.f(z)\n",
        "\n",
        "    def loglik(self, x, z):\n",
        "        xr = self(z)\n",
        "        return (x*torch.log(xr) + (1-x)*torch.log(1-xr)).sum((1,2,3))\n",
        "\n",
        "\n",
        "class GaussianEncoder(nn.Module):\n",
        "    def __init__(self, decoder):\n",
        "        super().__init__()\n",
        "        self.d = decoder.d\n",
        "        self.f = decoder\n",
        "        self.g = nn.Sequential(\n",
        "            nn.Conv2d(1, 32, 3, 1),\n",
        "            nn.LeakyReLU(),\n",
        "            nn.Conv2d(32, 64, 3, 1),\n",
        "            nn.MaxPool2d(2),\n",
        "            nn.Flatten(1),\n",
        "            nn.Linear(9216, 128),\n",
        "            nn.LeakyReLU(),\n",
        "            nn.Linear(128, self.d*2)\n",
        "        )\n",
        "\n",
        "    def forward(self, x):\n",
        "        μτ = self.g(x)\n",
        "        μ,τ = μτ[:,:self.d], μτ[:,self.d:]\n",
        "        return μ, torch.exp(τ/2)\n",
        "\n",
        "    def loglik_lb(self, x):\n",
        "        μ,σ = self(x)\n",
        "        kl = 0.5 * (μ**2 + σ**2 - torch.log(σ**2) - 1).sum(1)\n",
        "        ε = torch.randn_like(σ)\n",
        "        ll = self.f.loglik(x, z=μ+σ*ε)\n",
        "        return ll - kl"
      ],
      "id": "related-armenia",
      "execution_count": 4,
      "outputs": []
    },
    {
      "cell_type": "code",
      "metadata": {
        "colab": {
          "base_uri": "https://localhost:8080/"
        },
        "id": "settled-mistake",
        "outputId": "b36c3f72-304b-46ce-8b6e-184c78a3509e"
      },
      "source": [
        "autoencoder = GaussianEncoder(BernoulliImageGenerator())\n",
        "optimizer = optim.Adam(autoencoder.parameters())\n",
        "epoch = 0\n",
        "\n",
        "while epoch < 100:\n",
        "    for batch_num, (images, labels) in enumerate(mnist_batched):\n",
        "        optimizer.zero_grad()\n",
        "        loglik_lb = torch.mean(autoencoder.loglik_lb(images))\n",
        "        (-loglik_lb).backward()\n",
        "        optimizer.step()\n",
        "    epoch += 1\n",
        "    print(f\"epoch: {epoch}, loglikelihood: {loglik_lb.item():.4}\")"
      ],
      "id": "settled-mistake",
      "execution_count": 14,
      "outputs": [
        {
          "output_type": "stream",
          "name": "stdout",
          "text": [
            "epoch: 1, loglikelihood: -147.0\n",
            "epoch: 2, loglikelihood: -87.89\n",
            "epoch: 3, loglikelihood: -70.8\n",
            "epoch: 4, loglikelihood: -61.69\n",
            "epoch: 5, loglikelihood: -58.14\n",
            "epoch: 6, loglikelihood: -56.67\n",
            "epoch: 7, loglikelihood: -56.47\n",
            "epoch: 8, loglikelihood: -55.79\n",
            "epoch: 9, loglikelihood: -55.74\n",
            "epoch: 10, loglikelihood: -55.1\n",
            "epoch: 11, loglikelihood: -54.89\n",
            "epoch: 12, loglikelihood: -54.55\n",
            "epoch: 13, loglikelihood: -54.65\n",
            "epoch: 14, loglikelihood: -54.06\n",
            "epoch: 15, loglikelihood: -53.89\n",
            "epoch: 16, loglikelihood: -54.36\n",
            "epoch: 17, loglikelihood: -53.9\n",
            "epoch: 18, loglikelihood: -53.1\n",
            "epoch: 19, loglikelihood: -53.05\n",
            "epoch: 20, loglikelihood: -52.95\n",
            "epoch: 21, loglikelihood: -53.19\n",
            "epoch: 22, loglikelihood: -52.55\n",
            "epoch: 23, loglikelihood: -52.7\n",
            "epoch: 24, loglikelihood: -52.3\n",
            "epoch: 25, loglikelihood: -53.43\n",
            "epoch: 26, loglikelihood: -52.49\n",
            "epoch: 27, loglikelihood: -51.88\n",
            "epoch: 28, loglikelihood: -51.36\n",
            "epoch: 29, loglikelihood: -51.29\n",
            "epoch: 30, loglikelihood: -52.11\n",
            "epoch: 31, loglikelihood: -51.08\n",
            "epoch: 32, loglikelihood: -51.84\n",
            "epoch: 33, loglikelihood: -51.25\n",
            "epoch: 34, loglikelihood: -51.51\n",
            "epoch: 35, loglikelihood: -51.18\n",
            "epoch: 36, loglikelihood: -51.08\n",
            "epoch: 37, loglikelihood: -50.65\n",
            "epoch: 38, loglikelihood: -50.57\n",
            "epoch: 39, loglikelihood: -50.78\n",
            "epoch: 40, loglikelihood: -51.53\n",
            "epoch: 41, loglikelihood: -50.92\n",
            "epoch: 42, loglikelihood: -50.98\n",
            "epoch: 43, loglikelihood: -50.65\n",
            "epoch: 44, loglikelihood: -51.18\n",
            "epoch: 45, loglikelihood: -51.13\n",
            "epoch: 46, loglikelihood: -50.4\n",
            "epoch: 47, loglikelihood: -49.91\n",
            "epoch: 48, loglikelihood: -50.75\n",
            "epoch: 49, loglikelihood: -50.13\n",
            "epoch: 50, loglikelihood: -50.49\n",
            "epoch: 51, loglikelihood: -50.57\n",
            "epoch: 52, loglikelihood: -51.2\n",
            "epoch: 53, loglikelihood: -50.23\n",
            "epoch: 54, loglikelihood: -50.24\n",
            "epoch: 55, loglikelihood: -50.85\n",
            "epoch: 56, loglikelihood: -49.98\n",
            "epoch: 57, loglikelihood: -50.19\n",
            "epoch: 58, loglikelihood: -50.07\n",
            "epoch: 59, loglikelihood: -49.5\n",
            "epoch: 60, loglikelihood: -49.99\n",
            "epoch: 61, loglikelihood: -49.68\n",
            "epoch: 62, loglikelihood: -50.28\n",
            "epoch: 63, loglikelihood: -50.08\n",
            "epoch: 64, loglikelihood: -50.02\n",
            "epoch: 65, loglikelihood: -49.29\n",
            "epoch: 66, loglikelihood: -49.33\n",
            "epoch: 67, loglikelihood: -49.77\n",
            "epoch: 68, loglikelihood: -49.22\n",
            "epoch: 69, loglikelihood: -48.99\n",
            "epoch: 70, loglikelihood: -49.05\n",
            "epoch: 71, loglikelihood: -48.97\n",
            "epoch: 72, loglikelihood: -49.47\n",
            "epoch: 73, loglikelihood: -49.02\n",
            "epoch: 74, loglikelihood: -49.28\n",
            "epoch: 75, loglikelihood: -49.0\n",
            "epoch: 76, loglikelihood: -49.84\n",
            "epoch: 77, loglikelihood: -49.23\n",
            "epoch: 78, loglikelihood: -48.79\n",
            "epoch: 79, loglikelihood: -49.57\n",
            "epoch: 80, loglikelihood: -49.03\n",
            "epoch: 81, loglikelihood: -49.14\n",
            "epoch: 82, loglikelihood: -49.13\n",
            "epoch: 83, loglikelihood: -49.28\n",
            "epoch: 84, loglikelihood: -49.03\n",
            "epoch: 85, loglikelihood: -48.91\n",
            "epoch: 86, loglikelihood: -48.94\n",
            "epoch: 87, loglikelihood: -48.76\n",
            "epoch: 88, loglikelihood: -49.05\n",
            "epoch: 89, loglikelihood: -49.22\n",
            "epoch: 90, loglikelihood: -48.76\n",
            "epoch: 91, loglikelihood: -48.67\n",
            "epoch: 92, loglikelihood: -48.39\n",
            "epoch: 93, loglikelihood: -49.28\n",
            "epoch: 94, loglikelihood: -49.27\n",
            "epoch: 95, loglikelihood: -49.15\n",
            "epoch: 96, loglikelihood: -49.22\n",
            "epoch: 97, loglikelihood: -48.85\n",
            "epoch: 98, loglikelihood: -48.53\n",
            "epoch: 99, loglikelihood: -48.94\n",
            "epoch: 100, loglikelihood: -48.71\n"
          ]
        }
      ]
    },
    {
      "cell_type": "code",
      "metadata": {
        "id": "MfwhdGW87wbR"
      },
      "source": [
        "torch.save(autoencoder.state_dict(), '4-dim-100-epoch.pt')"
      ],
      "id": "MfwhdGW87wbR",
      "execution_count": 15,
      "outputs": []
    },
    {
      "cell_type": "code",
      "metadata": {
        "id": "wL1M3QqJpVUW"
      },
      "source": [
        "torch.save(autoencoder.state_dict(), 'autoencoder.pt')"
      ],
      "id": "wL1M3QqJpVUW",
      "execution_count": 17,
      "outputs": []
    },
    {
      "cell_type": "code",
      "metadata": {
        "colab": {
          "base_uri": "https://localhost:8080/",
          "height": 137
        },
        "id": "national-fifty",
        "outputId": "bfca4116-9779-441e-8799-a27fd996f860"
      },
      "source": [
        "show_res = [mnist[i] for i in [59289, 28001, 35508, 43876]]\n",
        "show_res = torch.stack([img for img,lbl in show_res])\n",
        "x_res = torchvision.utils.make_grid(show_res, nrow=6, pad_value=1)\n",
        "plt.imshow(x_res.numpy().transpose((1,2,0)))\n",
        "plt.axis('off')\n",
        "plt.show()\n",
        "\n",
        "show_res.shape"
      ],
      "id": "national-fifty",
      "execution_count": 44,
      "outputs": [
        {
          "output_type": "display_data",
          "data": {
            "image/png": "[encoded data removed]",
            "text/plain": [
              "<Figure size 432x288 with 1 Axes>"
            ]
          },
          "metadata": {
            "needs_background": "light"
          }
        },
        {
          "output_type": "execute_result",
          "data": {
            "text/plain": [
              "torch.Size([4, 1, 28, 28])"
            ]
          },
          "metadata": {},
          "execution_count": 44
        }
      ]
    },
    {
      "cell_type": "markdown",
      "metadata": {
        "id": "arbitrary-ancient"
      },
      "source": [
        "## Images + reconstructions"
      ],
      "id": "arbitrary-ancient"
    },
    {
      "cell_type": "code",
      "metadata": {
        "colab": {
          "base_uri": "https://localhost:8080/",
          "height": 611
        },
        "id": "major-recommendation",
        "outputId": "0676993a-ab83-4a1a-92c0-4ab43ed74834"
      },
      "source": [
        "new_images = []\n",
        "for image in show_res:\n",
        "  image = image.reshape((1, 1, 28, 28))\n",
        "  new_images.append(image.detach().numpy()[0][0])\n",
        "  for i in range(3):\n",
        "    mu, sigma = autoencoder(image)\n",
        "    epsilon = torch.randn_like(sigma)\n",
        "    z = mu + sigma*epsilon\n",
        "    new_image = autoencoder.f(z)\n",
        "    new_images.append(new_image.detach().numpy()[0][0])\n",
        "\n",
        "cols, rows = 4, 4\n",
        "fig = plt.figure(figsize=(10, 10))\n",
        "\n",
        "for i in range(1, cols*rows + 1):\n",
        "  fig.add_subplot(rows, cols, i)\n",
        "  plt.imshow(new_images[i-1])\n",
        "plt.show"
      ],
      "id": "major-recommendation",
      "execution_count": 53,
      "outputs": [
        {
          "output_type": "execute_result",
          "data": {
            "text/plain": [
              "<function matplotlib.pyplot.show>"
            ]
          },
          "metadata": {},
          "execution_count": 53
        },
        {
          "output_type": "display_data",
          "data": {
            "image/png": "[encoded data removed]",
            "text/plain": [
              "<Figure size 720x720 with 16 Axes>"
            ]
          },
          "metadata": {
            "needs_background": "light"
          }
        }
      ]
    },
    {
      "cell_type": "markdown",
      "metadata": {
        "id": "driven-avatar"
      },
      "source": [
        "## Varying noise for 35508"
      ],
      "id": "driven-avatar"
    },
    {
      "cell_type": "code",
      "metadata": {
        "colab": {
          "base_uri": "https://localhost:8080/",
          "height": 164
        },
        "id": "h7pkixUWlO7r",
        "outputId": "a9626d6b-24a6-4864-b97c-6f2fd4ccc0b1"
      },
      "source": [
        "image, _ = mnist[35508]\n",
        "image = image.reshape((1, 1, 28, 28))\n",
        "mu, sigma = autoencoder(image)\n",
        "\n",
        "z = [mu + torch.randn_like(sigma) for _ in range(5)]\n",
        "new_images = [autoencoder.f(z_i) for z_i in z]\n",
        "fig = plt.figure(figsize=(10, 10))\n",
        "\n",
        "for i in range(len(new_images)):\n",
        "  fig.add_subplot(1, 5, i+1)\n",
        "  plt.imshow(new_images[i].detach().numpy()[0][0])\n",
        "plt.axis('off')\n",
        "plt.show"
      ],
      "id": "h7pkixUWlO7r",
      "execution_count": 11,
      "outputs": [
        {
          "output_type": "execute_result",
          "data": {
            "text/plain": [
              "<function matplotlib.pyplot.show>"
            ]
          },
          "metadata": {},
          "execution_count": 11
        },
        {
          "output_type": "display_data",
          "data": {
            "image/png": "[encoded data removed]",
            "text/plain": [
              "<Figure size 720x720 with 5 Axes>"
            ]
          },
          "metadata": {
            "needs_background": "light"
          }
        }
      ]
    },
    {
      "cell_type": "markdown",
      "metadata": {
        "id": "completed-thanks"
      },
      "source": [
        "## 12 random images"
      ],
      "id": "completed-thanks"
    },
    {
      "cell_type": "markdown",
      "metadata": {
        "id": "O_ZRlafUmm2R"
      },
      "source": [
        "How to generate 12 random images? What gets fed into the encoder?"
      ],
      "id": "O_ZRlafUmm2R"
    },
    {
      "cell_type": "code",
      "metadata": {
        "id": "Rst9yTO8ozVY"
      },
      "source": [
        "# Generating 12 different latent variables which we can use to sample new data.\n",
        "# We generate these from 12 data-points chosen at random from the dataset.\n",
        "\n",
        "mu, sigma = autoencoder(images)\n",
        "z = mu + sigma*torch.randn_like(sigma)\n",
        "\n",
        "# Do this 12 times? Or does it need to see different data?\n",
        "autoencoder.f(z)"
      ],
      "id": "Rst9yTO8ozVY",
      "execution_count": null,
      "outputs": []
    },
    {
      "cell_type": "code",
      "metadata": {
        "colab": {
          "base_uri": "https://localhost:8080/"
        },
        "id": "6k2KUrIYeBRP",
        "outputId": "ef064eb5-2cbb-49a7-9fce-351250dbc8c4"
      },
      "source": [
        "images = [] # A list of tensors representing each image. The shape of each tensor is 1x28x28.\n",
        "for image, _ in mnist:\n",
        "  images.append(image)"
      ],
      "id": "6k2KUrIYeBRP",
      "execution_count": 16,
      "outputs": [
        {
          "output_type": "execute_result",
          "data": {
            "text/plain": [
              "torch.Size([1, 28, 28])"
            ]
          },
          "metadata": {},
          "execution_count": 16
        }
      ]
    },
    {
      "cell_type": "code",
      "metadata": {
        "colab": {
          "base_uri": "https://localhost:8080/",
          "height": 90
        },
        "id": "_FVa58wkedqy",
        "outputId": "b15868cb-ae84-4fd6-a777-36b2a7bdace7"
      },
      "source": [
        "# Pick 12 images at random.\n",
        "random_subset = [images[random.randrange(0, len(images))] for _ in range(12)]\n",
        "corresponding_latent_vars = [autoencoder(image.reshape((1, 1, 28, 28))) for image in random_subset]\n",
        "generated_images = [autoencoder.f(mu_i + sigma_i * torch.randn_like(sigma_i)) for (mu_i, sigma_i) in corresponding_latent_vars]\n",
        "\n",
        "fig = plt.figure(figsize=(10, 10))\n",
        "\n",
        "for i in range(len(new_images)):\n",
        "  fig.add_subplot(1, 12, i+1)\n",
        "  plt.imshow(generated_images[i].detach().numpy()[0][0])\n",
        "plt.axis('off')\n",
        "plt.show()"
      ],
      "id": "_FVa58wkedqy",
      "execution_count": 29,
      "outputs": [
        {
          "output_type": "display_data",
          "data": {
            "image/png": "[encoded data removed]",
            "text/plain": [
              "<Figure size 720x720 with 12 Axes>"
            ]
          },
          "metadata": {
            "needs_background": "light"
          }
        }
      ]
    },
    {
      "cell_type": "markdown",
      "metadata": {
        "id": "clinical-bernard"
      },
      "source": [
        "## Interpolating two images"
      ],
      "id": "clinical-bernard"
    },
    {
      "cell_type": "code",
      "metadata": {
        "colab": {
          "base_uri": "https://localhost:8080/",
          "height": 90
        },
        "id": "nWLK2cnPm480",
        "outputId": "59e20463-3bcd-4556-f30e-4e652982c067"
      },
      "source": [
        "(img1, _), (img2, _) = mnist[28001], mnist[43876]\n",
        "img1 = img1.reshape((1, 1, 28, 28))\n",
        "img2 = img2.reshape((1, 1, 28, 28))\n",
        "mu1, sigma1 = autoencoder(img1)\n",
        "mu2, sigma2 = autoencoder(img2)\n",
        "z1 = mu1 + torch.randn_like(sigma1)\n",
        "z2 = mu2 + torch.randn_like(sigma2)\n",
        "\n",
        "interpolated_vars = []\n",
        "for _ in range(10):\n",
        "  coef = random.random()\n",
        "  interpolated_vars.append(z1 + coef*(z2-z1))\n",
        "\n",
        "new_images = [img1]\n",
        "for z_i in interpolated_vars:\n",
        "  new_images.append(autoencoder.f(z_i))\n",
        "new_images.append(img2)\n",
        "\n",
        "fig = plt.figure(figsize=(10, 10))\n",
        "\n",
        "\n",
        "for i in range(len(new_images)):\n",
        "  fig.add_subplot(1, 12, i+1)\n",
        "  plt.imshow(new_images[i].detach().numpy()[0][0])\n",
        "plt.axis('off')\n",
        "plt.show()"
      ],
      "id": "nWLK2cnPm480",
      "execution_count": 26,
      "outputs": [
        {
          "output_type": "display_data",
          "data": {
            "image/png": "[encoded data removed]",
            "text/plain": [
              "<Figure size 720x720 with 12 Axes>"
            ]
          },
          "metadata": {
            "needs_background": "light"
          }
        }
      ]
    },
    {
      "cell_type": "markdown",
      "metadata": {
        "id": "d7rAo6yxhkXj"
      },
      "source": [
        "---"
      ],
      "id": "d7rAo6yxhkXj"
    },
    {
      "cell_type": "markdown",
      "metadata": {
        "id": "proper-marriage"
      },
      "source": [
        "# Question (d)"
      ],
      "id": "proper-marriage"
    },
    {
      "cell_type": "markdown",
      "metadata": {
        "id": "apart-tamil"
      },
      "source": [
        "1. Modify autoencoder so it uses 100 samples for MCI. \n",
        "  - Changed the behaviour inside `loglik_lb` so that it generates `n_samples` for each $Z_i$, where previously it was generating just one and computing the likelihood of the data given that one sample.\n",
        "2. Show likely/unlikely images. What makes an image likely?\n",
        "  - It looks like unlikely images do not look like digits at all - they're just blobs. They have some sort of structure, but it seems arbitrary. \n",
        "  - Likely images are simpler digits, like 1 (a vertical bar) or 7 (a vertical bar and a horizontal bar at the top)."
      ],
      "id": "apart-tamil"
    },
    {
      "cell_type": "code",
      "metadata": {
        "id": "18zV5RWRhfoM"
      },
      "source": [
        "class BernoulliImageGeneratorExpandedSampling(nn.Module):\n",
        "    def __init__(self, d=4):\n",
        "        super().__init__()\n",
        "        self.d = d\n",
        "        self.f = nn.Sequential(\n",
        "            nn.Linear(d, 128),\n",
        "            nn.LeakyReLU(),\n",
        "            nn.Linear(128, 1728),\n",
        "            nn.LeakyReLU(),\n",
        "            nn.Unflatten(1, (12,12,12)), # -> B×12×12×12\n",
        "            nn.Conv2d(12, 36, 3, 1),     # -> [B×36×10×10]\n",
        "            nn.LeakyReLU(),\n",
        "            nn.Flatten(1),               # -> [B×3600]\n",
        "            nn.Unflatten(1, (4,30,30)),  # -> [B×4×30×30]\n",
        "            nn.Conv2d(4, 4, 3, 1),       # -> [B×4×28×28]\n",
        "            nn.LeakyReLU(),\n",
        "            nn.Conv2d(4, 1, 1, 1),       # -> [B×1×28×28]\n",
        "            nn.Sigmoid()\n",
        "        )\n",
        "\n",
        "    def forward(self, z):\n",
        "        return self.f(z)\n",
        "\n",
        "    def loglik(self, x, z):\n",
        "      \"\"\" When this is called, the argument z is the value that a random variable Z takes on.\n",
        "          It's a bit confusing, because z is actually a vector of z_i that random variables Z_i take on.\n",
        "          This equates to the likelihood of each x_i under a particular choice of z - one sample. To do\n",
        "          multiple samples, we need to try multiple values of little z, which happens when this is called.\"\"\"\n",
        "      xr = self(z)\n",
        "      return (x*torch.log(xr) + (1-x)*torch.log(1-xr)).sum((1, 2, 3))\n",
        "\n",
        "\n",
        "class GaussianEncoderExpandedSampling(nn.Module):\n",
        "    def __init__(self, decoder):\n",
        "        super().__init__()\n",
        "        self.d = decoder.d\n",
        "        self.f = decoder\n",
        "        self.g = nn.Sequential(\n",
        "            nn.Conv2d(1, 32, 3, 1),\n",
        "            nn.LeakyReLU(),\n",
        "            nn.Conv2d(32, 64, 3, 1),\n",
        "            nn.MaxPool2d(2),\n",
        "            nn.Flatten(1),\n",
        "            nn.Linear(9216, 128),\n",
        "            nn.LeakyReLU(),\n",
        "            nn.Linear(128, self.d*2)\n",
        "        )\n",
        "        self.max_likelihood = (0, 0)\n",
        "        self.min_likelihood = (0, 0)\n",
        "\n",
        "    def forward(self, x):\n",
        "        μτ = self.g(x)\n",
        "        μ,τ = μτ[:,:self.d], μτ[:,self.d:]\n",
        "        return μ, torch.exp(τ/2)\n",
        "\n",
        "    def loglik_lb(self, batch_num, x):\n",
        "        μ,σ = self(x)\n",
        "        kl = 0.5 * (μ**2 + σ**2 - torch.log(σ**2) - 1).sum(1)\n",
        "\n",
        "        # Running the below is equivalent to sampling just once\n",
        "        # a value for Z(phi, x) for each of the data poitns in the\n",
        "        # vector x. If we want multiple samples, we don't need to\n",
        "        # pass through the encoder again - that will be the same,\n",
        "        # given the parameters we have now. But if we sample the\n",
        "        # noise epsilon again, we'll get a different Z(phi, x).\n",
        "        ll = 0\n",
        "        num_samples = 1\n",
        "        for _ in range(num_samples):\n",
        "          ε = torch.randn_like(σ)\n",
        "          ll += self.f.loglik(x, z=μ+σ*ε)\n",
        "        ll /= num_samples\n",
        "\n",
        "        if torch.min(ll) < self.min_likelihood[0]:\n",
        "          self.min_likelihood = torch.min(ll), torch.argmin(ll) + batch_num*100\n",
        "\n",
        "        if torch.max(ll) < self.max_likelihood[0]:\n",
        "          self.max_likelihood = torch.max(ll), torch.argmax(ll) + batch_num*100\n",
        "\n",
        "        # Sum up all likelihoods to find likelihood of dataset.\n",
        "        return ll - kl"
      ],
      "id": "18zV5RWRhfoM",
      "execution_count": 71,
      "outputs": []
    },
    {
      "cell_type": "code",
      "metadata": {
        "colab": {
          "base_uri": "https://localhost:8080/"
        },
        "id": "Vuj1jZXDsW3z",
        "outputId": "7a989c89-f534-46f7-9fe6-e0ddff8286c3"
      },
      "source": [
        "autoencoder_expanded_sampling = GaussianEncoderExpandedSampling(BernoulliImageGeneratorExpandedSampling())\n",
        "optimizer = optim.Adam(autoencoder_expanded_sampling.parameters())\n",
        "epoch = 0\n",
        "\n",
        "while epoch < 10:\n",
        "    for batch_num, (images, labels) in enumerate(mnist_batched):\n",
        "        optimizer.zero_grad()\n",
        "        loglik_lb = torch.mean(autoencoder_expanded_sampling.loglik_lb(batch_num, images))\n",
        "        (-loglik_lb).backward()\n",
        "        optimizer.step()\n",
        "    epoch += 1\n",
        "    print(f\"epoch: {epoch}, loglikelihood: {loglik_lb.item():.4}\")"
      ],
      "id": "Vuj1jZXDsW3z",
      "execution_count": 86,
      "outputs": [
        {
          "output_type": "stream",
          "name": "stdout",
          "text": [
            "epoch: 1, loglikelihood: -150.7\n",
            "epoch: 2, loglikelihood: -141.1\n",
            "epoch: 3, loglikelihood: -134.9\n",
            "epoch: 4, loglikelihood: -133.0\n",
            "epoch: 5, loglikelihood: -131.6\n",
            "epoch: 6, loglikelihood: -129.5\n",
            "epoch: 7, loglikelihood: -127.4\n",
            "epoch: 8, loglikelihood: -126.5\n",
            "epoch: 9, loglikelihood: -125.1\n",
            "epoch: 10, loglikelihood: -125.6\n"
          ]
        }
      ]
    },
    {
      "cell_type": "code",
      "metadata": {
        "colab": {
          "base_uri": "https://localhost:8080/",
          "height": 158
        },
        "id": "Zgh2So0eJR4V",
        "outputId": "931a4787-4e9b-4e09-c097-ec9e76ec1866"
      },
      "source": [
        "likely, _ = mnist[72]\n",
        "unlikely, _ = mnist[1618]\n",
        "\n",
        "fig = plt.figure(figsize=(5, 5))\n",
        "\n",
        "fig.add_subplot(1, 2, 1)\n",
        "plt.imshow(unlikely[0])\n",
        "plt.axis('off')\n",
        "\n",
        "fig.add_subplot(1, 2, 2)\n",
        "plt.imshow(likely[0])\n",
        "plt.axis('off')\n",
        "\n",
        "plt.show()"
      ],
      "id": "Zgh2So0eJR4V",
      "execution_count": 85,
      "outputs": [
        {
          "output_type": "display_data",
          "data": {
            "image/png": "[encoded data removed]",
            "text/plain": [
              "<Figure size 360x360 with 2 Axes>"
            ]
          },
          "metadata": {
            "needs_background": "light"
          }
        }
      ]
    },
    {
      "cell_type": "markdown",
      "metadata": {
        "id": "multiple-happening"
      },
      "source": [
        "# Question (e)"
      ],
      "id": "multiple-happening"
    },
    {
      "cell_type": "markdown",
      "metadata": {
        "id": "heavy-cable"
      },
      "source": [
        "Train the autoencoder with 20 dimensions:"
      ],
      "id": "heavy-cable"
    },
    {
      "cell_type": "code",
      "metadata": {
        "colab": {
          "base_uri": "https://localhost:8080/"
        },
        "id": "alive-allergy",
        "outputId": "377f247f-f9fd-4c9a-8549-e9a9bf5ed74d"
      },
      "source": [
        "autoencoder = GaussianEncoder(BernoulliImageGenerator(20))\n",
        "optimizer = optim.Adam(autoencoder.parameters())\n",
        "epoch = 0\n",
        "\n",
        "while epoch < 10:\n",
        "    for batch_num, (images, labels) in enumerate(mnist_batched):\n",
        "        optimizer.zero_grad()\n",
        "        loglik_lb = torch.mean(autoencoder.loglik_lb(images))\n",
        "        (-loglik_lb).backward()\n",
        "        optimizer.step()\n",
        "    epoch += 1\n",
        "    print(f\"epoch: {epoch}, loglikelihood: {loglik_lb.item():.4}\")\n",
        "\n",
        "torch.save(autoencoder.state_dict(), '20-dim-10-epoch.pt')"
      ],
      "id": "alive-allergy",
      "execution_count": 10,
      "outputs": [
        {
          "output_type": "stream",
          "name": "stdout",
          "text": [
            "epoch: 1, loglikelihood: -156.5\n",
            "epoch: 2, loglikelihood: -100.2\n",
            "epoch: 3, loglikelihood: -73.05\n",
            "epoch: 4, loglikelihood: -70.77\n",
            "epoch: 5, loglikelihood: -65.88\n",
            "epoch: 6, loglikelihood: -64.52\n",
            "epoch: 7, loglikelihood: -63.34\n",
            "epoch: 8, loglikelihood: -63.42\n",
            "epoch: 9, loglikelihood: -60.44\n",
            "epoch: 10, loglikelihood: -59.27\n"
          ]
        }
      ]
    },
    {
      "cell_type": "code",
      "metadata": {
        "id": "emztiABn7kAN"
      },
      "source": [
        "torch.save(autoencoder.state_dict(), '20-dim-10-epoch.pt')"
      ],
      "id": "emztiABn7kAN",
      "execution_count": 11,
      "outputs": []
    },
    {
      "cell_type": "markdown",
      "metadata": {
        "id": "worse-demographic"
      },
      "source": [
        "Evaluate \"them\" - the dimensions? Explain your grounds for comparison.\n",
        "\n",
        "Focus on evaluation metrics."
      ],
      "id": "worse-demographic"
    },
    {
      "cell_type": "code",
      "metadata": {
        "colab": {
          "base_uri": "https://localhost:8080/",
          "height": 320
        },
        "id": "kbSWOBfUVDLz",
        "outputId": "8f7456a5-3544-43a4-8898-04b5454a6245"
      },
      "source": [
        "img, label = mnist[42069]\n",
        "img = img.reshape((1, 1, 28, 28))\n",
        "mu, sig = autoencoder_expanded_sampling(img)\n",
        "eps = torch.randn_like(sig)\n",
        "z = mu + sig*eps\n",
        "\n",
        "reconstr_x = autoencoder_expanded_sampling.f(z)\n",
        "\n",
        "print(label)\n",
        "fig = plt.figure(figsize=(10, 10))\n",
        "\n",
        "\n",
        "fig.add_subplot(1, 2, 1)\n",
        "plt.imshow(img[0][0])\n",
        "\n",
        "fig.add_subplot(1, 2, 2)\n",
        "plt.imshow(reconstr_x.detach().numpy()[0][0])\n",
        "\n",
        "plt.show()"
      ],
      "id": "kbSWOBfUVDLz",
      "execution_count": 101,
      "outputs": [
        {
          "output_type": "stream",
          "name": "stdout",
          "text": [
            "9\n"
          ]
        },
        {
          "output_type": "display_data",
          "data": {
            "image/png": "[encoded data removed]",
            "text/plain": [
              "<Figure size 720x720 with 2 Axes>"
            ]
          },
          "metadata": {
            "needs_background": "light"
          }
        }
      ]
    },
    {
      "cell_type": "markdown",
      "metadata": {
        "id": "surface-mozambique"
      },
      "source": [
        "# Question (f)"
      ],
      "id": "surface-mozambique"
    },
    {
      "cell_type": "markdown",
      "metadata": {
        "id": "artificial-frequency"
      },
      "source": [
        "1. Train a generative model $X = f(Z, y)$ so that $Z$ captures the style of the digit. \n",
        "2. Show 4 sets of styles with different digits in each style."
      ],
      "id": "artificial-frequency"
    },
    {
      "cell_type": "code",
      "metadata": {
        "id": "FEv1KcFv60pg"
      },
      "source": [
        "ones = [(image, label) for image, label in mnist if label==1]\n",
        "mnist_batched = torch.utils.data.DataLoader(ones, batch_size=100)"
      ],
      "id": "FEv1KcFv60pg",
      "execution_count": 6,
      "outputs": []
    },
    {
      "cell_type": "code",
      "metadata": {
        "colab": {
          "base_uri": "https://localhost:8080/"
        },
        "id": "DK4eyJle9t1Y",
        "outputId": "5446f006-e07e-467c-cb9e-340eb557fbb4"
      },
      "source": [
        "autoencoder = GaussianEncoder(BernoulliImageGenerator(4))\n",
        "optimizer = optim.Adam(autoencoder.parameters())\n",
        "epoch = 0\n",
        "\n",
        "while epoch < 100:\n",
        "    for batch_num, (images, labels) in enumerate(mnist_batched):\n",
        "        optimizer.zero_grad()\n",
        "        loglik_lb = torch.mean(autoencoder.loglik_lb(images))\n",
        "        (-loglik_lb).backward()\n",
        "        optimizer.step()\n",
        "    epoch += 1\n",
        "    print(f\"epoch: {epoch}, loglikelihood: {loglik_lb.item():.4}\")\n",
        "\n",
        "torch.save(autoencoder.state_dict(), 'ones.pt')"
      ],
      "id": "DK4eyJle9t1Y",
      "execution_count": 8,
      "outputs": [
        {
          "output_type": "stream",
          "name": "stdout",
          "text": [
            "epoch: 1, loglikelihood: -134.2\n",
            "epoch: 2, loglikelihood: -95.26\n",
            "epoch: 3, loglikelihood: -80.74\n",
            "epoch: 4, loglikelihood: -72.33\n",
            "epoch: 5, loglikelihood: -64.75\n",
            "epoch: 6, loglikelihood: -60.26\n",
            "epoch: 7, loglikelihood: -59.56\n",
            "epoch: 8, loglikelihood: -57.37\n",
            "epoch: 9, loglikelihood: -56.31\n",
            "epoch: 10, loglikelihood: -56.11\n",
            "epoch: 11, loglikelihood: -56.08\n",
            "epoch: 12, loglikelihood: -55.37\n",
            "epoch: 13, loglikelihood: -56.04\n",
            "epoch: 14, loglikelihood: -55.1\n",
            "epoch: 15, loglikelihood: -54.92\n",
            "epoch: 16, loglikelihood: -54.61\n",
            "epoch: 17, loglikelihood: -54.72\n",
            "epoch: 18, loglikelihood: -55.26\n",
            "epoch: 19, loglikelihood: -54.04\n",
            "epoch: 20, loglikelihood: -54.56\n",
            "epoch: 21, loglikelihood: -53.82\n",
            "epoch: 22, loglikelihood: -53.36\n",
            "epoch: 23, loglikelihood: -54.01\n",
            "epoch: 24, loglikelihood: -53.87\n",
            "epoch: 25, loglikelihood: -53.49\n",
            "epoch: 26, loglikelihood: -53.48\n",
            "epoch: 27, loglikelihood: -53.13\n",
            "epoch: 28, loglikelihood: -53.04\n",
            "epoch: 29, loglikelihood: -52.77\n",
            "epoch: 30, loglikelihood: -52.64\n",
            "epoch: 31, loglikelihood: -52.35\n",
            "epoch: 32, loglikelihood: -52.6\n",
            "epoch: 33, loglikelihood: -52.45\n",
            "epoch: 34, loglikelihood: -52.38\n",
            "epoch: 35, loglikelihood: -52.99\n",
            "epoch: 36, loglikelihood: -51.98\n",
            "epoch: 37, loglikelihood: -51.58\n",
            "epoch: 38, loglikelihood: -51.24\n",
            "epoch: 39, loglikelihood: -51.1\n",
            "epoch: 40, loglikelihood: -51.49\n",
            "epoch: 41, loglikelihood: -51.12\n",
            "epoch: 42, loglikelihood: -51.16\n",
            "epoch: 43, loglikelihood: -50.86\n",
            "epoch: 44, loglikelihood: -50.41\n",
            "epoch: 45, loglikelihood: -50.65\n",
            "epoch: 46, loglikelihood: -50.74\n",
            "epoch: 47, loglikelihood: -51.22\n",
            "epoch: 48, loglikelihood: -50.7\n",
            "epoch: 49, loglikelihood: -50.67\n",
            "epoch: 50, loglikelihood: -50.45\n",
            "epoch: 51, loglikelihood: -50.47\n",
            "epoch: 52, loglikelihood: -50.63\n",
            "epoch: 53, loglikelihood: -49.67\n",
            "epoch: 54, loglikelihood: -51.28\n",
            "epoch: 55, loglikelihood: -49.9\n",
            "epoch: 56, loglikelihood: -50.05\n",
            "epoch: 57, loglikelihood: -49.79\n",
            "epoch: 58, loglikelihood: -50.25\n",
            "epoch: 59, loglikelihood: -49.67\n",
            "epoch: 60, loglikelihood: -50.01\n",
            "epoch: 61, loglikelihood: -49.96\n",
            "epoch: 62, loglikelihood: -49.25\n",
            "epoch: 63, loglikelihood: -50.02\n",
            "epoch: 64, loglikelihood: -49.91\n",
            "epoch: 65, loglikelihood: -50.06\n",
            "epoch: 66, loglikelihood: -49.62\n",
            "epoch: 67, loglikelihood: -49.24\n",
            "epoch: 68, loglikelihood: -49.75\n",
            "epoch: 69, loglikelihood: -49.2\n",
            "epoch: 70, loglikelihood: -49.89\n",
            "epoch: 71, loglikelihood: -50.16\n",
            "epoch: 72, loglikelihood: -50.06\n",
            "epoch: 73, loglikelihood: -49.49\n",
            "epoch: 74, loglikelihood: -49.66\n",
            "epoch: 75, loglikelihood: -49.52\n",
            "epoch: 76, loglikelihood: -49.64\n",
            "epoch: 77, loglikelihood: -49.19\n",
            "epoch: 78, loglikelihood: -49.61\n",
            "epoch: 79, loglikelihood: -49.27\n",
            "epoch: 80, loglikelihood: -48.9\n",
            "epoch: 81, loglikelihood: -49.54\n",
            "epoch: 82, loglikelihood: -49.68\n",
            "epoch: 83, loglikelihood: -49.9\n",
            "epoch: 84, loglikelihood: -49.6\n",
            "epoch: 85, loglikelihood: -49.3\n",
            "epoch: 86, loglikelihood: -49.29\n",
            "epoch: 87, loglikelihood: -49.81\n",
            "epoch: 88, loglikelihood: -49.31\n",
            "epoch: 89, loglikelihood: -49.49\n",
            "epoch: 90, loglikelihood: -49.82\n",
            "epoch: 91, loglikelihood: -49.27\n",
            "epoch: 92, loglikelihood: -49.53\n",
            "epoch: 93, loglikelihood: -49.68\n",
            "epoch: 94, loglikelihood: -50.24\n",
            "epoch: 95, loglikelihood: -49.17\n",
            "epoch: 96, loglikelihood: -48.98\n",
            "epoch: 97, loglikelihood: -49.24\n",
            "epoch: 98, loglikelihood: -48.84\n",
            "epoch: 99, loglikelihood: -48.97\n",
            "epoch: 100, loglikelihood: -49.31\n"
          ]
        }
      ]
    },
    {
      "cell_type": "code",
      "metadata": {
        "id": "u-l35FENNt11"
      },
      "source": [
        "torch.save(autoencoder.state_dict(), 'ones.pt')"
      ],
      "id": "u-l35FENNt11",
      "execution_count": 43,
      "outputs": []
    },
    {
      "cell_type": "code",
      "metadata": {
        "colab": {
          "base_uri": "https://localhost:8080/",
          "height": 362
        },
        "id": "WPwaPwr1o7Qt",
        "outputId": "9185f2c2-c0cd-4887-8b8d-99a6132a8cfc"
      },
      "source": [
        "# Reload ones model.\n",
        "autoencoder = GaussianEncoder(BernoulliImageGenerator(4))\n",
        "autoencoder.load_state_dict(torch.load('ones.pt'))"
      ],
      "id": "WPwaPwr1o7Qt",
      "execution_count": 5,
      "outputs": [
        {
          "output_type": "error",
          "ename": "FileNotFoundError",
          "evalue": "ignored",
          "traceback": [
            "\u001b[0;31m---------------------------------------------------------------------------\u001b[0m",
            "\u001b[0;31mFileNotFoundError\u001b[0m                         Traceback (most recent call last)",
            "\u001b[0;32m<ipython-input-5-963886c86f21>\u001b[0m in \u001b[0;36m<module>\u001b[0;34m()\u001b[0m\n\u001b[1;32m      1\u001b[0m \u001b[0;31m# Reload ones model.\u001b[0m\u001b[0;34m\u001b[0m\u001b[0;34m\u001b[0m\u001b[0;34m\u001b[0m\u001b[0m\n\u001b[1;32m      2\u001b[0m \u001b[0mautoencoder\u001b[0m \u001b[0;34m=\u001b[0m \u001b[0mGaussianEncoder\u001b[0m\u001b[0;34m(\u001b[0m\u001b[0mBernoulliImageGenerator\u001b[0m\u001b[0;34m(\u001b[0m\u001b[0;36m4\u001b[0m\u001b[0;34m)\u001b[0m\u001b[0;34m)\u001b[0m\u001b[0;34m\u001b[0m\u001b[0;34m\u001b[0m\u001b[0m\n\u001b[0;32m----> 3\u001b[0;31m \u001b[0mautoencoder\u001b[0m\u001b[0;34m.\u001b[0m\u001b[0mload_state_dict\u001b[0m\u001b[0;34m(\u001b[0m\u001b[0mtorch\u001b[0m\u001b[0;34m.\u001b[0m\u001b[0mload\u001b[0m\u001b[0;34m(\u001b[0m\u001b[0;34m'ones.pt'\u001b[0m\u001b[0;34m)\u001b[0m\u001b[0;34m)\u001b[0m\u001b[0;34m\u001b[0m\u001b[0;34m\u001b[0m\u001b[0m\n\u001b[0m",
            "\u001b[0;32m/usr/local/lib/python3.7/dist-packages/torch/serialization.py\u001b[0m in \u001b[0;36mload\u001b[0;34m(f, map_location, pickle_module, **pickle_load_args)\u001b[0m\n\u001b[1;32m    592\u001b[0m         \u001b[0mpickle_load_args\u001b[0m\u001b[0;34m[\u001b[0m\u001b[0;34m'encoding'\u001b[0m\u001b[0;34m]\u001b[0m \u001b[0;34m=\u001b[0m \u001b[0;34m'utf-8'\u001b[0m\u001b[0;34m\u001b[0m\u001b[0;34m\u001b[0m\u001b[0m\n\u001b[1;32m    593\u001b[0m \u001b[0;34m\u001b[0m\u001b[0m\n\u001b[0;32m--> 594\u001b[0;31m     \u001b[0;32mwith\u001b[0m \u001b[0m_open_file_like\u001b[0m\u001b[0;34m(\u001b[0m\u001b[0mf\u001b[0m\u001b[0;34m,\u001b[0m \u001b[0;34m'rb'\u001b[0m\u001b[0;34m)\u001b[0m \u001b[0;32mas\u001b[0m \u001b[0mopened_file\u001b[0m\u001b[0;34m:\u001b[0m\u001b[0;34m\u001b[0m\u001b[0;34m\u001b[0m\u001b[0m\n\u001b[0m\u001b[1;32m    595\u001b[0m         \u001b[0;32mif\u001b[0m \u001b[0m_is_zipfile\u001b[0m\u001b[0;34m(\u001b[0m\u001b[0mopened_file\u001b[0m\u001b[0;34m)\u001b[0m\u001b[0;34m:\u001b[0m\u001b[0;34m\u001b[0m\u001b[0;34m\u001b[0m\u001b[0m\n\u001b[1;32m    596\u001b[0m             \u001b[0;31m# The zipfile reader is going to advance the current file position.\u001b[0m\u001b[0;34m\u001b[0m\u001b[0;34m\u001b[0m\u001b[0;34m\u001b[0m\u001b[0m\n",
            "\u001b[0;32m/usr/local/lib/python3.7/dist-packages/torch/serialization.py\u001b[0m in \u001b[0;36m_open_file_like\u001b[0;34m(name_or_buffer, mode)\u001b[0m\n\u001b[1;32m    228\u001b[0m \u001b[0;32mdef\u001b[0m \u001b[0m_open_file_like\u001b[0m\u001b[0;34m(\u001b[0m\u001b[0mname_or_buffer\u001b[0m\u001b[0;34m,\u001b[0m \u001b[0mmode\u001b[0m\u001b[0;34m)\u001b[0m\u001b[0;34m:\u001b[0m\u001b[0;34m\u001b[0m\u001b[0;34m\u001b[0m\u001b[0m\n\u001b[1;32m    229\u001b[0m     \u001b[0;32mif\u001b[0m \u001b[0m_is_path\u001b[0m\u001b[0;34m(\u001b[0m\u001b[0mname_or_buffer\u001b[0m\u001b[0;34m)\u001b[0m\u001b[0;34m:\u001b[0m\u001b[0;34m\u001b[0m\u001b[0;34m\u001b[0m\u001b[0m\n\u001b[0;32m--> 230\u001b[0;31m         \u001b[0;32mreturn\u001b[0m \u001b[0m_open_file\u001b[0m\u001b[0;34m(\u001b[0m\u001b[0mname_or_buffer\u001b[0m\u001b[0;34m,\u001b[0m \u001b[0mmode\u001b[0m\u001b[0;34m)\u001b[0m\u001b[0;34m\u001b[0m\u001b[0;34m\u001b[0m\u001b[0m\n\u001b[0m\u001b[1;32m    231\u001b[0m     \u001b[0;32melse\u001b[0m\u001b[0;34m:\u001b[0m\u001b[0;34m\u001b[0m\u001b[0;34m\u001b[0m\u001b[0m\n\u001b[1;32m    232\u001b[0m         \u001b[0;32mif\u001b[0m \u001b[0;34m'w'\u001b[0m \u001b[0;32min\u001b[0m \u001b[0mmode\u001b[0m\u001b[0;34m:\u001b[0m\u001b[0;34m\u001b[0m\u001b[0;34m\u001b[0m\u001b[0m\n",
            "\u001b[0;32m/usr/local/lib/python3.7/dist-packages/torch/serialization.py\u001b[0m in \u001b[0;36m__init__\u001b[0;34m(self, name, mode)\u001b[0m\n\u001b[1;32m    209\u001b[0m \u001b[0;32mclass\u001b[0m \u001b[0m_open_file\u001b[0m\u001b[0;34m(\u001b[0m\u001b[0m_opener\u001b[0m\u001b[0;34m)\u001b[0m\u001b[0;34m:\u001b[0m\u001b[0;34m\u001b[0m\u001b[0;34m\u001b[0m\u001b[0m\n\u001b[1;32m    210\u001b[0m     \u001b[0;32mdef\u001b[0m \u001b[0m__init__\u001b[0m\u001b[0;34m(\u001b[0m\u001b[0mself\u001b[0m\u001b[0;34m,\u001b[0m \u001b[0mname\u001b[0m\u001b[0;34m,\u001b[0m \u001b[0mmode\u001b[0m\u001b[0;34m)\u001b[0m\u001b[0;34m:\u001b[0m\u001b[0;34m\u001b[0m\u001b[0;34m\u001b[0m\u001b[0m\n\u001b[0;32m--> 211\u001b[0;31m         \u001b[0msuper\u001b[0m\u001b[0;34m(\u001b[0m\u001b[0m_open_file\u001b[0m\u001b[0;34m,\u001b[0m \u001b[0mself\u001b[0m\u001b[0;34m)\u001b[0m\u001b[0;34m.\u001b[0m\u001b[0m__init__\u001b[0m\u001b[0;34m(\u001b[0m\u001b[0mopen\u001b[0m\u001b[0;34m(\u001b[0m\u001b[0mname\u001b[0m\u001b[0;34m,\u001b[0m \u001b[0mmode\u001b[0m\u001b[0;34m)\u001b[0m\u001b[0;34m)\u001b[0m\u001b[0;34m\u001b[0m\u001b[0;34m\u001b[0m\u001b[0m\n\u001b[0m\u001b[1;32m    212\u001b[0m \u001b[0;34m\u001b[0m\u001b[0m\n\u001b[1;32m    213\u001b[0m     \u001b[0;32mdef\u001b[0m \u001b[0m__exit__\u001b[0m\u001b[0;34m(\u001b[0m\u001b[0mself\u001b[0m\u001b[0;34m,\u001b[0m \u001b[0;34m*\u001b[0m\u001b[0margs\u001b[0m\u001b[0;34m)\u001b[0m\u001b[0;34m:\u001b[0m\u001b[0;34m\u001b[0m\u001b[0;34m\u001b[0m\u001b[0m\n",
            "\u001b[0;31mFileNotFoundError\u001b[0m: [Errno 2] No such file or directory: 'ones.pt'"
          ]
        }
      ]
    },
    {
      "cell_type": "code",
      "metadata": {
        "colab": {
          "base_uri": "https://localhost:8080/",
          "height": 246
        },
        "id": "4Y5onEBe-aRh",
        "outputId": "10f62cb9-591c-45d1-afd0-1faebb230d9a"
      },
      "source": [
        "random_image, random_label = ones[random.randrange(0, len(ones)-1)]\n",
        "mu, sigma = autoencoder(random_image.reshape((1, 1, 28, 28)))\n",
        "\n",
        "epsilon = [torch.randn_like(sigma) for _ in range(1, 11)]\n",
        "\n",
        "reconstructed_images = [autoencoder.f(mu + sigma*ep) for ep in epsilon]\n",
        "\n",
        "fig = plt.figure(figsize=(10, 10))\n",
        "\n",
        "for i in range(1, len(reconstructed_images)):\n",
        "  if i <= 5:\n",
        "    fig.add_subplot(1, 5, i)\n",
        "  else:\n",
        "    fig.add_subplot(2, 5, i)\n",
        "\n",
        "  plt.imshow(reconstructed_images[i-1].detach().numpy()[0][0])"
      ],
      "id": "4Y5onEBe-aRh",
      "execution_count": 1,
      "outputs": [
        {
          "output_type": "error",
          "ename": "NameError",
          "evalue": "ignored",
          "traceback": [
            "\u001b[0;31m---------------------------------------------------------------------------\u001b[0m",
            "\u001b[0;31mNameError\u001b[0m                                 Traceback (most recent call last)",
            "\u001b[0;32m<ipython-input-1-0953ce3624d6>\u001b[0m in \u001b[0;36m<module>\u001b[0;34m()\u001b[0m\n\u001b[0;32m----> 1\u001b[0;31m \u001b[0mrandom_image\u001b[0m\u001b[0;34m,\u001b[0m \u001b[0mrandom_label\u001b[0m \u001b[0;34m=\u001b[0m \u001b[0mones\u001b[0m\u001b[0;34m[\u001b[0m\u001b[0mrandom\u001b[0m\u001b[0;34m.\u001b[0m\u001b[0mrandrange\u001b[0m\u001b[0;34m(\u001b[0m\u001b[0;36m0\u001b[0m\u001b[0;34m,\u001b[0m \u001b[0mlen\u001b[0m\u001b[0;34m(\u001b[0m\u001b[0mones\u001b[0m\u001b[0;34m)\u001b[0m\u001b[0;34m-\u001b[0m\u001b[0;36m1\u001b[0m\u001b[0;34m)\u001b[0m\u001b[0;34m]\u001b[0m\u001b[0;34m\u001b[0m\u001b[0;34m\u001b[0m\u001b[0m\n\u001b[0m\u001b[1;32m      2\u001b[0m \u001b[0mmu\u001b[0m\u001b[0;34m,\u001b[0m \u001b[0msigma\u001b[0m \u001b[0;34m=\u001b[0m \u001b[0mautoencoder\u001b[0m\u001b[0;34m(\u001b[0m\u001b[0mrandom_image\u001b[0m\u001b[0;34m.\u001b[0m\u001b[0mreshape\u001b[0m\u001b[0;34m(\u001b[0m\u001b[0;34m(\u001b[0m\u001b[0;36m1\u001b[0m\u001b[0;34m,\u001b[0m \u001b[0;36m1\u001b[0m\u001b[0;34m,\u001b[0m \u001b[0;36m28\u001b[0m\u001b[0;34m,\u001b[0m \u001b[0;36m28\u001b[0m\u001b[0;34m)\u001b[0m\u001b[0;34m)\u001b[0m\u001b[0;34m)\u001b[0m\u001b[0;34m\u001b[0m\u001b[0;34m\u001b[0m\u001b[0m\n\u001b[1;32m      3\u001b[0m \u001b[0;34m\u001b[0m\u001b[0m\n\u001b[1;32m      4\u001b[0m \u001b[0mepsilon\u001b[0m \u001b[0;34m=\u001b[0m \u001b[0;34m[\u001b[0m\u001b[0mtorch\u001b[0m\u001b[0;34m.\u001b[0m\u001b[0mrandn_like\u001b[0m\u001b[0;34m(\u001b[0m\u001b[0msigma\u001b[0m\u001b[0;34m)\u001b[0m \u001b[0;32mfor\u001b[0m \u001b[0m_\u001b[0m \u001b[0;32min\u001b[0m \u001b[0mrange\u001b[0m\u001b[0;34m(\u001b[0m\u001b[0;36m1\u001b[0m\u001b[0;34m,\u001b[0m \u001b[0;36m11\u001b[0m\u001b[0;34m)\u001b[0m\u001b[0;34m]\u001b[0m\u001b[0;34m\u001b[0m\u001b[0;34m\u001b[0m\u001b[0m\n\u001b[1;32m      5\u001b[0m \u001b[0;34m\u001b[0m\u001b[0m\n",
            "\u001b[0;31mNameError\u001b[0m: name 'ones' is not defined"
          ]
        }
      ]
    }
  ]
}