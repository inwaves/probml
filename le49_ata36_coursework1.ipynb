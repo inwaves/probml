{
 "cells": [
  {
   "cell_type": "markdown",
   "id": "racial-abraham",
   "metadata": {},
   "source": [
    "# Exercise: probabilistic neural networks\n",
    "\n",
    "Andrei Tiberiu Alexandru - ata36@cam.ac.uk\n",
    "\n",
    "There are two main sections: text answers with snippets of code and full code underlying the answers.\n",
    "\n",
    "Table of contents:\n",
    "1. [Answers](#Answers)  \n",
    "    1.1 [Question (a)](#Question(a))  \n",
    "    1.2 [Question (b)](#Question(b))  \n",
    "    1.3 [Question (c)](#Question(c))  \n",
    "    1.4 [Question (d)](#Question(d))  \n",
    "    1.5 [Question (e)](#Question(e))  \n",
    "    1.6 [Question (f)](#Question(f))  \n",
    "2. [Full code](#Full-code)"
   ]
  },
  {
   "cell_type": "markdown",
   "id": "guided-architect",
   "metadata": {},
   "source": [
    "# Answers"
   ]
  },
  {
   "cell_type": "markdown",
   "id": "reported-consortium",
   "metadata": {},
   "source": [
    "## Question(a)"
   ]
  },
  {
   "cell_type": "markdown",
   "id": "correct-merchandise",
   "metadata": {},
   "source": [
    "Ribbon-plot of homoscedastic model:"
   ]
  },
  {
   "cell_type": "code",
   "execution_count": null,
   "id": "false-combine",
   "metadata": {},
   "outputs": [],
   "source": [
    "mu_x = simple_wiggle.mu(x).detach().numpy()\n",
    "sigma = simple_wiggle.sigma.item()\n",
    "\n",
    "plt.plot(xkcd.x, mu_x)\n",
    "plt.fill_between(xkcd.x, (mu_x-1.96*sigma).reshape(31,), (mu_x+1.96*sigma).reshape(31,), alpha=0.2)"
   ]
  },
  {
   "cell_type": "markdown",
   "id": "other-practitioner",
   "metadata": {},
   "source": [
    "Ribbon plot of heteroscedastic model. Because $\\sigma$ varies, the width of the ribbon varies depending on how the model fits the data. Re-training the model results in a differently shaped ribbon. \n",
    "\n",
    "In some regions, there is 0 variance, which means the model has perfectly fit the data points in that region. I think that training until we perfectly overfit would result in the ribbon 'disappearing' from the plot as it overlaps with the plotted line."
   ]
  },
  {
   "cell_type": "code",
   "execution_count": null,
   "id": "found-judges",
   "metadata": {},
   "outputs": [],
   "source": [
    "mu_x = heteroscedastic_wiggle.mu(x).detach().numpy()\n",
    "sigma = heteroscedastic_wiggle.sigma(x).detach().numpy()\n",
    "\n",
    "plt.plot(xkcd.x, mu_x)\n",
    "plt.fill_between(xkcd.x, (mu_x-1.96*sigma).reshape(31,), (mu_x+1.96*sigma).reshape(31,), alpha=0.2)"
   ]
  },
  {
   "cell_type": "markdown",
   "id": "guilty-determination",
   "metadata": {},
   "source": [
    "## Question(b)\n",
    "### Maximum possible training likelihood"
   ]
  },
  {
   "cell_type": "markdown",
   "id": "atlantic-match",
   "metadata": {},
   "source": [
    "The maximum average log-likelihood of the dataset should be given by the empirical distribution - the average log-likelihood under a perfectly overfitted model: $$\\log Pr_X(x_1, \\dots, x_n) = \\sum_x q_x \\log q_x $$\n",
    "where\n",
    "$$q_x =  \\frac{\\text{# of occurrences of x}}{\\text{total number of samples}} $$\n",
    "\n",
    "Let's implement this:"
   ]
  },
  {
   "cell_type": "code",
   "execution_count": null,
   "id": "tight-session",
   "metadata": {},
   "outputs": [],
   "source": [
    "def q(x):\n",
    "    _, counts = np.unique(x, return_counts=True)\n",
    "    return counts/x.shape[0]"
   ]
  },
  {
   "cell_type": "code",
   "execution_count": null,
   "id": "confidential-drink",
   "metadata": {},
   "outputs": [],
   "source": [
    "q_x = q(x)\n",
    "\n",
    "np.sum(q_x * np.log(q_x))"
   ]
  },
  {
   "cell_type": "markdown",
   "id": "greatest-posting",
   "metadata": {},
   "source": [
    "We can also check this mathematically. There are 31 unique data points in our tensor $x$, which means they all have likelihood $1 \\over 31$. So $$\\sum_x q_x log q_x = 31 \\times \\frac{1}{31} \\log \\Big(\\frac{1}{31} \\Big) = \\log \\Big(\\frac{1}{31} \\Big) = -3.4339$$"
   ]
  },
  {
   "cell_type": "markdown",
   "id": "aerial-general",
   "metadata": {},
   "source": [
    "I'm uncertain that this is correct, because during training the average log-likelihood is higher (i.e. a negative number closer to 0) than -3.43."
   ]
  },
  {
   "cell_type": "markdown",
   "id": "conceptual-convention",
   "metadata": {},
   "source": [
    "### Likelihood v. epochs\n",
    "\n",
    "Both models are trained for 50,000 epochs. The log-likelihoods for each are saved every 100 epochs and plotted below:"
   ]
  },
  {
   "cell_type": "code",
   "execution_count": null,
   "id": "capital-socket",
   "metadata": {},
   "outputs": [],
   "source": [
    "epochs = np.arange(1, 50000, 100)\n",
    "\n",
    "plt.plot(epochs, heteroscedastic_training_likelihood)\n",
    "plt.plot(epochs, simple_training_loglik)"
   ]
  },
  {
   "cell_type": "markdown",
   "id": "metallic-maria",
   "metadata": {},
   "source": [
    "It looks as though the dips in likelihood occur when the optimisation algorithm tries larger values for the weights of the network that generates $\\sigma$ (initialised in `self.sigmapre = Wiggle()`). Larger weights result in a larger $\\sigma$, so the resulting distribution has higher variance. This means that the distribution fits the data worse, so the likelihood decreases. When $\\sigma$ is not dependent on $x$, its value is more stable, mostly between 1.6 and 1.4.\n",
    "\n",
    "In one of the runs, a dip occurred from log-likelihood -1.046 to -1.539; at those values, the mean of the vector $\\sigma(x)$ was 1.1963 and 1.5876, respectively. When $\\sigma$ is allowed to depend on $x$, the variance of the model can take on more extreme values."
   ]
  },
  {
   "cell_type": "markdown",
   "id": "cross-stuff",
   "metadata": {},
   "source": [
    "---"
   ]
  },
  {
   "cell_type": "markdown",
   "id": "intermediate-rainbow",
   "metadata": {},
   "source": [
    "## Question(c)"
   ]
  },
  {
   "cell_type": "markdown",
   "id": "broken-eclipse",
   "metadata": {},
   "source": [
    "### Reconstructed images"
   ]
  },
  {
   "cell_type": "code",
   "execution_count": null,
   "id": "conditional-province",
   "metadata": {},
   "outputs": [],
   "source": [
    "new_images = []\n",
    "\n",
    "for image in showr:\n",
    "    \n",
    "    # Add the original image.\n",
    "    new_images.append(image.detach().numpy()[0][0])\n",
    "    \n",
    "    # Generate 3 reconstructions of the image.\n",
    "    for i in range(3):\n",
    "        mu, sigma = simple_vae(image)\n",
    "        epsilon = torch.randn_like(sigma)\n",
    "        z = mu + sigma*epsilon\n",
    "        new_image = simple_vae.f(z)\n",
    "        new_images.append(new_image.detach().numpy()[0][0])\n",
    "\n",
    "cols, rows = 4, 4\n",
    "fig = plt.figure(figsize=(10, 10))\n",
    "\n",
    "for i in range(1, cols*rows + 1):\n",
    "    fig.add_subplot(rows, cols, i)\n",
    "    plt.imshow(new_images[i-1])\n",
    "plt.show()"
   ]
  },
  {
   "cell_type": "markdown",
   "id": "experienced-melissa",
   "metadata": {},
   "source": [
    "### Varying amounts of noise"
   ]
  },
  {
   "cell_type": "code",
   "execution_count": null,
   "id": "adult-class",
   "metadata": {},
   "outputs": [],
   "source": [
    "image, _ = mnist[35508]\n",
    "image = image.reshape((1, 1, 28, 28)) # Must be [Bx1x28x28].\n",
    "mu, sigma = autoencoder(image)\n",
    "\n",
    "# TODO: should this have some K*noise*sigma?\n",
    "# Sample 5 Zs with different noise and generate images from them.\n",
    "z = [mu + torch.randn_like(sigma)*sigma for _ in range(5)]\n",
    "new_images = [autoencoder.f(z_i) for z_i in z]\n",
    "fig = plt.figure(figsize=(10, 10))\n",
    "\n",
    "for i in range(len(new_images)):\n",
    "    fig.add_subplot(1, 5, i+1)\n",
    "    plt.imshow(new_images[i].detach().numpy()[0][0])\n",
    "\n",
    "plt.axis('off')\n",
    "plt.show()"
   ]
  },
  {
   "cell_type": "markdown",
   "id": "egyptian-religious",
   "metadata": {},
   "source": [
    "### 12 random images\n",
    "\n",
    "To generate 12 random images, we take 12 samples from distribution $\\tilde Z$ and decode them."
   ]
  },
  {
   "cell_type": "code",
   "execution_count": null,
   "id": "parental-handbook",
   "metadata": {},
   "outputs": [],
   "source": [
    "z_samples = [torch.rand(4) for _ in range(12)]\n",
    "generated_images = [autoencoder.f(z_i) for z_i in z_samples]\n",
    "\n",
    "fig = plt.figure(figsize=(10, 10))\n",
    "\n",
    "for i in range(len(generated_images)):\n",
    "    fig.add_subplot(1, 12, i+1)\n",
    "    plt.imshow(generated_images[i].detach().numpy()[0][0])\n",
    "plt.axis('off')\n",
    "plt.show()"
   ]
  },
  {
   "cell_type": "markdown",
   "id": "chicken-eating",
   "metadata": {},
   "source": [
    "### Interpolating two images"
   ]
  },
  {
   "cell_type": "markdown",
   "id": "tested-calculator",
   "metadata": {},
   "source": [
    "To interpolate two images, we first encode them into two latent variables $\\tilde{Z}_1, \\tilde{Z}_2$. Then, we interpolate in the latent space by generating a new latent variable $\\tilde{Z}_* = \\lambda \\tilde{Z}_1 + (1-\\lambda) \\tilde{Z}_2$. $\\lambda$ is chosen randomly in the interval $[0, 1)$."
   ]
  },
  {
   "cell_type": "code",
   "execution_count": null,
   "id": "abroad-minority",
   "metadata": {},
   "outputs": [],
   "source": [
    "(img1, _), (img2, _) = mnist[28001], mnist[43876]\n",
    "img1 = img1.reshape((1, 1, 28, 28))\n",
    "img2 = img2.reshape((1, 1, 28, 28))\n",
    "mu1, sigma1 = autoencoder(img1)\n",
    "mu2, sigma2 = autoencoder(img2)\n",
    "z1 = mu1 + torch.randn_like(sigma1)\n",
    "z2 = mu2 + torch.randn_like(sigma2)\n",
    "\n",
    "# Generate 10 z* interpolated between z1 and z2.\n",
    "interpolated_vars = []\n",
    "for _ in range(10):\n",
    "    coef = random.random()\n",
    "    interpolated_vars.append(z1 + coef*(z2-z1))\n",
    "\n",
    "# Add the first of the original images.\n",
    "new_images = [img1]\n",
    "for z_i in interpolated_vars:\n",
    "    new_images.append(autoencoder.f(z_i))\n",
    "new_images.append(img2)\n",
    "\n",
    "# Plot all images.\n",
    "fig = plt.figure(figsize=(10, 10))\n",
    "\n",
    "for i in range(len(new_images)):\n",
    "    fig.add_subplot(1, 12, i+1)\n",
    "    plt.imshow(new_images[i].detach().numpy()[0][0])\n",
    "plt.axis('off')\n",
    "plt.show()"
   ]
  },
  {
   "cell_type": "markdown",
   "id": "economic-junction",
   "metadata": {},
   "source": [
    "## Question(d)"
   ]
  },
  {
   "cell_type": "markdown",
   "id": "opening-vampire",
   "metadata": {},
   "source": [
    "### Monte-Carlo Integration with more than one sample"
   ]
  },
  {
   "cell_type": "markdown",
   "id": "offshore-dress",
   "metadata": {},
   "source": [
    "Given that $\\tilde Z^{(i, \\phi)} = \\mu_\\phi + \\sigma_\\phi * \\epsilon$, where $\\epsilon \\sim \\mathcal{N}(0, I_d)$, to sample multiple values of $\\tilde Z$ we need to sample $\\epsilon$ multiple times. For each sample, we compute the log-likelihood through `f.loglik(x, z)`. We then average this likelihood across the number of samples we took, controlled by `num_samples`. \n",
    "\n",
    "In practice, we trade off more accurate estimates of the sampling distribution $\\tilde Z$ through increased  number of samples against the time the model takes to train. "
   ]
  },
  {
   "cell_type": "code",
   "execution_count": null,
   "id": "blessed-myrtle",
   "metadata": {},
   "outputs": [],
   "source": [
    "def loglik_lb(self, batch_num, x):\n",
    "        μ,σ = self(x)\n",
    "        kl = 0.5 * (μ**2 + σ**2 - torch.log(σ**2) - 1).sum(1)\n",
    "\n",
    "        ll = 0\n",
    "        num_samples = 1\n",
    "        for _ in range(num_samples):\n",
    "            ε = torch.randn_like(σ)\n",
    "            ll += self.f.loglik(x, z=μ+σ*ε)\n",
    "        ll /= num_samples\n",
    "\n",
    "        # Store the image with the lowest likelihood across all batches.\n",
    "        if torch.min(ll) < self.min_likelihood[0]:\n",
    "            self.min_likelihood = torch.min(ll), torch.argmin(ll) + batch_num*100\n",
    "\n",
    "        # Store the image with the highest likelihood across all batches.\n",
    "        if torch.max(ll) < self.max_likelihood[0]:\n",
    "            self.max_likelihood = torch.max(ll), torch.argmax(ll) + batch_num*100\n",
    "\n",
    "        # Sum up all likelihoods to find likelihood of dataset.\n",
    "        return ll - kl"
   ]
  },
  {
   "cell_type": "markdown",
   "id": "violent-singing",
   "metadata": {},
   "source": [
    "### Likely and unlikely images"
   ]
  },
  {
   "cell_type": "markdown",
   "id": "progressive-congress",
   "metadata": {},
   "source": [
    "TODO: Keep more than just the least likely and most likely image. See what those look like. "
   ]
  },
  {
   "cell_type": "code",
   "execution_count": null,
   "id": "fixed-tobago",
   "metadata": {},
   "outputs": [],
   "source": [
    "likely, _ = mnist[72]\n",
    "unlikely, _ = mnist[1618]\n",
    "\n",
    "fig = plt.figure(figsize=(5, 5))\n",
    "\n",
    "fig.add_subplot(1, 2, 1)\n",
    "plt.imshow(unlikely[0])\n",
    "plt.axis('off')\n",
    "\n",
    "fig.add_subplot(1, 2, 2)\n",
    "plt.imshow(likely[0])\n",
    "plt.axis('off')\n",
    "\n",
    "plt.show()"
   ]
  },
  {
   "cell_type": "markdown",
   "id": "surprising-acquisition",
   "metadata": {},
   "source": [
    "## Question(e)"
   ]
  },
  {
   "cell_type": "markdown",
   "id": "administrative-colombia",
   "metadata": {},
   "source": [
    "Training the autoencoder with 20 dimensions is easy, we just initialise it with `d = 20` and train as we normally would:"
   ]
  },
  {
   "cell_type": "code",
   "execution_count": null,
   "id": "fundamental-traffic",
   "metadata": {},
   "outputs": [],
   "source": [
    "autoencoder = GaussianEncoder(BernoulliImageGenerator(d=20))\n",
    "optimizer = optim.Adam(autoencoder.parameters())\n",
    "epoch = 0\n",
    "\n",
    "while epoch < 10:\n",
    "    # ...\n",
    "    pass"
   ]
  },
  {
   "cell_type": "markdown",
   "id": "middle-script",
   "metadata": {},
   "source": [
    "The sensible way to evaluate two models is to train them on the same data, and evaluate both of them on the same holdout data set. How do we decide which portion of the entire data to keep as the holdout data set? We've discussed taking the 20% most 'extreme' data points, but what is extreme in this case?"
   ]
  },
  {
   "cell_type": "markdown",
   "id": "lesser-haiti",
   "metadata": {},
   "source": [
    "## Question(f)"
   ]
  },
  {
   "attachments": {
    "1fc588d8-a5c0-4f6a-95ec-d774fd9c9d17.png": {
     "image/png": "[encoded data removed]"
    }
   },
   "cell_type": "markdown",
   "id": "exposed-exception",
   "metadata": {},
   "source": [
    "The question is a problem setup for the conditional variational autoencoder, introduced in [Sohn et al., 2015](https://proceedings.neurips.cc/paper/2015/file/8d55a249e6baa5c06772297520da2051-Paper.pdf). The key idea is to condition the generated output on not only the image $x_i$ but also its label $y_i$. \n",
    "\n",
    "<img src=\"attachment:1fc588d8-a5c0-4f6a-95ec-d774fd9c9d17.png\" width=\"500\">\n",
    "\n",
    "In the above figure from [Doersch, 2016](https://arxiv.org/pdf/1606.05908.pdf) of the architecture of the CVAE, $Y$ corresponds to our MNIST image and $X$ corresponds to its label."
   ]
  },
  {
   "cell_type": "markdown",
   "id": "peaceful-courtesy",
   "metadata": {},
   "source": [
    "### Perfect sampling distribution\n",
    "The perfect sampling distribution for a VAE is derived from the lower-bound log-likelihood formula: \n",
    "$$\\mathcal{L}_{lb}(\\theta, \\phi) = \\sum_{i=1}^n \\mathbb{E}_{z \\sim \\tilde Z^{(i, \\phi)}} \\Bigg[\\log Pr_X(x_i | Z=q(g_\\phi(x_i), F); \\theta) \\frac{Pr_Z(z)}{Pr_{\\tilde Z^{(i, \\phi)}}(z)} \\Bigg]$$\n",
    "We want to choose the sampling distribution $\\tilde Z$ such that its likelihood $Pr_{\\tilde Z^{(i, \\phi)}}(z)$ looks like the Bayesian posterior of $Z$, which is:\n",
    "$$Pr_{\\tilde Z}(z) = \\kappa Pr_Z(x_i | Z=z; \\theta)Pr_Z(z)$$ where $\\kappa$ is some constant.\n",
    "\n",
    "For the conditional VAE, we additionally need to condition on the label $Y=y$:\n",
    "$$\\mathcal{L}_{lb}(\\theta, \\phi) = \\sum_{i=1}^n \\mathbb{E}_{z \\sim \\tilde Z^{(i, \\phi)}} \\Bigg[\\log Pr_X(x_i | Z=q(g_\\phi(x_i), F), Y=y; \\theta) \\frac{Pr_Z(z)}{Pr_{\\tilde Z^{(i, \\phi)}}(z)} \\Bigg]$$\n",
    "which yields the following perfect sampling distribution:\n",
    "$$Pr_{\\tilde Z}(z) = \\kappa Pr_Z(x_i | Z=z, Y=y; \\theta)Pr_Z(z)$$\n",
    "\n",
    "In essence, this is saying that in order to choose a good sampling distribution $\\tilde Z$, we need to factor in the label $y$. We do so by passing in the image and the label into the encoder at the same time."
   ]
  },
  {
   "cell_type": "markdown",
   "id": "liked-license",
   "metadata": {},
   "source": [
    "### Generate four styles of digits\n",
    "The main modifications to the `GaussianEncoder` and `BernoulliImageGenerator` classes used in the previous questions are to feed the image and label into the encoder, and latent variable and label into the decoder, at the same time. \n",
    "\n",
    "For the encoder, we first one-hot encode the label, e.g. `y = [3]` into a vector of shape `1x10` where the 3rd entry is 1, and all others are 0. Then, we apply a linear transformation to bring it to dimensions `1x784`, which we reshape to `1x28x28`. Once the label has this shape, we stack it on top of its respective image (shape `1x28x28`) as an extra channel. The 'superimposed' image and label have shape `2x28x28`. (Actually, because Pytorch works on batches, the dimension of the input would be `Bx2x28x28`.)\n",
    "\n",
    "For the decoder, we simply stack the `1x10` one-hot encoded label on top of the `1xD` latent variable, where $D$ is the number of dimensions of the latent space.\n",
    "\n",
    "The approach is inspired by [this](https://github.com/AntixK/PyTorch-VAE/blob/master/models/cvae.py) implementation, though it should be possible to encode the label in other ways."
   ]
  },
  {
   "cell_type": "markdown",
   "id": "electronic-desktop",
   "metadata": {},
   "source": [
    "Once the model is trained, generating stylistically similar images of different digits is easy. We sample a single $\\tilde Z$ and vary the label that we use to decode it:"
   ]
  },
  {
   "cell_type": "code",
   "execution_count": null,
   "id": "representative-madagascar",
   "metadata": {},
   "outputs": [],
   "source": [
    "y = [5, 3, 9, 1]\n",
    "y_encoded = one_hot_encode(y, 10)\n",
    "all_images = []\n",
    "\n",
    "# Sample four different Z~, decode each using four digits.\n",
    "for _ in range(4):\n",
    "    z = torch.randn(1,4)\n",
    "    all_images.append([autoencoder.f(z, y_i.unsqueeze(1).T).detach().numpy() for y_i in y_encoded])\n",
    "\n",
    "# Plot results.\n",
    "fig = plt.figure(figsize=(10, 10))\n",
    "for j in range(len(all_images)):\n",
    "    for i in range(len(all_images[j])):\n",
    "        fig.add_subplot(len(all_images[j]), len(all_images), 4*j+(i+1))\n",
    "        plt.imshow(all_images[j][i][0][0])"
   ]
  },
  {
   "cell_type": "markdown",
   "id": "republican-harassment",
   "metadata": {},
   "source": [
    "---\n",
    "# Full code"
   ]
  },
  {
   "cell_type": "markdown",
   "id": "absolute-roulette",
   "metadata": {},
   "source": [
    "## Linear models for (a)-(b)"
   ]
  },
  {
   "cell_type": "markdown",
   "id": "timely-memory",
   "metadata": {},
   "source": [
    "### Imports and data loading"
   ]
  },
  {
   "cell_type": "code",
   "execution_count": null,
   "id": "expired-antigua",
   "metadata": {},
   "outputs": [],
   "source": [
    "import pandas\n",
    "import matplotlib.pyplot as plt\n",
    "import numpy as np\n",
    "import torch.nn as nn\n",
    "import torch.optim as optim\n",
    "import torch\n",
    "\n",
    "import random"
   ]
  },
  {
   "cell_type": "code",
   "execution_count": null,
   "id": "advance-latest",
   "metadata": {},
   "outputs": [],
   "source": [
    "url = 'https://www.cl.cam.ac.uk/teaching/2122/DataSci/data/xkcd.csv'\n",
    "xkcd = pandas.read_csv(url)\n",
    "\n",
    "plt.scatter(xkcd.x, xkcd.y)"
   ]
  },
  {
   "cell_type": "markdown",
   "id": "gentle-intervention",
   "metadata": {},
   "source": [
    "### Define simple (homoscedastic) model"
   ]
  },
  {
   "cell_type": "code",
   "execution_count": null,
   "id": "plain-station",
   "metadata": {},
   "outputs": [],
   "source": [
    "class Wiggle(nn.Module):\n",
    "    def __init__(self):\n",
    "        super().__init__()\n",
    "        self.f = nn.Sequential(\n",
    "            nn.Linear(1,4),\n",
    "            nn.LeakyReLU(),\n",
    "            nn.Linear(4,20),\n",
    "            nn.LeakyReLU(),\n",
    "            nn.Linear(20,20),\n",
    "            nn.LeakyReLU(),\n",
    "            nn.Linear(20,1)\n",
    "        )\n",
    "    def forward(self, x):\n",
    "        return self.f(x)\n",
    "    \n",
    "class RWiggle(nn.Module):\n",
    "    \"\"\"Y_i ~ N(f(x_i), sigma2)\"\"\"\n",
    "    def __init__(self):\n",
    "        super().__init__()\n",
    "        self.mu = Wiggle()\n",
    "        self.sigmapre = nn.Parameter(torch.tensor(1.0))\n",
    "    @property\n",
    "    def sigma(self):\n",
    "         return torch.nn.functional.softplus(self.sigmapre)\n",
    "    def forward(self, y, x):\n",
    "        sigma2 = torch.pow(self.sigma, 2)\n",
    "        return - 0.5*torch.log(2*np.pi*sigma2) - torch.pow(y - self.mu(x), 2) / (2*sigma2)"
   ]
  },
  {
   "cell_type": "markdown",
   "id": "minimal-virus",
   "metadata": {},
   "source": [
    "### Train model"
   ]
  },
  {
   "cell_type": "code",
   "execution_count": null,
   "id": "settled-channels",
   "metadata": {},
   "outputs": [],
   "source": [
    "x = torch.tensor(xkcd.x, dtype=torch.float)[:, None]\n",
    "y = torch.tensor(xkcd.y, dtype=torch.float)[:, None]\n",
    "\n",
    "simple_wiggle = RWiggle()\n",
    "epoch = 0\n",
    "optimizer = optim.Adam(simple_wiggle.parameters())\n",
    "\n",
    "# Store the log-likelihood of the dataset every 100 epochs\n",
    "# so we can plot it against epochs and compare with the \n",
    "# heteroscedastic model.\n",
    "simple_training_loglik = []\n",
    "\n",
    "with Interruptable() as check_interrupted:\n",
    "    while epoch < 50000:\n",
    "        check_interrupted()\n",
    "        optimizer.zero_grad()\n",
    "        loglikelihood = torch.mean(simple_wiggle(y, x))\n",
    "        (-loglikelihood).backward()\n",
    "        optimizer.step()\n",
    "        epoch += 1\n",
    "        if epoch % 100 == 0:\n",
    "            simple_training_loglik.append(loglikelihood.item())"
   ]
  },
  {
   "cell_type": "markdown",
   "id": "extreme-pointer",
   "metadata": {},
   "source": [
    "### Heteroscedastic model"
   ]
  },
  {
   "cell_type": "code",
   "execution_count": null,
   "id": "moderate-slave",
   "metadata": {},
   "outputs": [],
   "source": [
    "class HeteroscedasticRWiggle(nn.Module):\n",
    "    \"\"\"Y_i ~ N(f(x_i), f(x_i)^2)\"\"\"\n",
    "    def __init__(self):\n",
    "        super().__init__()\n",
    "        self.mu = Wiggle()\n",
    "        self.sigmapre = Wiggle()\n",
    "    def sigma(self, x):\n",
    "         return torch.nn.functional.softplus(self.sigmapre(x))\n",
    "        \n",
    "    def forward(self, y, x):\n",
    "        sigma2 = torch.pow(self.sigma(x), 2)\n",
    "        return - 0.5*torch.log(2*np.pi*sigma2) - torch.pow(y - self.mu(x), 2) / (2*sigma2)"
   ]
  },
  {
   "cell_type": "code",
   "execution_count": null,
   "id": "deluxe-cedar",
   "metadata": {},
   "outputs": [],
   "source": [
    "heteroscedastic_wiggle = HeteroscedasticRWiggle()\n",
    "epoch = 0\n",
    "optimizer = optim.Adam(heteroscedastic_wiggle.parameters())\n",
    "heteroscedastic_training_likelihood = []\n",
    "\n",
    "with Interruptable() as check_interrupted:\n",
    "    while epoch < 50000:\n",
    "        check_interrupted()\n",
    "        optimizer.zero_grad()\n",
    "        loglikelihood = torch.mean(heteroscedastic_wiggle(y, x))\n",
    "        (-loglikelihood).backward()\n",
    "        optimizer.step()\n",
    "        epoch += 1\n",
    "        if epoch % 100 == 0:\n",
    "            heteroscedastic_training_likelihood.append(loglikelihood.item())"
   ]
  },
  {
   "cell_type": "markdown",
   "id": "global-roads",
   "metadata": {},
   "source": [
    "---\n",
    "## Variational autoencoders for (c)-(f)"
   ]
  },
  {
   "cell_type": "markdown",
   "id": "homeless-manhattan",
   "metadata": {},
   "source": [
    "### VAE with expanded sampling"
   ]
  },
  {
   "cell_type": "code",
   "execution_count": null,
   "id": "sudden-organizer",
   "metadata": {},
   "outputs": [],
   "source": [
    "class BernoulliImageGeneratorExpandedSampling(nn.Module):\n",
    "    def __init__(self, d=4):\n",
    "        super().__init__()\n",
    "        self.d = d\n",
    "        self.f = nn.Sequential(\n",
    "            nn.Linear(d, 128),\n",
    "            nn.LeakyReLU(),\n",
    "            nn.Linear(128, 1728),\n",
    "            nn.LeakyReLU(),\n",
    "            nn.Unflatten(1, (12,12,12)), # -> B×12×12×12\n",
    "            nn.Conv2d(12, 36, 3, 1),     # -> [B×36×10×10]\n",
    "            nn.LeakyReLU(),\n",
    "            nn.Flatten(1),               # -> [B×3600]\n",
    "            nn.Unflatten(1, (4,30,30)),  # -> [B×4×30×30]\n",
    "            nn.Conv2d(4, 4, 3, 1),       # -> [B×4×28×28]\n",
    "            nn.LeakyReLU(),\n",
    "            nn.Conv2d(4, 1, 1, 1),       # -> [B×1×28×28]\n",
    "            nn.Sigmoid()\n",
    "        )\n",
    "\n",
    "    def forward(self, z):\n",
    "        return self.f(z)\n",
    "\n",
    "    def loglik(self, x, z):\n",
    "        xr = self(z)\n",
    "        return (x*torch.log(xr) + (1-x)*torch.log(1-xr)).sum((1, 2, 3))\n",
    "\n",
    "\n",
    "class GaussianEncoderExpandedSampling(nn.Module):\n",
    "    def __init__(self, decoder):\n",
    "        super().__init__()\n",
    "        self.d = decoder.d\n",
    "        self.f = decoder\n",
    "        self.g = nn.Sequential(\n",
    "            nn.Conv2d(1, 32, 3, 1),\n",
    "            nn.LeakyReLU(),\n",
    "            nn.Conv2d(32, 64, 3, 1),\n",
    "            nn.MaxPool2d(2),\n",
    "            nn.Flatten(1),\n",
    "            nn.Linear(9216, 128),\n",
    "            nn.LeakyReLU(),\n",
    "            nn.Linear(128, self.d*2)\n",
    "        )\n",
    "        self.max_likelihood = (0, 0)\n",
    "        self.min_likelihood = (0, 0)\n",
    "\n",
    "    def forward(self, x):\n",
    "        μτ = self.g(x)\n",
    "        μ,τ = μτ[:,:self.d], μτ[:,self.d:]\n",
    "        return μ, torch.exp(τ/2)\n",
    "\n",
    "    def loglik_lb(self, batch_num, x):\n",
    "        μ,σ = self(x)\n",
    "        kl = 0.5 * (μ**2 + σ**2 - torch.log(σ**2) - 1).sum(1)\n",
    "\n",
    "        ll = 0\n",
    "        num_samples = 1\n",
    "        for _ in range(num_samples):\n",
    "            ε = torch.randn_like(σ)\n",
    "            ll += self.f.loglik(x, z=μ+σ*ε)\n",
    "        ll /= num_samples\n",
    "\n",
    "        if torch.min(ll) < self.min_likelihood[0]:\n",
    "            self.min_likelihood = torch.min(ll), torch.argmin(ll) + batch_num*100\n",
    "\n",
    "        if torch.max(ll) < self.max_likelihood[0]:\n",
    "            self.max_likelihood = torch.max(ll), torch.argmax(ll) + batch_num*100\n",
    "\n",
    "        # Sum up all likelihoods to find likelihood of dataset.\n",
    "        return ll - kl"
   ]
  },
  {
   "cell_type": "markdown",
   "id": "turned-membership",
   "metadata": {},
   "source": [
    "### Taking a holdout dataset and evaluating models on it"
   ]
  },
  {
   "cell_type": "code",
   "execution_count": null,
   "id": "little-montana",
   "metadata": {},
   "outputs": [],
   "source": []
  }
 ],
 "metadata": {
  "kernelspec": {
   "display_name": "Python 3",
   "language": "python",
   "name": "python3"
  },
  "language_info": {
   "codemirror_mode": {
    "name": "ipython",
    "version": 3
   },
   "file_extension": ".py",
   "mimetype": "text/x-python",
   "name": "python",
   "nbconvert_exporter": "python",
   "pygments_lexer": "ipython3",
   "version": "3.8.5"
  }
 },
 "nbformat": 4,
 "nbformat_minor": 5
}
