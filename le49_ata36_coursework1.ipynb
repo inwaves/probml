{
 "cells": [
  {
   "cell_type": "markdown",
   "id": "peripheral-vehicle",
   "metadata": {},
   "source": [
    "# Exercise: probabilistic neural networks\n",
    "\n",
    "Andrei Tiberiu Alexandru - ata36@cam.ac.uk\n",
    "\n",
    "There are two main sections: text answers with snippets of code and full code underlying the answers.\n",
    "\n",
    "Table of contents:\n",
    "1. [Answers](#Answers)  \n",
    "    1.1 [Question (a)](#Question(a))  \n",
    "    1.2 [Question (b)](#Question(b))  \n",
    "    1.3 [Question (c)](#Question(c))  \n",
    "    1.4 [Question (d)](#Question(d))  \n",
    "    1.5 [Question (e)](#Question(e))  \n",
    "    1.6 [Question (f)](#Question(f))  \n",
    "2. [Full code](#Full-code)"
   ]
  },
  {
   "cell_type": "markdown",
   "id": "minute-blast",
   "metadata": {},
   "source": [
    "# Answers"
   ]
  },
  {
   "cell_type": "markdown",
   "id": "stainless-virgin",
   "metadata": {},
   "source": [
    "## Question(a)"
   ]
  },
  {
   "cell_type": "markdown",
   "id": "boring-officer",
   "metadata": {},
   "source": [
    "Ribbon-plot of homoscedastic model:"
   ]
  },
  {
   "cell_type": "code",
   "execution_count": null,
   "id": "norwegian-locator",
   "metadata": {},
   "outputs": [],
   "source": [
    "mu_x = simple_wiggle.mu(x).detach().numpy()\n",
    "sigma = simple_wiggle.sigma.item()\n",
    "\n",
    "plt.plot(xkcd.x, mu_x)\n",
    "plt.fill_between(xkcd.x, (mu_x-1.96*sigma).reshape(31,), (mu_x+1.96*sigma).reshape(31,), alpha=0.2)"
   ]
  },
  {
   "cell_type": "markdown",
   "id": "valuable-utility",
   "metadata": {},
   "source": [
    "Ribbon plot of heteroscedastic model. Because $\\sigma$ varies, the width of the ribbon varies depending on how the model fits the data. Re-training the model results in a differently shaped ribbon. \n",
    "\n",
    "In some regions, there is 0 variance, which means the model has perfectly fit the data points in that region. I think that training until we perfectly overfit would result in the ribbon 'disappearing' from the plot as it overlaps with the plotted line."
   ]
  },
  {
   "cell_type": "code",
   "execution_count": null,
   "id": "spoken-philip",
   "metadata": {},
   "outputs": [],
   "source": [
    "mu_x = heteroscedastic_wiggle.mu(x).detach().numpy()\n",
    "sigma = heteroscedastic_wiggle.sigma(x).detach().numpy()\n",
    "\n",
    "plt.plot(xkcd.x, mu_x)\n",
    "plt.fill_between(xkcd.x, (mu_x-1.96*sigma).reshape(31,), (mu_x+1.96*sigma).reshape(31,), alpha=0.2)"
   ]
  },
  {
   "cell_type": "markdown",
   "id": "established-attachment",
   "metadata": {},
   "source": [
    "## Question(b)\n",
    "### Maximum possible training likelihood"
   ]
  },
  {
   "cell_type": "markdown",
   "id": "random-spokesman",
   "metadata": {},
   "source": [
    "The maximum average log-likelihood of the dataset should be given by the empirical distribution - the average log-likelihood under a perfectly overfitted model: $$\\log Pr_X(x_1, \\dots, x_n) = \\sum_x q_x \\log q_x $$\n",
    "where\n",
    "$$q_x =  \\frac{\\text{# of occurrences of x}}{\\text{total number of samples}} $$\n",
    "\n",
    "Let's implement this:"
   ]
  },
  {
   "cell_type": "code",
   "execution_count": null,
   "id": "selected-sigma",
   "metadata": {},
   "outputs": [],
   "source": [
    "def q(x):\n",
    "    _, counts = np.unique(x, return_counts=True)\n",
    "    return counts/x.shape[0]"
   ]
  },
  {
   "cell_type": "code",
   "execution_count": null,
   "id": "living-skill",
   "metadata": {},
   "outputs": [],
   "source": [
    "q_x = q(x)\n",
    "\n",
    "np.sum(q_x * np.log(q_x))"
   ]
  },
  {
   "cell_type": "markdown",
   "id": "chief-australian",
   "metadata": {},
   "source": [
    "We can also check this mathematically. There are 31 unique data points in our tensor $x$, which means they all have likelihood $1 \\over 31$. So $$\\sum_x q_x log q_x = 31 \\times \\frac{1}{31} \\log \\Big(\\frac{1}{31} \\Big) = \\log \\Big(\\frac{1}{31} \\Big) = -3.4339$$"
   ]
  },
  {
   "cell_type": "markdown",
   "id": "owned-theme",
   "metadata": {},
   "source": [
    "I'm uncertain that this is correct, because during training the average log-likelihood is higher (i.e. a negative number closer to 0) than -3.43."
   ]
  },
  {
   "cell_type": "markdown",
   "id": "optimum-million",
   "metadata": {},
   "source": [
    "### Likelihood v. epochs\n",
    "\n",
    "Both models are trained for 50,000 epochs. The log-likelihoods for each are saved every 100 epochs and plotted below:"
   ]
  },
  {
   "cell_type": "code",
   "execution_count": null,
   "id": "happy-august",
   "metadata": {},
   "outputs": [],
   "source": [
    "epochs = np.arange(1, 50000, 100)\n",
    "\n",
    "plt.plot(epochs, heteroscedastic_training_likelihood)\n",
    "plt.plot(epochs, simple_training_loglik)"
   ]
  },
  {
   "cell_type": "markdown",
   "id": "seventh-baseline",
   "metadata": {},
   "source": [
    "It looks as though the dips in likelihood occur when the optimisation algorithm tries larger values for the weights of the network that generates $\\sigma$ (initialised in `self.sigmapre = Wiggle()`). Larger weights result in a larger $\\sigma$, so the resulting distribution has higher variance. This means that the distribution fits the data worse, so the likelihood decreases. When $\\sigma$ is not dependent on $x$, its value is more stable, mostly between 1.6 and 1.4.\n",
    "\n",
    "In one of the runs, a dip occurred from log-likelihood -1.046 to -1.539; at those values, the mean of the vector $\\sigma(x)$ was 1.1963 and 1.5876, respectively. When $\\sigma$ is allowed to depend on $x$, the variance of the model can take on more extreme values."
   ]
  },
  {
   "cell_type": "markdown",
   "id": "deluxe-contrary",
   "metadata": {},
   "source": [
    "---"
   ]
  },
  {
   "cell_type": "markdown",
   "id": "generic-aaron",
   "metadata": {},
   "source": [
    "## Question(c)"
   ]
  },
  {
   "cell_type": "markdown",
   "id": "roman-projection",
   "metadata": {},
   "source": [
    "### Reconstructed images"
   ]
  },
  {
   "cell_type": "code",
   "execution_count": null,
   "id": "christian-tiffany",
   "metadata": {},
   "outputs": [],
   "source": [
    "new_images = []\n",
    "\n",
    "for image in showr:\n",
    "    \n",
    "    # Add the original image.\n",
    "    new_images.append(image.detach().numpy()[0][0])\n",
    "    \n",
    "    # Generate 3 reconstructions of the image.\n",
    "    for i in range(3):\n",
    "        mu, sigma = simple_vae(image)\n",
    "        epsilon = torch.randn_like(sigma)\n",
    "        z = mu + sigma*epsilon\n",
    "        new_image = simple_vae.f(z)\n",
    "        new_images.append(new_image.detach().numpy()[0][0])\n",
    "\n",
    "cols, rows = 4, 4\n",
    "fig = plt.figure(figsize=(10, 10))\n",
    "\n",
    "for i in range(1, cols*rows + 1):\n",
    "    fig.add_subplot(rows, cols, i)\n",
    "    plt.imshow(new_images[i-1])\n",
    "plt.show()"
   ]
  },
  {
   "cell_type": "markdown",
   "id": "southeast-amount",
   "metadata": {},
   "source": [
    "### Varying amounts of noise"
   ]
  },
  {
   "cell_type": "code",
   "execution_count": null,
   "id": "permanent-sector",
   "metadata": {},
   "outputs": [],
   "source": [
    "image, _ = mnist[35508]\n",
    "image = image.reshape((1, 1, 28, 28)) # Must be [Bx1x28x28].\n",
    "mu, sigma = simple_vae(image)\n",
    "\n",
    "# TODO: should this have some K*noise*sigma?\n",
    "# Sample 5 Zs with different noise and generate images from them.\n",
    "z = [mu + torch.randn_like(sigma)*sigma for _ in range(5)]\n",
    "new_images = [simple_vae.f(z_i) for z_i in z]\n",
    "fig = plt.figure(figsize=(10, 10))\n",
    "\n",
    "for i in range(len(new_images)):\n",
    "    fig.add_subplot(1, 5, i+1)\n",
    "    plt.imshow(new_images[i].detach().numpy()[0][0])\n",
    "\n",
    "plt.axis('off')\n",
    "plt.show()"
   ]
  },
  {
   "cell_type": "markdown",
   "id": "weekly-california",
   "metadata": {},
   "source": [
    "### 12 random images\n",
    "\n",
    "To generate 12 random images, we take 12 samples from distribution $\\tilde Z$ and decode them."
   ]
  },
  {
   "cell_type": "code",
   "execution_count": null,
   "id": "unnecessary-ensemble",
   "metadata": {},
   "outputs": [],
   "source": [
    "z_samples = [torch.rand(4) for _ in range(12)]\n",
    "generated_images = [simple_vae.f(z_i) for z_i in z_samples]\n",
    "\n",
    "fig = plt.figure(figsize=(10, 10))\n",
    "\n",
    "for i in range(len(generated_images)):\n",
    "    fig.add_subplot(1, 12, i+1)\n",
    "    plt.imshow(generated_images[i].detach().numpy()[0][0])\n",
    "plt.axis('off')\n",
    "plt.show()"
   ]
  },
  {
   "cell_type": "markdown",
   "id": "early-freeze",
   "metadata": {},
   "source": [
    "### Interpolating two images"
   ]
  },
  {
   "cell_type": "markdown",
   "id": "occupied-parking",
   "metadata": {},
   "source": [
    "To interpolate two images, we first encode them into two latent variables $\\tilde{Z}_1, \\tilde{Z}_2$. Then, we interpolate in the latent space by generating a new latent variable $\\tilde{Z}_* = \\lambda \\tilde{Z}_1 + (1-\\lambda) \\tilde{Z}_2$. $\\lambda$ is chosen randomly in the interval $[0, 1)$."
   ]
  },
  {
   "cell_type": "code",
   "execution_count": null,
   "id": "recovered-merit",
   "metadata": {},
   "outputs": [],
   "source": [
    "(img1, _), (img2, _) = mnist[28001], mnist[43876]\n",
    "img1 = img1.reshape((1, 1, 28, 28))\n",
    "img2 = img2.reshape((1, 1, 28, 28))\n",
    "mu1, sigma1 = simple_vae(img1)\n",
    "mu2, sigma2 = simple_vae(img2)\n",
    "z1 = mu1 + torch.randn_like(sigma1)\n",
    "z2 = mu2 + torch.randn_like(sigma2)\n",
    "\n",
    "# Generate 10 z* interpolated between z1 and z2.\n",
    "interpolated_vars = []\n",
    "for _ in range(10):\n",
    "    coef = random.random()\n",
    "    interpolated_vars.append(z1 + coef*(z2-z1))\n",
    "\n",
    "# Add the first of the original images.\n",
    "new_images = [img1]\n",
    "for z_i in interpolated_vars:\n",
    "    new_images.append(simple_vae.f(z_i))\n",
    "new_images.append(img2)\n",
    "\n",
    "# Plot all images.\n",
    "fig = plt.figure(figsize=(10, 10))\n",
    "\n",
    "for i in range(len(new_images)):\n",
    "    fig.add_subplot(1, 12, i+1)\n",
    "    plt.imshow(new_images[i].detach().numpy()[0][0])\n",
    "plt.axis('off')\n",
    "plt.show()"
   ]
  },
  {
   "cell_type": "markdown",
   "id": "compressed-syndrome",
   "metadata": {},
   "source": [
    "## Question(d)"
   ]
  },
  {
   "cell_type": "markdown",
   "id": "early-thomas",
   "metadata": {},
   "source": [
    "### Monte-Carlo Integration with more than one sample"
   ]
  },
  {
   "cell_type": "markdown",
   "id": "varied-consciousness",
   "metadata": {},
   "source": [
    "Given that $\\tilde Z^{(i, \\phi)} = \\mu_\\phi + \\sigma_\\phi * \\epsilon$, where $\\epsilon \\sim \\mathcal{N}(0, I_d)$, to sample multiple values of $\\tilde Z$ we need to sample $\\epsilon$ multiple times. For each sample, we compute the log-likelihood through `f.loglik(x, z)`. We then average this likelihood across the number of samples we took, controlled by `num_samples`.  See the full code [here](#VAE-with-expanded-sampling).\n",
    "\n",
    "In practice, we are trading off more accurate estimates of the sampling distribution $\\tilde Z$ (through increased number of samples) against the time the model takes to train. "
   ]
  },
  {
   "cell_type": "markdown",
   "id": "bacterial-treasury",
   "metadata": {},
   "source": [
    "### Likely and unlikely images"
   ]
  },
  {
   "cell_type": "markdown",
   "id": "balanced-gender",
   "metadata": {},
   "source": [
    "The top row below is a set of the 10 images with the lowest log-likelihood after training. Some features that may have resulted in this are:\n",
    "- it's hard to recognise the mark in the image as a digit (example: there are 1s that are a simple diagonal line, or misshapen 0s etc.)\n",
    "- some of the digits are heavily rotated, like a 6 being almost sideways\n",
    "- some digits are ambiguous: for some styles, 1s resemble 7s; some rounded 5s can look like 6s;\n",
    "- the digit appears 'incomplete' - a rounded 4 may look like a 9 missing a small portion in the top-right;\n",
    "- the digit is compressed: the strokes are very close together, or they are thick, and become indistinguishable from each other; they also may not resemble the other styles for that digit;\n",
    "\n",
    "The row below it are the 10 images with the highest likelihood in the dataset. They are almost always 1s consisting of a single vertical line. It's possible that these are the likeliest because of their simplicity."
   ]
  },
  {
   "cell_type": "code",
   "execution_count": 8,
   "id": "satellite-november",
   "metadata": {},
   "outputs": [
    {
     "data": {
      "image/png": "[encoded data removed]",
      "text/plain": [
       "<Figure size 720x720 with 20 Axes>"
      ]
     },
     "metadata": {
      "needs_background": "light"
     },
     "output_type": "display_data"
    }
   ],
   "source": [
    "# Sort this dictionary for ascending likelihood.\n",
    "sorted_likelihoods = list(sorted(expanded_sampling_vae.likelihoods.items(), key = lambda item: item[1]))\n",
    "unlikely_images = []\n",
    "likely_images = []\n",
    "\n",
    "# Get mnist[i] for the bottom-most i and for the top-most i\n",
    "for index in sorted_likelihoods[:10]:\n",
    "    im, _ = mnist[index[0]]\n",
    "    unlikely_images.append(im[0])\n",
    "    \n",
    "for index in sorted_likelihoods[-10:]:\n",
    "    im, _ = mnist[index[0]]\n",
    "    likely_images.append(im[0])\n",
    "    \n",
    "# Plot 10 unlikely images followed by \n",
    "fig = plt.figure(figsize=(10, 10))\n",
    "\n",
    "for i in range(len(unlikely_images)):\n",
    "    fig.add_subplot(2, 10, i+1)\n",
    "    plt.imshow(unlikely_images[i])\n",
    "    fig.add_subplot(1, 10, i+1)\n",
    "    plt.imshow(likely_images[i])\n",
    "    \n",
    "plt.axis('off')\n",
    "plt.show()"
   ]
  },
  {
   "cell_type": "markdown",
   "id": "wanted-syndrome",
   "metadata": {},
   "source": [
    "## Question(e)"
   ]
  },
  {
   "cell_type": "markdown",
   "id": "theoretical-japanese",
   "metadata": {},
   "source": [
    "Training the autoencoder with 20 dimensions is easy, we just initialise it with `d = 20` and train as we normally would:"
   ]
  },
  {
   "cell_type": "code",
   "execution_count": null,
   "id": "developing-neutral",
   "metadata": {},
   "outputs": [],
   "source": [
    "vae_more_dims = GaussianEncoder(BernoulliImageGenerator(d=20))\n",
    "optimizer = optim.Adam(vae_more_dims.parameters())\n",
    "epoch = 0\n",
    "\n",
    "while epoch < 10:\n",
    "    # ...\n",
    "    pass"
   ]
  },
  {
   "cell_type": "markdown",
   "id": "athletic-extra",
   "metadata": {},
   "source": [
    "The sensible way to evaluate two models is to train them on the same data, and evaluate both of them on the same holdout data set. It would be good if the holdout dataset contained the most 'extreme' data points - by some definition of extreme. \n",
    "\n",
    "I want to take my holdout set to be the blurriest digits in the MNIST dataset. I define an image to be blurry if it has a lot of pixels that are neither clearly black, nor clearly white. MNIST images are 28x28 arrays of floats between 0 and 1, but they mostly cluster above 0.7 or below 0.2. That means that if I consider a pixel value in $(0.2, 0.7)$ to be blurry, I can count how many of those pixels each image has.\n",
    "\n",
    "That's exactly what I do below. I take the blurriest 12,000 images - 20% of my dataset of 60,000 - out of the training set, and into a separate holdout set. Then I evaluate the log-likelihood of that set under model A (4 dimensions) and model B (20 dimensions)."
   ]
  },
  {
   "cell_type": "code",
   "execution_count": 4,
   "id": "patent-drive",
   "metadata": {},
   "outputs": [],
   "source": [
    "def get_greyscale(image):\n",
    "    img = image.detach().numpy()\n",
    "    return 784-np.count_nonzero(img < 0.2)-np.count_nonzero(img > 0.7)"
   ]
  },
  {
   "cell_type": "code",
   "execution_count": 5,
   "id": "wireless-france",
   "metadata": {},
   "outputs": [],
   "source": [
    "count_greyscale = [get_greyscale(img) for (img, _) in mnist]\n",
    "indices = [i for i in range(len(mnist))]\n",
    "d = dict(zip(indices, count_greyscale))\n",
    "digit_index_greyscale_counts = list(sorted(d.items(), key=lambda item : item[1]))\n",
    "\n",
    "blurry_digits = [index for index, greyscale_count in digit_index_greyscale_counts[-12000:]]"
   ]
  },
  {
   "cell_type": "code",
   "execution_count": 6,
   "id": "experimental-amino",
   "metadata": {},
   "outputs": [],
   "source": [
    "training_set = [mnist[index] for index in range(len(mnist)) if index not in blurry_digits]\n",
    "holdout_set = [mnist[index] for index in range(len(mnist)) if index in blurry_digits]\n",
    "\n",
    "batched_training_set = torch.utils.data.DataLoader(training_set, batch_size=100)\n",
    "batched_holdout_set = torch.utils.data.DataLoader(holdout_set, batch_size=100)"
   ]
  },
  {
   "cell_type": "markdown",
   "id": "numerical-spanish",
   "metadata": {},
   "source": [
    "We don't want pytorch to run the optimiser on this data, so we wrap the call that computes the log-likelihood in `torch.no_grad()`:"
   ]
  },
  {
   "cell_type": "code",
   "execution_count": null,
   "id": "prompt-adams",
   "metadata": {},
   "outputs": [],
   "source": [
    "with torch.no_grad():\n",
    "    loglik_lb, loglike_lb_more_dims = 0, 0\n",
    "    for batch_num, (images, labels) in enumerate(batched_holdout_set):\n",
    "        loglik_lb += torch.mean(simple_vae.loglik_lb(batch_num, images))\n",
    "        loglik_lb_more_dims += torch.mean(vae_more_dims.loglik_lb(batch_num, images))\n",
    "    print(f\"Average log-likelihood of VAE with 4D latent space: {loglik_lb/batch_num}\\n\n",
    "        Average log-likelihood of VAE with 20D latent space: {loglik_lb_more_dims/batch_num}\")"
   ]
  },
  {
   "cell_type": "markdown",
   "id": "reported-badge",
   "metadata": {},
   "source": [
    "Of course this could be some other measure - for example, it looks like digits with thick pen strokes are harder to classify, so that could be useful to look at.\n",
    "\n",
    "It makes sense that the 20-dimensional VAE does better than the 4D one, because it can encode more information into the latent space. On the other hand, the idea of a VAE is to have a relatively small latent space, so that the networks learn a useful representation of the data and discard everything else. If the latent space is around the same dimensions as the input data, we haven't really achieved anything: the model can just memorise the data by encoding it in a particular way. There's probably a sweet spot for the number of dimensions of the latent space, but I don't know what it is in theory - it might be down to the modeller."
   ]
  },
  {
   "cell_type": "markdown",
   "id": "medium-sequence",
   "metadata": {},
   "source": [
    "## Question(f)"
   ]
  },
  {
   "attachments": {
    "1fc588d8-a5c0-4f6a-95ec-d774fd9c9d17.png": {
     "image/png": "[encoded data removed]"
    }
   },
   "cell_type": "markdown",
   "id": "proved-wallet",
   "metadata": {},
   "source": [
    "The question is a problem setup for the conditional variational autoencoder, introduced in [Sohn et al., 2015](https://proceedings.neurips.cc/paper/2015/file/8d55a249e6baa5c06772297520da2051-Paper.pdf). The key idea is to condition the generated output on not only the image $x_i$ but also its label $y_i$. \n",
    "\n",
    "<img src=\"attachment:1fc588d8-a5c0-4f6a-95ec-d774fd9c9d17.png\" width=\"500\">\n",
    "\n",
    "In the above figure from [Doersch, 2016](https://arxiv.org/pdf/1606.05908.pdf) of the architecture of the CVAE, $Y$ corresponds to our MNIST image and $X$ corresponds to its label."
   ]
  },
  {
   "cell_type": "markdown",
   "id": "inappropriate-young",
   "metadata": {},
   "source": [
    "### Perfect sampling distribution\n",
    "The perfect sampling distribution for a VAE is derived from the lower-bound log-likelihood formula: \n",
    "$$\\mathcal{L}_{lb}(\\theta, \\phi) = \\sum_{i=1}^n \\mathbb{E}_{z \\sim \\tilde Z^{(i, \\phi)}} \\Bigg[\\log Pr_X(x_i | Z=q(g_\\phi(x_i), F); \\theta) \\frac{Pr_Z(z)}{Pr_{\\tilde Z^{(i, \\phi)}}(z)} \\Bigg]$$\n",
    "We want to choose the sampling distribution $\\tilde Z$ such that its likelihood $Pr_{\\tilde Z^{(i, \\phi)}}(z)$ looks like the Bayesian posterior of $Z$, which is:\n",
    "$$Pr_{\\tilde Z}(z) = \\kappa Pr_Z(x_i | Z=z; \\theta)Pr_Z(z)$$ where $\\kappa$ is some constant.\n",
    "\n",
    "For the conditional VAE, we additionally need to condition on the label $Y=y$:\n",
    "$$\\mathcal{L}_{lb}(\\theta, \\phi) = \\sum_{i=1}^n \\mathbb{E}_{z \\sim \\tilde Z^{(i, \\phi)}} \\Bigg[\\log Pr_X(x_i | Z=q(g_\\phi(x_i), F), Y=y; \\theta) \\frac{Pr_Z(z)}{Pr_{\\tilde Z^{(i, \\phi)}}(z)} \\Bigg]$$\n",
    "which yields the following perfect sampling distribution:\n",
    "$$Pr_{\\tilde Z}(z) = \\kappa Pr_Z(x_i | Z=z, Y=y; \\theta)Pr_Z(z)$$\n",
    "\n",
    "In essence, this is saying that in order to choose a good sampling distribution $\\tilde Z$, we need to factor in the label $y$. We do so by passing in the image and the label into the encoder at the same time."
   ]
  },
  {
   "cell_type": "markdown",
   "id": "welsh-quantity",
   "metadata": {},
   "source": [
    "### Generate four styles of digits\n",
    "The main modifications to the `GaussianEncoder` and `BernoulliImageGenerator` classes used in the previous questions are to feed the image and label into the encoder, and latent variable and label into the decoder, at the same time. \n",
    "\n",
    "For the encoder, we first one-hot encode the label, e.g. `y = [3]` into a vector of shape `1x10` where the 3rd entry is 1, and all others are 0. Then, we apply a linear transformation to bring it to dimensions `1x784`, which we reshape to `1x28x28`. Once the label has this shape, we stack it on top of its respective image (shape `1x28x28`) as an extra channel. The 'superimposed' image and label have shape `2x28x28`. (Actually, because Pytorch works on batches, the dimension of the input would be `Bx2x28x28`.)\n",
    "\n",
    "For the decoder, we simply stack the `1x10` one-hot encoded label on top of the `1xD` latent variable, where $D$ is the number of dimensions of the latent space. We get a `1x(D+10)`-shaped input to the decoder.\n",
    "\n",
    "The approach is inspired by [this](https://github.com/AntixK/PyTorch-VAE/blob/master/models/cvae.py) implementation, though it should be possible to encode the label in other ways."
   ]
  },
  {
   "cell_type": "markdown",
   "id": "parental-karaoke",
   "metadata": {},
   "source": [
    "Once the model is trained, generating stylistically similar images of different digits is easy. We sample a single $\\tilde Z$ and vary the label that we use to decode it:"
   ]
  },
  {
   "cell_type": "code",
   "execution_count": 15,
   "id": "hollywood-steps",
   "metadata": {},
   "outputs": [
    {
     "data": {
      "image/png": "[encoded data removed]",
      "text/plain": [
       "<Figure size 720x720 with 16 Axes>"
      ]
     },
     "metadata": {
      "needs_background": "light"
     },
     "output_type": "display_data"
    }
   ],
   "source": [
    "y = [5, 3, 9, 1]\n",
    "y_encoded = one_hot_encode(y, 10)\n",
    "all_images = []\n",
    "\n",
    "# Sample four different Z~, decode each using four digits.\n",
    "for _ in range(4):\n",
    "    z = torch.randn(1,4)\n",
    "    all_images.append([cvae.f(z, y_i.unsqueeze(1).T).detach().numpy() for y_i in y_encoded])\n",
    "\n",
    "# Plot results.\n",
    "fig = plt.figure(figsize=(10, 10))\n",
    "for j in range(len(all_images)):\n",
    "    for i in range(len(all_images[j])):\n",
    "        fig.add_subplot(len(all_images[j]), len(all_images), 4*j+(i+1))\n",
    "        plt.imshow(all_images[j][i][0][0])"
   ]
  },
  {
   "cell_type": "markdown",
   "id": "brilliant-eugene",
   "metadata": {},
   "source": [
    "---\n",
    "# Full code"
   ]
  },
  {
   "cell_type": "markdown",
   "id": "designed-brisbane",
   "metadata": {},
   "source": [
    "## Linear models for (a)-(b)"
   ]
  },
  {
   "cell_type": "markdown",
   "id": "abstract-quarterly",
   "metadata": {},
   "source": [
    "### Imports and data loading"
   ]
  },
  {
   "cell_type": "code",
   "execution_count": 1,
   "id": "separated-spank",
   "metadata": {},
   "outputs": [],
   "source": [
    "import pandas\n",
    "import matplotlib.pyplot as plt\n",
    "import numpy as np\n",
    "import torch.nn as nn\n",
    "import torch.optim as optim\n",
    "import torch\n",
    "import torchvision\n",
    "\n",
    "import random"
   ]
  },
  {
   "cell_type": "code",
   "execution_count": null,
   "id": "random-provision",
   "metadata": {},
   "outputs": [],
   "source": [
    "url = 'https://www.cl.cam.ac.uk/teaching/2122/DataSci/data/xkcd.csv'\n",
    "xkcd = pandas.read_csv(url)\n",
    "\n",
    "plt.scatter(xkcd.x, xkcd.y)"
   ]
  },
  {
   "cell_type": "code",
   "execution_count": 2,
   "id": "dirty-sleeve",
   "metadata": {},
   "outputs": [
    {
     "data": {
      "image/png": "[encoded data removed]",
      "text/plain": [
       "<Figure size 432x288 with 1 Axes>"
      ]
     },
     "metadata": {
      "needs_background": "light"
     },
     "output_type": "display_data"
    }
   ],
   "source": [
    "mnist = torchvision.datasets.MNIST(\n",
    "    root = 'pytorch-data/',  # where to put the files\n",
    "    download = True,         # if files aren't here, download them\n",
    "    train = True,            # whether to import the test or the train subset\n",
    "    # PyTorch uses PyTorch tensors internally, not numpy arrays, so convert them.\n",
    "    transform = torchvision.transforms.ToTensor()\n",
    ")\n",
    "\n",
    "# Images can be plotted with matplotlib imshow\n",
    "show = [mnist[i] for i in [59289, 28001, 35508, 43876, 23627, 14028]]\n",
    "show = torch.stack([img for img,lbl in show])\n",
    "x = torchvision.utils.make_grid(show, nrow=6, pad_value=1)\n",
    "plt.imshow(x.numpy().transpose((1,2,0)))\n",
    "plt.axis('off')\n",
    "plt.show()\n",
    "\n",
    "mnist_batched = torch.utils.data.DataLoader(mnist, batch_size=100)"
   ]
  },
  {
   "cell_type": "markdown",
   "id": "joint-pricing",
   "metadata": {},
   "source": [
    "### Define simple (homoscedastic) model"
   ]
  },
  {
   "cell_type": "code",
   "execution_count": null,
   "id": "isolated-wellington",
   "metadata": {
    "jupyter": {
     "source_hidden": true
    }
   },
   "outputs": [],
   "source": [
    "class Wiggle(nn.Module):\n",
    "    def __init__(self):\n",
    "        super().__init__()\n",
    "        self.f = nn.Sequential(\n",
    "            nn.Linear(1,4),\n",
    "            nn.LeakyReLU(),\n",
    "            nn.Linear(4,20),\n",
    "            nn.LeakyReLU(),\n",
    "            nn.Linear(20,20),\n",
    "            nn.LeakyReLU(),\n",
    "            nn.Linear(20,1)\n",
    "        )\n",
    "    def forward(self, x):\n",
    "        return self.f(x)\n",
    "    \n",
    "class RWiggle(nn.Module):\n",
    "    \"\"\"Y_i ~ N(f(x_i), sigma2)\"\"\"\n",
    "    def __init__(self):\n",
    "        super().__init__()\n",
    "        self.mu = Wiggle()\n",
    "        self.sigmapre = nn.Parameter(torch.tensor(1.0))\n",
    "    @property\n",
    "    def sigma(self):\n",
    "         return torch.nn.functional.softplus(self.sigmapre)\n",
    "    def forward(self, y, x):\n",
    "        sigma2 = torch.pow(self.sigma, 2)\n",
    "        return - 0.5*torch.log(2*np.pi*sigma2) - torch.pow(y - self.mu(x), 2) / (2*sigma2)"
   ]
  },
  {
   "cell_type": "markdown",
   "id": "eight-dollar",
   "metadata": {},
   "source": [
    "### Train model"
   ]
  },
  {
   "cell_type": "code",
   "execution_count": null,
   "id": "applied-accused",
   "metadata": {
    "jupyter": {
     "source_hidden": true
    }
   },
   "outputs": [],
   "source": [
    "x = torch.tensor(xkcd.x, dtype=torch.float)[:, None]\n",
    "y = torch.tensor(xkcd.y, dtype=torch.float)[:, None]\n",
    "\n",
    "simple_wiggle = RWiggle()\n",
    "epoch = 0\n",
    "optimizer = optim.Adam(simple_wiggle.parameters())\n",
    "\n",
    "# Store the log-likelihood of the dataset every 100 epochs\n",
    "# so we can plot it against epochs and compare with the \n",
    "# heteroscedastic model.\n",
    "simple_training_loglik = []\n",
    "\n",
    "with Interruptable() as check_interrupted:\n",
    "    while epoch < 50000:\n",
    "        check_interrupted()\n",
    "        optimizer.zero_grad()\n",
    "        loglikelihood = torch.mean(simple_wiggle(y, x))\n",
    "        (-loglikelihood).backward()\n",
    "        optimizer.step()\n",
    "        epoch += 1\n",
    "        if epoch % 100 == 0:\n",
    "            simple_training_loglik.append(loglikelihood.item())"
   ]
  },
  {
   "cell_type": "markdown",
   "id": "emerging-skiing",
   "metadata": {},
   "source": [
    "### Heteroscedastic model"
   ]
  },
  {
   "cell_type": "code",
   "execution_count": null,
   "id": "returning-silicon",
   "metadata": {
    "jupyter": {
     "source_hidden": true
    }
   },
   "outputs": [],
   "source": [
    "class HeteroscedasticRWiggle(nn.Module):\n",
    "    \"\"\"Y_i ~ N(f(x_i), f(x_i)^2)\"\"\"\n",
    "    def __init__(self):\n",
    "        super().__init__()\n",
    "        self.mu = Wiggle()\n",
    "        self.sigmapre = Wiggle()\n",
    "    def sigma(self, x):\n",
    "         return torch.nn.functional.softplus(self.sigmapre(x))\n",
    "        \n",
    "    def forward(self, y, x):\n",
    "        sigma2 = torch.pow(self.sigma(x), 2)\n",
    "        return - 0.5*torch.log(2*np.pi*sigma2) - torch.pow(y - self.mu(x), 2) / (2*sigma2)"
   ]
  },
  {
   "cell_type": "code",
   "execution_count": null,
   "id": "charged-helping",
   "metadata": {
    "jupyter": {
     "source_hidden": true
    }
   },
   "outputs": [],
   "source": [
    "heteroscedastic_wiggle = HeteroscedasticRWiggle()\n",
    "epoch = 0\n",
    "optimizer = optim.Adam(heteroscedastic_wiggle.parameters())\n",
    "heteroscedastic_training_likelihood = []\n",
    "\n",
    "with Interruptable() as check_interrupted:\n",
    "    while epoch < 50000:\n",
    "        check_interrupted()\n",
    "        optimizer.zero_grad()\n",
    "        loglikelihood = torch.mean(heteroscedastic_wiggle(y, x))\n",
    "        (-loglikelihood).backward()\n",
    "        optimizer.step()\n",
    "        epoch += 1\n",
    "        if epoch % 100 == 0:\n",
    "            heteroscedastic_training_likelihood.append(loglikelihood.item())"
   ]
  },
  {
   "cell_type": "markdown",
   "id": "ranging-burke",
   "metadata": {},
   "source": [
    "---\n",
    "## Variational autoencoders for (c)-(f)"
   ]
  },
  {
   "cell_type": "markdown",
   "id": "velvet-somewhere",
   "metadata": {},
   "source": [
    "### Simple VAE"
   ]
  },
  {
   "cell_type": "code",
   "execution_count": 3,
   "id": "clinical-ultimate",
   "metadata": {},
   "outputs": [],
   "source": [
    "class BernoulliImageGenerator(nn.Module):\n",
    "    def __init__(self, d=4):\n",
    "        super().__init__()\n",
    "        self.d = d\n",
    "        self.f = nn.Sequential(\n",
    "            nn.Linear(d, 128),\n",
    "            nn.LeakyReLU(),\n",
    "            nn.Linear(128, 1728),\n",
    "            nn.LeakyReLU(),\n",
    "            nn.Unflatten(1, (12,12,12)), # -> B×12×12×12\n",
    "            nn.Conv2d(12, 36, 3, 1),     # -> [B×36×10×10]\n",
    "            nn.LeakyReLU(),\n",
    "            nn.Flatten(1),               # -> [B×3600]\n",
    "            nn.Unflatten(1, (4,30,30)),  # -> [B×4×30×30]\n",
    "            nn.Conv2d(4, 4, 3, 1),       # -> [B×4×28×28]\n",
    "            nn.LeakyReLU(),\n",
    "            nn.Conv2d(4, 1, 1, 1),       # -> [B×1×28×28]\n",
    "            nn.Sigmoid()\n",
    "        )\n",
    "\n",
    "    def forward(self, z):\n",
    "        return self.f(z)\n",
    "\n",
    "    def loglik(self, x, z):\n",
    "        xr = self(z)\n",
    "        return (x*torch.log(xr) + (1-x)*torch.log(1-xr)).sum((1,2,3))\n",
    "\n",
    "\n",
    "class GaussianEncoder(nn.Module):\n",
    "    def __init__(self, decoder):\n",
    "        super().__init__()\n",
    "        self.d = decoder.d\n",
    "        self.f = decoder\n",
    "        self.g = nn.Sequential(\n",
    "            nn.Conv2d(1, 32, 3, 1),\n",
    "            nn.LeakyReLU(),\n",
    "            nn.Conv2d(32, 64, 3, 1),\n",
    "            nn.MaxPool2d(2),\n",
    "            nn.Flatten(1),\n",
    "            nn.Linear(9216, 128),\n",
    "            nn.LeakyReLU(),\n",
    "            nn.Linear(128, self.d*2)\n",
    "        )\n",
    "\n",
    "    def forward(self, x):\n",
    "        μτ = self.g(x)\n",
    "        μ,τ = μτ[:,:self.d], μτ[:,self.d:]\n",
    "        return μ, torch.exp(τ/2)\n",
    "\n",
    "    def loglik_lb(self, x):\n",
    "        μ,σ = self(x)\n",
    "        kl = 0.5 * (μ**2 + σ**2 - torch.log(σ**2) - 1).sum(1)\n",
    "        ε = torch.randn_like(σ)\n",
    "        ll = self.f.loglik(x, z=μ+σ*ε)\n",
    "        return ll - kl"
   ]
  },
  {
   "cell_type": "code",
   "execution_count": 7,
   "id": "cheap-pepper",
   "metadata": {},
   "outputs": [
    {
     "name": "stdout",
     "output_type": "stream",
     "text": [
      "epoch: 1, loglikelihood: -144.7\n",
      "epoch: 2, loglikelihood: -131.7\n",
      "epoch: 3, loglikelihood: -127.9\n",
      "epoch: 4, loglikelihood: -123.7\n",
      "epoch: 5, loglikelihood: -121.9\n",
      "epoch: 6, loglikelihood: -120.1\n",
      "epoch: 7, loglikelihood: -118.3\n",
      "epoch: 8, loglikelihood: -117.6\n",
      "epoch: 9, loglikelihood: -116.5\n",
      "epoch: 10, loglikelihood: -115.6\n"
     ]
    }
   ],
   "source": [
    "simple_vae = GaussianEncoder(BernoulliImageGenerator())\n",
    "optimizer = optim.Adam(simple_vae.parameters())\n",
    "epoch = 0\n",
    "\n",
    "while epoch < 10:\n",
    "    for batch_num, (images, _) in enumerate(batched_training_set):\n",
    "        optimizer.zero_grad()\n",
    "        loglik_lb = torch.mean(simple_vae.loglik_lb(images))\n",
    "        (-loglik_lb).backward()\n",
    "        optimizer.step()\n",
    "    epoch += 1\n",
    "    print(f\"epoch: {epoch}, loglikelihood: {loglik_lb.item():.4}\")"
   ]
  },
  {
   "cell_type": "code",
   "execution_count": null,
   "id": "recovered-bangkok",
   "metadata": {},
   "outputs": [
    {
     "name": "stdout",
     "output_type": "stream",
     "text": [
      "epoch: 1, loglikelihood: -142.0\n",
      "epoch: 2, loglikelihood: -118.3\n",
      "epoch: 3, loglikelihood: -111.7\n",
      "epoch: 4, loglikelihood: -108.3\n",
      "epoch: 5, loglikelihood: -107.3\n"
     ]
    }
   ],
   "source": [
    "vae_more_dims = GaussianEncoder(BernoulliImageGenerator(20))\n",
    "optimizer = optim.Adam(vae_more_dims.parameters())\n",
    "epoch = 0\n",
    "\n",
    "while epoch < 10:\n",
    "    for batch_num, (images, _) in enumerate(batched_training_set):\n",
    "        optimizer.zero_grad()\n",
    "        loglik_lb = torch.mean(vae_more_dims.loglik_lb(images))\n",
    "        (-loglik_lb).backward()\n",
    "        optimizer.step()\n",
    "    epoch += 1\n",
    "    print(f\"epoch: {epoch}, loglikelihood: {loglik_lb.item():.4}\")"
   ]
  },
  {
   "cell_type": "markdown",
   "id": "royal-despite",
   "metadata": {},
   "source": [
    "### VAE with expanded sampling"
   ]
  },
  {
   "cell_type": "code",
   "execution_count": 3,
   "id": "seasonal-clock",
   "metadata": {},
   "outputs": [],
   "source": [
    "class BernoulliImageGeneratorExpandedSampling(nn.Module):\n",
    "    def __init__(self, d=4):\n",
    "        super().__init__()\n",
    "        self.d = d\n",
    "        self.f = nn.Sequential(\n",
    "            nn.Linear(d, 128),\n",
    "            nn.LeakyReLU(),\n",
    "            nn.Linear(128, 1728),\n",
    "            nn.LeakyReLU(),\n",
    "            nn.Unflatten(1, (12,12,12)), # -> B×12×12×12\n",
    "            nn.Conv2d(12, 36, 3, 1),     # -> [B×36×10×10]\n",
    "            nn.LeakyReLU(),\n",
    "            nn.Flatten(1),               # -> [B×3600]\n",
    "            nn.Unflatten(1, (4,30,30)),  # -> [B×4×30×30]\n",
    "            nn.Conv2d(4, 4, 3, 1),       # -> [B×4×28×28]\n",
    "            nn.LeakyReLU(),\n",
    "            nn.Conv2d(4, 1, 1, 1),       # -> [B×1×28×28]\n",
    "            nn.Sigmoid()\n",
    "        )\n",
    "\n",
    "    def forward(self, z):\n",
    "        return self.f(z)\n",
    "\n",
    "    def loglik(self, x, z):\n",
    "        xr = self(z)\n",
    "        return (x*torch.log(xr) + (1-x)*torch.log(1-xr)).sum((1, 2, 3))\n",
    "\n",
    "\n",
    "class GaussianEncoderExpandedSampling(nn.Module):\n",
    "    def __init__(self, decoder):\n",
    "        super().__init__()\n",
    "        self.d = decoder.d\n",
    "        self.f = decoder\n",
    "        self.g = nn.Sequential(\n",
    "            nn.Conv2d(1, 32, 3, 1),\n",
    "            nn.LeakyReLU(),\n",
    "            nn.Conv2d(32, 64, 3, 1),\n",
    "            nn.MaxPool2d(2),\n",
    "            nn.Flatten(1),\n",
    "            nn.Linear(9216, 128),\n",
    "            nn.LeakyReLU(),\n",
    "            nn.Linear(128, self.d*2)\n",
    "        )\n",
    "        self.likelihoods = {}\n",
    "\n",
    "    def forward(self, x):\n",
    "        μτ = self.g(x)\n",
    "        μ,τ = μτ[:,:self.d], μτ[:,self.d:]\n",
    "        return μ, torch.exp(τ/2)\n",
    "\n",
    "    def loglik_lb(self, batch_num, x):\n",
    "        μ,σ = self(x)\n",
    "        kl = 0.5 * (μ**2 + σ**2 - torch.log(σ**2) - 1).sum(1)\n",
    "\n",
    "        ll = 0\n",
    "        num_samples = 1\n",
    "        for _ in range(num_samples):\n",
    "            ε = torch.randn_like(σ)\n",
    "            ll += self.f.loglik(x, z=μ+σ*ε)\n",
    "        ll /= num_samples\n",
    "\n",
    "        for i in range(x.shape[0]):\n",
    "            self.likelihoods[i + batch_num*100] = ll[i].detach().numpy()\n",
    "\n",
    "        # Sum up all likelihoods to find likelihood of dataset.\n",
    "        return ll - kl"
   ]
  },
  {
   "cell_type": "code",
   "execution_count": 4,
   "id": "applied-world",
   "metadata": {},
   "outputs": [
    {
     "data": {
      "text/plain": [
       "<All keys matched successfully>"
      ]
     },
     "execution_count": 4,
     "metadata": {},
     "output_type": "execute_result"
    }
   ],
   "source": [
    "expanded_sampling_vae = GaussianEncoderExpandedSampling(BernoulliImageGeneratorExpandedSampling())\n",
    "\n",
    "expanded_sampling_vae.load_state_dict(torch.load(\"expanded_sampling_vae.pt\"))"
   ]
  },
  {
   "cell_type": "code",
   "execution_count": 7,
   "id": "falling-arthritis",
   "metadata": {
    "collapsed": true,
    "jupyter": {
     "outputs_hidden": true
    }
   },
   "outputs": [
    {
     "name": "stdout",
     "output_type": "stream",
     "text": [
      "epoch: 1, loglikelihood: -161.8\n"
     ]
    },
    {
     "ename": "KeyboardInterrupt",
     "evalue": "",
     "output_type": "error",
     "traceback": [
      "\u001b[0;31m---------------------------------------------------------------------------\u001b[0m",
      "\u001b[0;31mKeyboardInterrupt\u001b[0m                         Traceback (most recent call last)",
      "\u001b[0;32m<ipython-input-7-593dc09f97b5>\u001b[0m in \u001b[0;36m<module>\u001b[0;34m\u001b[0m\n\u001b[1;32m      7\u001b[0m         \u001b[0moptimizer\u001b[0m\u001b[0;34m.\u001b[0m\u001b[0mzero_grad\u001b[0m\u001b[0;34m(\u001b[0m\u001b[0;34m)\u001b[0m\u001b[0;34m\u001b[0m\u001b[0;34m\u001b[0m\u001b[0m\n\u001b[1;32m      8\u001b[0m         \u001b[0mloglik_lb\u001b[0m \u001b[0;34m=\u001b[0m \u001b[0mtorch\u001b[0m\u001b[0;34m.\u001b[0m\u001b[0mmean\u001b[0m\u001b[0;34m(\u001b[0m\u001b[0mexpanded_sampling_vae\u001b[0m\u001b[0;34m.\u001b[0m\u001b[0mloglik_lb\u001b[0m\u001b[0;34m(\u001b[0m\u001b[0mbatch_num\u001b[0m\u001b[0;34m,\u001b[0m \u001b[0mimages\u001b[0m\u001b[0;34m)\u001b[0m\u001b[0;34m)\u001b[0m\u001b[0;34m\u001b[0m\u001b[0;34m\u001b[0m\u001b[0m\n\u001b[0;32m----> 9\u001b[0;31m         \u001b[0;34m(\u001b[0m\u001b[0;34m-\u001b[0m\u001b[0mloglik_lb\u001b[0m\u001b[0;34m)\u001b[0m\u001b[0;34m.\u001b[0m\u001b[0mbackward\u001b[0m\u001b[0;34m(\u001b[0m\u001b[0;34m)\u001b[0m\u001b[0;34m\u001b[0m\u001b[0;34m\u001b[0m\u001b[0m\n\u001b[0m\u001b[1;32m     10\u001b[0m         \u001b[0moptimizer\u001b[0m\u001b[0;34m.\u001b[0m\u001b[0mstep\u001b[0m\u001b[0;34m(\u001b[0m\u001b[0;34m)\u001b[0m\u001b[0;34m\u001b[0m\u001b[0;34m\u001b[0m\u001b[0m\n\u001b[1;32m     11\u001b[0m     \u001b[0mepoch\u001b[0m \u001b[0;34m+=\u001b[0m \u001b[0;36m1\u001b[0m\u001b[0;34m\u001b[0m\u001b[0;34m\u001b[0m\u001b[0m\n",
      "\u001b[0;32m~/anaconda3/envs/my_first_env/lib/python3.8/site-packages/torch/tensor.py\u001b[0m in \u001b[0;36mbackward\u001b[0;34m(self, gradient, retain_graph, create_graph)\u001b[0m\n\u001b[1;32m    219\u001b[0m                 \u001b[0mretain_graph\u001b[0m\u001b[0;34m=\u001b[0m\u001b[0mretain_graph\u001b[0m\u001b[0;34m,\u001b[0m\u001b[0;34m\u001b[0m\u001b[0;34m\u001b[0m\u001b[0m\n\u001b[1;32m    220\u001b[0m                 create_graph=create_graph)\n\u001b[0;32m--> 221\u001b[0;31m         \u001b[0mtorch\u001b[0m\u001b[0;34m.\u001b[0m\u001b[0mautograd\u001b[0m\u001b[0;34m.\u001b[0m\u001b[0mbackward\u001b[0m\u001b[0;34m(\u001b[0m\u001b[0mself\u001b[0m\u001b[0;34m,\u001b[0m \u001b[0mgradient\u001b[0m\u001b[0;34m,\u001b[0m \u001b[0mretain_graph\u001b[0m\u001b[0;34m,\u001b[0m \u001b[0mcreate_graph\u001b[0m\u001b[0;34m)\u001b[0m\u001b[0;34m\u001b[0m\u001b[0;34m\u001b[0m\u001b[0m\n\u001b[0m\u001b[1;32m    222\u001b[0m \u001b[0;34m\u001b[0m\u001b[0m\n\u001b[1;32m    223\u001b[0m     \u001b[0;32mdef\u001b[0m \u001b[0mregister_hook\u001b[0m\u001b[0;34m(\u001b[0m\u001b[0mself\u001b[0m\u001b[0;34m,\u001b[0m \u001b[0mhook\u001b[0m\u001b[0;34m)\u001b[0m\u001b[0;34m:\u001b[0m\u001b[0;34m\u001b[0m\u001b[0;34m\u001b[0m\u001b[0m\n",
      "\u001b[0;32m~/anaconda3/envs/my_first_env/lib/python3.8/site-packages/torch/autograd/__init__.py\u001b[0m in \u001b[0;36mbackward\u001b[0;34m(tensors, grad_tensors, retain_graph, create_graph, grad_variables)\u001b[0m\n\u001b[1;32m    128\u001b[0m         \u001b[0mretain_graph\u001b[0m \u001b[0;34m=\u001b[0m \u001b[0mcreate_graph\u001b[0m\u001b[0;34m\u001b[0m\u001b[0;34m\u001b[0m\u001b[0m\n\u001b[1;32m    129\u001b[0m \u001b[0;34m\u001b[0m\u001b[0m\n\u001b[0;32m--> 130\u001b[0;31m     Variable._execution_engine.run_backward(\n\u001b[0m\u001b[1;32m    131\u001b[0m         \u001b[0mtensors\u001b[0m\u001b[0;34m,\u001b[0m \u001b[0mgrad_tensors_\u001b[0m\u001b[0;34m,\u001b[0m \u001b[0mretain_graph\u001b[0m\u001b[0;34m,\u001b[0m \u001b[0mcreate_graph\u001b[0m\u001b[0;34m,\u001b[0m\u001b[0;34m\u001b[0m\u001b[0;34m\u001b[0m\u001b[0m\n\u001b[1;32m    132\u001b[0m         allow_unreachable=True)  # allow_unreachable flag\n",
      "\u001b[0;31mKeyboardInterrupt\u001b[0m: "
     ]
    }
   ],
   "source": [
    "expanded_sampling_vae = GaussianEncoderExpandedSampling(BernoulliImageGeneratorExpandedSampling())\n",
    "optimizer = optim.Adam(expanded_sampling_vae.parameters())\n",
    "epoch = 0\n",
    "\n",
    "while epoch < 5:\n",
    "    for batch_num, (images, labels) in enumerate(mnist_batched):\n",
    "        optimizer.zero_grad()\n",
    "        loglik_lb = torch.mean(expanded_sampling_vae.loglik_lb(batch_num, images))\n",
    "        (-loglik_lb).backward()\n",
    "        optimizer.step()\n",
    "    epoch += 1\n",
    "    print(f\"epoch: {epoch}, loglikelihood: {loglik_lb.item():.4}\")\n",
    "    torch.save(expanded_sampling_vae.state_dict(), 'expanded_sampling_vae.pt')"
   ]
  },
  {
   "cell_type": "markdown",
   "id": "authentic-disclaimer",
   "metadata": {},
   "source": [
    "### Conditional VAE"
   ]
  },
  {
   "cell_type": "code",
   "execution_count": 13,
   "id": "aboriginal-freeze",
   "metadata": {},
   "outputs": [],
   "source": [
    "def one_hot_encode(y, num_classes):\n",
    "    encoded = torch.zeros(len(y), num_classes)\n",
    "    for i in range(len(y)):\n",
    "        encoded[i, y[i]-1] = 1\n",
    "    return encoded"
   ]
  },
  {
   "cell_type": "code",
   "execution_count": 10,
   "id": "incomplete-calgary",
   "metadata": {},
   "outputs": [],
   "source": [
    "class BernoulliImageGeneratorWithStyleCapture(nn.Module):\n",
    "    def __init__(self, d=4):\n",
    "        super().__init__()\n",
    "        self.d = d\n",
    "        self.f = nn.Sequential(\n",
    "            nn.Linear(d + 10, 128),      \n",
    "            nn.LeakyReLU(),\n",
    "            nn.Linear(128, 1728),\n",
    "            nn.LeakyReLU(),\n",
    "            nn.Unflatten(1, (12,12,12)), # -> B×12×12×12\n",
    "            nn.Conv2d(12, 36, 3, 1),     # -> [B×36×10×10]\n",
    "            nn.LeakyReLU(),\n",
    "            nn.Flatten(1),               # -> [B×3600]\n",
    "            nn.Unflatten(1, (4,30,30)),  # -> [B×4×30×30]\n",
    "            nn.Conv2d(4, 4, 3, 1),       # -> [B×4×28×28]\n",
    "            nn.LeakyReLU(),\n",
    "            nn.Conv2d(4, 1, 1, 1),       # -> [B×1×28×28]\n",
    "            nn.Sigmoid()\n",
    "        )\n",
    "\n",
    "    def forward(self, z, y):\n",
    "        # Coerce z and y into a shape that we can feed to the network.\n",
    "        # z is 100x4, y is 100x10\n",
    "\n",
    "        z = torch.cat([z, y], dim=1)\n",
    "        \n",
    "        return self.f(z)\n",
    "\n",
    "    def loglik(self, x, z, y):\n",
    "        xr = self(z, y)\n",
    "        return (x*torch.log(xr) + (1-x)*torch.log(1-xr)).sum((1,2,3))\n",
    "\n",
    "\n",
    "class GaussianEncoderWithStyleCapture(nn.Module):\n",
    "    def __init__(self, decoder):\n",
    "        super().__init__()\n",
    "        self.d = decoder.d\n",
    "        self.f = decoder\n",
    "        self.g = nn.Sequential(\n",
    "            nn.Conv2d(2, 32, 3, 1),          # There are now two channels to account for the added label.\n",
    "            nn.LeakyReLU(),\n",
    "            nn.Conv2d(32, 64, 3, 1),\n",
    "            nn.MaxPool2d(2),\n",
    "            nn.Flatten(1),\n",
    "            nn.Linear(9216, 128),\n",
    "            nn.LeakyReLU(),\n",
    "            nn.Linear(128, self.d*2)\n",
    "        )\n",
    "\n",
    "    def forward(self, x, y):\n",
    "        \n",
    "        # TODO: Coerce x and y into a form that we can input into the network.\n",
    "        # Encode y as a 1x28x28, then stack it as an extra channel in the image.\n",
    "        # So updated y is 100x1x28x28.\n",
    "        transform_labels = nn.Linear(10, 784)\n",
    "        \n",
    "        y_transformed = [transform_labels(y_i) for y_i in y]\n",
    "        y_transformed = torch.tensor([y_i.view(1, 28, 28).detach().numpy() for y_i in y_transformed]) # Reshaped to Bx1x28x28. Do I need to unsqueeze here given y is already batched?\n",
    "        \n",
    "        x = torch.cat([x, y_transformed], dim=1)\n",
    "        \n",
    "        mu_tau = self.g(x)\n",
    "        mu, tau = mu_tau[:,:self.d], mu_tau[:,self.d:]\n",
    "        return mu, torch.exp(tau/2)\n",
    "\n",
    "    def loglik_lb(self, x, y):\n",
    "        \"\"\"x is 100x1x28x28. y is 100x10 (one-hot encoded class labels)\"\"\"\n",
    "        \n",
    "        mu, sigma = self(x, y)\n",
    "        \n",
    "        kl = 0.5 * (mu**2 + sigma**2 - torch.log(sigma**2) - 1).sum(1)\n",
    "        \n",
    "        # Sampling from epsilon is equivalent to generating multiple Z~.\n",
    "        epsilon = torch.randn_like(sigma)\n",
    "        z = mu + sigma*epsilon\n",
    "        \n",
    "        ll = self.f.loglik(x, z, y)\n",
    "        return ll - kl"
   ]
  },
  {
   "cell_type": "code",
   "execution_count": 11,
   "id": "built-immunology",
   "metadata": {},
   "outputs": [
    {
     "data": {
      "text/plain": [
       "<All keys matched successfully>"
      ]
     },
     "execution_count": 11,
     "metadata": {},
     "output_type": "execute_result"
    }
   ],
   "source": [
    "cvae = GaussianEncoderWithStyleCapture(BernoulliImageGeneratorWithStyleCapture(4))\n",
    "\n",
    "cvae.load_state_dict(torch.load(\"cvae.pt\"))"
   ]
  }
 ],
 "metadata": {
  "kernelspec": {
   "display_name": "Python 3",
   "language": "python",
   "name": "python3"
  },
  "language_info": {
   "codemirror_mode": {
    "name": "ipython",
    "version": 3
   },
   "file_extension": ".py",
   "mimetype": "text/x-python",
   "name": "python",
   "nbconvert_exporter": "python",
   "pygments_lexer": "ipython3",
   "version": "3.8.5"
  }
 },
 "nbformat": 4,
 "nbformat_minor": 5
}
